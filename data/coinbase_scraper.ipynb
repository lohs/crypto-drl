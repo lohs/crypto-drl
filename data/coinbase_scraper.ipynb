{
 "cells": [
  {
   "cell_type": "code",
   "execution_count": 4,
   "metadata": {},
   "outputs": [],
   "source": [
    "import cbpro # DO NOT UPDATE REQUESTS; CBPRO ONLY WORKS WITH 2.13\n",
    "import pandas as pd\n",
    "import datetime\n",
    "import csv\n",
    "import time\n",
    "cb_public = cbpro.PublicClient()"
   ]
  },
  {
   "cell_type": "code",
   "execution_count": 5,
   "metadata": {},
   "outputs": [],
   "source": [
    "# ISO 8601 - YYYY-MM-DD HH:MM:SS\n",
    "# create list of start dates\n",
    "start = datetime.datetime(2019, 12, 19, 00, 00, 00) # first wuhan patients as per cdc\n",
    "end = datetime.datetime(2021, 12, 20)\n",
    "start_date_list = pd.date_range(start, end, freq=\"D\")\n",
    "\n",
    "# create list of end dates\n",
    "start = datetime.datetime(2019, 12, 19, 23, 59, 00)\n",
    "end = datetime.datetime(2021, 12, 20)\n",
    "end_date_list = pd.date_range(start, end, freq=\"D\")\n",
    "\n",
    "# CHOOSE PAIR TO SCRAPE\n",
    "crypto_pair = [\"ETH-USD\", \"BTC-USD\"]"
   ]
  },
  {
   "cell_type": "code",
   "execution_count": 6,
   "metadata": {},
   "outputs": [],
   "source": [
    "# get_product_historic_rates is a public endpoint\n",
    "# \"We throttle public endpoints by IP: 10 requests per second, up to 15 requests per second in bursts. Some endpoints may have custom rate limits.\"\"\n",
    "# granularity = tick frequency in seconds (60 = 1 min, 300 = 5 min, 900 = 15 min, 3600 = 1 hr, 21600 = 6 hrs, 86400 = 24 hrs)\n",
    "# If either one of the start or end fields are not provided then both fields will be ignored. If a custom time range is not declared then one ending now is selected.\n",
    "# The maximum number of data points for a single request is 300 candles\n",
    "\n",
    "# time: bucket start time\n",
    "# low: lowest price during the bucket interval\n",
    "# high: highest price during the bucket interval\n",
    "# open: opening price (first trade) in the bucket interval\n",
    "# close: closing price (last trade) in the bucket interval\n",
    "# volume: volume of trading activity during the bucket interval\n",
    "\n",
    "# Runtime: 19 min 1.1s\n",
    "header = [\"time\", \"low\", \"high\", \"open\", \"close\", \"volume\"]\n",
    "#time_period = {\"hr_24\" : 86400,\"hr_1\" : 3600, \"min_15\" : 900, \"min_5\" : 300}\n",
    "time_period = {\"hr_24\" : 86400,\"hr_1\" : 3600}\n",
    "for pair in crypto_pair:\n",
    "    for period in time_period:\n",
    "        # create csv files with header\n",
    "        with open(f'{pair}_{period}.csv', 'w', newline='') as file:\n",
    "            writer = csv.writer(file)\n",
    "            writer.writerow(header)\n",
    "        for start_date, end_date in zip(start_date_list, end_date_list):\n",
    "            historical = pd.DataFrame(cb_public.get_product_historic_rates(product_id=pair, start = start_date, end = end_date, granularity = time_period[period]))\n",
    "            historical.columns = header\n",
    "            historical.sort_values(by='time', ascending=True, inplace=True)\n",
    "            # don't write multiple headers\n",
    "            historical.to_csv(f'{pair}_{period}.csv', header= False, index=False, mode='a')\n",
    "            time.sleep(.1) # min value is .1 b/c public endpoint rate limit = 10/s"
   ]
  },
  {
   "cell_type": "markdown",
   "metadata": {},
   "source": [
    "300 data points * 5 minute ticks = 25 hour time frame (1500 minutes)\n",
    "\n",
    "10 requests per second = 10.416 days (250 hours)\n",
    "\n",
    "730 days / 10 = 73 seconds total"
   ]
  }
 ],
 "metadata": {
  "interpreter": {
   "hash": "e7370f93d1d0cde622a1f8e1c04877d8463912d04d973331ad4851f04de6915a"
  },
  "kernelspec": {
   "display_name": "Python 3.8.10 64-bit",
   "name": "python3"
  },
  "language_info": {
   "codemirror_mode": {
    "name": "ipython",
    "version": 3
   },
   "file_extension": ".py",
   "mimetype": "text/x-python",
   "name": "python",
   "nbconvert_exporter": "python",
   "pygments_lexer": "ipython3",
   "version": "3.8.10"
  },
  "orig_nbformat": 4
 },
 "nbformat": 4,
 "nbformat_minor": 2
}
