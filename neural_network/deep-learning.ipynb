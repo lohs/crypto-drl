{
 "cells": [
  {
   "cell_type": "code",
   "execution_count": 3,
   "metadata": {},
   "outputs": [],
   "source": [
    "import tensorflow as tf\n",
    "from tensorflow import keras\n",
    "from tensorflow.keras import layers"
   ]
  },
  {
   "cell_type": "code",
   "execution_count": 5,
   "metadata": {},
   "outputs": [],
   "source": [
    "import gym"
   ]
  },
  {
   "cell_type": "code",
   "execution_count": 2,
   "metadata": {},
   "outputs": [],
   "source": [
    "import numpy as np\n",
    "import os\n",
    "\n",
    "# to make this notebook's output stable across runs\n",
    "np.random.seed(42)\n",
    "tf.random.set_seed(42)\n",
    "\n",
    "# To plot pretty figures\n",
    "%matplotlib inline\n",
    "import matplotlib as mpl\n",
    "import matplotlib.pyplot as plt\n",
    "mpl.rc('axes', labelsize=14)\n",
    "mpl.rc('xtick', labelsize=12)\n",
    "mpl.rc('ytick', labelsize=12)"
   ]
  },
  {
   "cell_type": "markdown",
   "metadata": {},
   "source": [
    "LTSM Autoencoder as feature detector\n",
    "n Inputs must = n of Outputs\n",
    "3 months - 90 days\n",
    "input layer = 90 x 5 (low, high, open, close, vol)\n",
    "hidden 1 = 32?\n",
    "hidden 2 = 32?\n",
    "output layer = 90 x 5"
   ]
  },
  {
   "cell_type": "markdown",
   "metadata": {},
   "source": [
    "Building a recurrent autoencoder is straightforward: the encoder\n",
    "is typically a sequence-to-vector RNN which compresses the input\n",
    "sequence down to a single vector. The decoder is a vector-to-sequence RNN\n",
    "that does the reverse:"
   ]
  },
  {
   "cell_type": "code",
   "execution_count": 6,
   "metadata": {},
   "outputs": [],
   "source": [
    "n_features = 5 # (low, high, open, close, vol)\n",
    "window_length = 90\n",
    "\n",
    "recurrent_encoder = keras.models.Sequential([\n",
    "keras.layers.LSTM(100, return_sequences=True, input_shape=[None, n_features]),\n",
    "keras.layers.LSTM(30)\n",
    "])\n",
    "\n",
    "recurrent_decoder = keras.models.Sequential([\n",
    "keras.layers.RepeatVector(n_features, input_shape=[30]),\n",
    "keras.layers.LSTM(100, return_sequences=True),\n",
    "keras.layers.TimeDistributed(keras.layers.Dense(n_features, activation=\"tanh\"))\n",
    "])\n",
    "recurrent_ae = keras.models.Sequential([recurrent_encoder, recurrent_decoder])"
   ]
  },
  {
   "cell_type": "code",
   "execution_count": 8,
   "metadata": {},
   "outputs": [
    {
     "name": "stdout",
     "output_type": "stream",
     "text": [
      "Model: \"sequential_3\"\n",
      "_________________________________________________________________\n",
      " Layer (type)                Output Shape              Param #   \n",
      "=================================================================\n",
      " sequential_1 (Sequential)   (None, 30)                58120     \n",
      "                                                                 \n",
      " sequential_2 (Sequential)   (None, 5, 5)              52905     \n",
      "                                                                 \n",
      "=================================================================\n",
      "Total params: 111,025\n",
      "Trainable params: 111,025\n",
      "Non-trainable params: 0\n",
      "_________________________________________________________________\n"
     ]
    }
   ],
   "source": [
    "recurrent_ae.summary()"
   ]
  }
 ],
 "metadata": {
  "interpreter": {
   "hash": "fe24fa82ef0276aa3bebf6833b77a4deb33ded5956560b7688b0e7890d905389"
  },
  "kernelspec": {
   "display_name": "Python 3.8.10 64-bit ('neural_network': venv)",
   "language": "python",
   "name": "python3"
  },
  "language_info": {
   "codemirror_mode": {
    "name": "ipython",
    "version": 3
   },
   "file_extension": ".py",
   "mimetype": "text/x-python",
   "name": "python",
   "nbconvert_exporter": "python",
   "pygments_lexer": "ipython3",
   "version": "3.8.10"
  },
  "orig_nbformat": 4
 },
 "nbformat": 4,
 "nbformat_minor": 2
}
