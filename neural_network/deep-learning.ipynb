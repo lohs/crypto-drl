{
 "cells": [
  {
   "cell_type": "code",
   "execution_count": 1,
   "metadata": {},
   "outputs": [],
   "source": [
    "import tensorflow as tf\n",
    "from tensorflow import keras\n",
    "from tensorflow.keras import layers"
   ]
  },
  {
   "cell_type": "code",
   "execution_count": 5,
   "metadata": {},
   "outputs": [],
   "source": [
    "import gym"
   ]
  },
  {
   "cell_type": "code",
   "execution_count": 2,
   "metadata": {},
   "outputs": [],
   "source": [
    "import numpy as np\n",
    "import pandas as pd\n",
    "import os\n",
    "\n",
    "# to make this notebook's output stable across runs\n",
    "np.random.seed(42)\n",
    "tf.random.set_seed(42)\n",
    "\n",
    "# To plot pretty figures\n",
    "%matplotlib inline\n",
    "import matplotlib as mpl\n",
    "import matplotlib.pyplot as plt\n",
    "mpl.rc('axes', labelsize=14)\n",
    "mpl.rc('xtick', labelsize=12)\n",
    "mpl.rc('ytick', labelsize=12)\n",
    "\n",
    "transaction_cost = .001"
   ]
  },
  {
   "cell_type": "code",
   "execution_count": 73,
   "metadata": {},
   "outputs": [],
   "source": [
    "daily_eth = pd.read_csv('../data/ETH-USD_hr_24.csv', sep=',')\n",
    "#daily_eth[\"time\"] = pd.to_datetime(daily_eth['time'], unit='s')"
   ]
  },
  {
   "cell_type": "code",
   "execution_count": 74,
   "metadata": {},
   "outputs": [],
   "source": [
    "# assumption: make decision at open of trading period\n",
    "# shift these cols\n",
    "shift_header = ['low', 'high', 'open','close', 'volume']\n",
    "for col in shift_header:\n",
    "    new_header = f'last_{col}'\n",
    "    daily_eth[new_header] = daily_eth[col].shift(1)"
   ]
  },
  {
   "cell_type": "code",
   "execution_count": 75,
   "metadata": {},
   "outputs": [],
   "source": [
    "daily_eth = daily_eth.rename(columns={'open':'current_open', 'close':'target_close'})"
   ]
  },
  {
   "cell_type": "code",
   "execution_count": 76,
   "metadata": {},
   "outputs": [],
   "source": [
    "# drop unnecessary col\n",
    "drop_headers = ['low', 'high', 'volume']\n",
    "daily_eth = daily_eth.drop(drop_headers, axis = 1)"
   ]
  },
  {
   "cell_type": "code",
   "execution_count": 77,
   "metadata": {},
   "outputs": [],
   "source": [
    "# rearrange cols\n",
    "daily_eth = daily_eth[['time', 'last_low', 'last_high', 'last_open','last_close','last_volume', 'current_open', 'target_close']]"
   ]
  },
  {
   "cell_type": "code",
   "execution_count": 78,
   "metadata": {},
   "outputs": [],
   "source": [
    "def label_trade(diff):\n",
    "    if(abs(diff) <= transaction_cost):\n",
    "        return 0\n",
    "    elif diff > transaction_cost:\n",
    "        return 1\n",
    "    else:\n",
    "        return -1"
   ]
  },
  {
   "cell_type": "code",
   "execution_count": 79,
   "metadata": {},
   "outputs": [],
   "source": [
    "daily_eth['target_return'] = (daily_eth['target_close'] - daily_eth['current_open']) / daily_eth['current_open']\n",
    "daily_eth['target_trade'] = daily_eth['target_return'].apply(label_trade)\n"
   ]
  },
  {
   "cell_type": "code",
   "execution_count": 82,
   "metadata": {},
   "outputs": [
    {
     "data": {
      "text/plain": [
       " 1    389\n",
       "-1    307\n",
       " 0     16\n",
       "Name: target_trade, dtype: int64"
      ]
     },
     "execution_count": 82,
     "metadata": {},
     "output_type": "execute_result"
    }
   ],
   "source": [
    "daily_eth['target_trade'].value_counts()"
   ]
  },
  {
   "cell_type": "code",
   "execution_count": 81,
   "metadata": {},
   "outputs": [],
   "source": [
    "daily_eth.to_csv('labeled_daily_eth.csv', header=True, index=False, mode='w')"
   ]
  },
  {
   "cell_type": "code",
   "execution_count": 89,
   "metadata": {},
   "outputs": [
    {
     "data": {
      "text/plain": [
       "40357.03075570814"
      ]
     },
     "execution_count": 89,
     "metadata": {},
     "output_type": "execute_result"
    }
   ],
   "source": [
    "# drop first time period\n",
    "daily_eth = daily_eth.dropna()\n",
    "\n",
    "# assumptions:\n",
    "# perfect close prediction\n",
    "# end period in cash\n",
    "# 0 cost to short sell\n",
    "daily_eth['profit'] = daily_eth['target_return'] * daily_eth['target_trade'] * daily_eth['target_close'] * (1 - transaction_cost)\n",
    "daily_eth['profit'].sum()"
   ]
  },
  {
   "cell_type": "code",
   "execution_count": 90,
   "metadata": {},
   "outputs": [
    {
     "data": {
      "text/plain": [
       " 1    389\n",
       "-1    306\n",
       " 0     16\n",
       "Name: target_trade, dtype: int64"
      ]
     },
     "execution_count": 90,
     "metadata": {},
     "output_type": "execute_result"
    }
   ],
   "source": [
    "daily_eth['target_trade'].value_counts()"
   ]
  },
  {
   "cell_type": "code",
   "execution_count": 91,
   "metadata": {},
   "outputs": [
    {
     "data": {
      "text/plain": [
       "<AxesSubplot:>"
      ]
     },
     "execution_count": 91,
     "metadata": {},
     "output_type": "execute_result"
    },
    {
     "data": {
      "image/png": "[encoded data removed]",
      "text/plain": [
       "<Figure size 432x288 with 1 Axes>"
      ]
     },
     "metadata": {
      "needs_background": "light"
     },
     "output_type": "display_data"
    }
   ],
   "source": [
    "daily_eth['target_return'].plot()"
   ]
  },
  {
   "cell_type": "code",
   "execution_count": 17,
   "metadata": {},
   "outputs": [],
   "source": [
    "slippage = (daily_eth['open'] - daily_eth['last_close']) / daily_eth['last_close']"
   ]
  },
  {
   "cell_type": "code",
   "execution_count": null,
   "metadata": {},
   "outputs": [],
   "source": [
    "slippage.describe()"
   ]
  },
  {
   "cell_type": "code",
   "execution_count": 92,
   "metadata": {},
   "outputs": [],
   "source": [
    "def partition(feature_matrix, target_vector, t):\n",
    "    split = int(len(feature_matrix) * (1-t))\n",
    "\n",
    "    X_train = feature_matrix[:split]\n",
    "    X_test = feature_matrix[split:]\n",
    "\n",
    "    y_train = target_vector[:split]\n",
    "    y_test = target_vector[split:]\n",
    "\n",
    "    return X_train, X_test, y_train, y_test"
   ]
  },
  {
   "cell_type": "code",
   "execution_count": 96,
   "metadata": {},
   "outputs": [],
   "source": [
    "feature_matrix = daily_eth.drop(columns=['time', 'target_close', 'target_trade', 'target_return', 'profit'])\n",
    "\n",
    "# target_close - regression\n",
    "# target_trade - classification {-1 : sell, 0: cash, 1: buy}\n",
    "target = daily_eth['target_trade']"
   ]
  },
  {
   "cell_type": "code",
   "execution_count": 109,
   "metadata": {},
   "outputs": [],
   "source": [
    "# partition into 80% train, 20% test\n",
    "X_train, X_test, y_train, y_test = partition(feature_matrix, target, 0.2)"
   ]
  },
  {
   "cell_type": "code",
   "execution_count": 98,
   "metadata": {},
   "outputs": [
    {
     "data": {
      "text/plain": [
       "array([[<AxesSubplot:title={'center':'last_low'}>,\n",
       "        <AxesSubplot:title={'center':'last_high'}>],\n",
       "       [<AxesSubplot:title={'center':'last_open'}>,\n",
       "        <AxesSubplot:title={'center':'last_close'}>],\n",
       "       [<AxesSubplot:title={'center':'last_volume'}>,\n",
       "        <AxesSubplot:title={'center':'current_open'}>]], dtype=object)"
      ]
     },
     "execution_count": 98,
     "metadata": {},
     "output_type": "execute_result"
    },
    {
     "data": {
      "image/png": "[encoded data removed]",
      "text/plain": [
       "<Figure size 1152x1152 with 6 Axes>"
      ]
     },
     "metadata": {
      "needs_background": "light"
     },
     "output_type": "display_data"
    }
   ],
   "source": [
    "X_train.hist(figsize=(16, 16))"
   ]
  },
  {
   "cell_type": "code",
   "execution_count": 99,
   "metadata": {},
   "outputs": [
    {
     "data": {
      "text/plain": [
       "<AxesSubplot:>"
      ]
     },
     "execution_count": 99,
     "metadata": {},
     "output_type": "execute_result"
    },
    {
     "data": {
      "image/png": "[encoded data removed]",
      "text/plain": [
       "<Figure size 432x288 with 1 Axes>"
      ]
     },
     "metadata": {
      "needs_background": "light"
     },
     "output_type": "display_data"
    }
   ],
   "source": [
    "# very different range for each variable\n",
    "X_train.boxplot()"
   ]
  },
  {
   "cell_type": "code",
   "execution_count": 102,
   "metadata": {},
   "outputs": [
    {
     "data": {
      "text/html": [
       "<div>\n",
       "<style scoped>\n",
       "    .dataframe tbody tr th:only-of-type {\n",
       "        vertical-align: middle;\n",
       "    }\n",
       "\n",
       "    .dataframe tbody tr th {\n",
       "        vertical-align: top;\n",
       "    }\n",
       "\n",
       "    .dataframe thead th {\n",
       "        text-align: right;\n",
       "    }\n",
       "</style>\n",
       "<table border=\"1\" class=\"dataframe\">\n",
       "  <thead>\n",
       "    <tr style=\"text-align: right;\">\n",
       "      <th></th>\n",
       "      <th>count</th>\n",
       "      <th>mean</th>\n",
       "      <th>std</th>\n",
       "      <th>min</th>\n",
       "      <th>25%</th>\n",
       "      <th>50%</th>\n",
       "      <th>75%</th>\n",
       "      <th>max</th>\n",
       "    </tr>\n",
       "  </thead>\n",
       "  <tbody>\n",
       "    <tr>\n",
       "      <th>last_low</th>\n",
       "      <td>568.0</td>\n",
       "      <td>842.2307</td>\n",
       "      <td>874.2236</td>\n",
       "      <td>90.0000</td>\n",
       "      <td>217.2200</td>\n",
       "      <td>375.6850</td>\n",
       "      <td>1510.2225</td>\n",
       "      <td>3.760000e+03</td>\n",
       "    </tr>\n",
       "    <tr>\n",
       "      <th>last_high</th>\n",
       "      <td>568.0</td>\n",
       "      <td>928.8202</td>\n",
       "      <td>979.1147</td>\n",
       "      <td>118.8800</td>\n",
       "      <td>230.4975</td>\n",
       "      <td>399.1300</td>\n",
       "      <td>1699.4250</td>\n",
       "      <td>4.384430e+03</td>\n",
       "    </tr>\n",
       "    <tr>\n",
       "      <th>last_open</th>\n",
       "      <td>568.0</td>\n",
       "      <td>888.9329</td>\n",
       "      <td>932.2093</td>\n",
       "      <td>110.3000</td>\n",
       "      <td>224.3125</td>\n",
       "      <td>387.4450</td>\n",
       "      <td>1601.8825</td>\n",
       "      <td>4.179770e+03</td>\n",
       "    </tr>\n",
       "    <tr>\n",
       "      <th>last_close</th>\n",
       "      <td>568.0</td>\n",
       "      <td>892.4294</td>\n",
       "      <td>933.0923</td>\n",
       "      <td>110.3000</td>\n",
       "      <td>224.7100</td>\n",
       "      <td>387.7050</td>\n",
       "      <td>1617.8150</td>\n",
       "      <td>4.179760e+03</td>\n",
       "    </tr>\n",
       "    <tr>\n",
       "      <th>last_volume</th>\n",
       "      <td>568.0</td>\n",
       "      <td>240549.2279</td>\n",
       "      <td>205716.3921</td>\n",
       "      <td>25941.7402</td>\n",
       "      <td>111819.0715</td>\n",
       "      <td>180530.1032</td>\n",
       "      <td>287733.5827</td>\n",
       "      <td>1.664159e+06</td>\n",
       "    </tr>\n",
       "    <tr>\n",
       "      <th>current_open</th>\n",
       "      <td>568.0</td>\n",
       "      <td>892.4248</td>\n",
       "      <td>933.0867</td>\n",
       "      <td>110.3000</td>\n",
       "      <td>224.8275</td>\n",
       "      <td>387.6550</td>\n",
       "      <td>1617.9500</td>\n",
       "      <td>4.179770e+03</td>\n",
       "    </tr>\n",
       "  </tbody>\n",
       "</table>\n",
       "</div>"
      ],
      "text/plain": [
       "              count         mean          std         min          25%  \\\n",
       "last_low      568.0     842.2307     874.2236     90.0000     217.2200   \n",
       "last_high     568.0     928.8202     979.1147    118.8800     230.4975   \n",
       "last_open     568.0     888.9329     932.2093    110.3000     224.3125   \n",
       "last_close    568.0     892.4294     933.0923    110.3000     224.7100   \n",
       "last_volume   568.0  240549.2279  205716.3921  25941.7402  111819.0715   \n",
       "current_open  568.0     892.4248     933.0867    110.3000     224.8275   \n",
       "\n",
       "                      50%          75%           max  \n",
       "last_low         375.6850    1510.2225  3.760000e+03  \n",
       "last_high        399.1300    1699.4250  4.384430e+03  \n",
       "last_open        387.4450    1601.8825  4.179770e+03  \n",
       "last_close       387.7050    1617.8150  4.179760e+03  \n",
       "last_volume   180530.1032  287733.5827  1.664159e+06  \n",
       "current_open     387.6550    1617.9500  4.179770e+03  "
      ]
     },
     "execution_count": 102,
     "metadata": {},
     "output_type": "execute_result"
    }
   ],
   "source": [
    "X_train.describe().T.round(4)"
   ]
  },
  {
   "cell_type": "code",
   "execution_count": 110,
   "metadata": {},
   "outputs": [
    {
     "data": {
      "text/html": [
       "<div>\n",
       "<style scoped>\n",
       "    .dataframe tbody tr th:only-of-type {\n",
       "        vertical-align: middle;\n",
       "    }\n",
       "\n",
       "    .dataframe tbody tr th {\n",
       "        vertical-align: top;\n",
       "    }\n",
       "\n",
       "    .dataframe thead th {\n",
       "        text-align: right;\n",
       "    }\n",
       "</style>\n",
       "<table border=\"1\" class=\"dataframe\">\n",
       "  <thead>\n",
       "    <tr style=\"text-align: right;\">\n",
       "      <th></th>\n",
       "      <th>last_low</th>\n",
       "      <th>last_high</th>\n",
       "      <th>last_open</th>\n",
       "      <th>last_close</th>\n",
       "      <th>last_volume</th>\n",
       "      <th>current_open</th>\n",
       "    </tr>\n",
       "  </thead>\n",
       "  <tbody>\n",
       "    <tr>\n",
       "      <th>2</th>\n",
       "      <td>0.000239</td>\n",
       "      <td>-0.035717</td>\n",
       "      <td>-0.035443</td>\n",
       "      <td>0.001482</td>\n",
       "      <td>-0.527550</td>\n",
       "      <td>0.001404</td>\n",
       "    </tr>\n",
       "    <tr>\n",
       "      <th>3</th>\n",
       "      <td>0.007318</td>\n",
       "      <td>-0.006727</td>\n",
       "      <td>0.001404</td>\n",
       "      <td>-0.009971</td>\n",
       "      <td>-0.415453</td>\n",
       "      <td>-0.009349</td>\n",
       "    </tr>\n",
       "    <tr>\n",
       "      <th>4</th>\n",
       "      <td>0.002053</td>\n",
       "      <td>0.037135</td>\n",
       "      <td>-0.009349</td>\n",
       "      <td>0.041781</td>\n",
       "      <td>0.558876</td>\n",
       "      <td>0.041208</td>\n",
       "    </tr>\n",
       "    <tr>\n",
       "      <th>5</th>\n",
       "      <td>-0.005753</td>\n",
       "      <td>0.015163</td>\n",
       "      <td>0.041208</td>\n",
       "      <td>-0.034894</td>\n",
       "      <td>0.539273</td>\n",
       "      <td>-0.035121</td>\n",
       "    </tr>\n",
       "    <tr>\n",
       "      <th>6</th>\n",
       "      <td>0.002695</td>\n",
       "      <td>-0.042443</td>\n",
       "      <td>-0.035121</td>\n",
       "      <td>-0.000548</td>\n",
       "      <td>-0.438116</td>\n",
       "      <td>-0.000626</td>\n",
       "    </tr>\n",
       "    <tr>\n",
       "      <th>...</th>\n",
       "      <td>...</td>\n",
       "      <td>...</td>\n",
       "      <td>...</td>\n",
       "      <td>...</td>\n",
       "      <td>...</td>\n",
       "      <td>...</td>\n",
       "    </tr>\n",
       "    <tr>\n",
       "      <th>564</th>\n",
       "      <td>0.036618</td>\n",
       "      <td>0.066764</td>\n",
       "      <td>0.033145</td>\n",
       "      <td>0.043198</td>\n",
       "      <td>0.280327</td>\n",
       "      <td>0.043013</td>\n",
       "    </tr>\n",
       "    <tr>\n",
       "      <th>565</th>\n",
       "      <td>-0.013951</td>\n",
       "      <td>-0.027113</td>\n",
       "      <td>0.043013</td>\n",
       "      <td>-0.054155</td>\n",
       "      <td>0.235726</td>\n",
       "      <td>-0.054204</td>\n",
       "    </tr>\n",
       "    <tr>\n",
       "      <th>566</th>\n",
       "      <td>0.016213</td>\n",
       "      <td>0.010996</td>\n",
       "      <td>-0.054204</td>\n",
       "      <td>0.056659</td>\n",
       "      <td>0.061430</td>\n",
       "      <td>0.056823</td>\n",
       "    </tr>\n",
       "    <tr>\n",
       "      <th>567</th>\n",
       "      <td>0.045166</td>\n",
       "      <td>0.026038</td>\n",
       "      <td>0.056823</td>\n",
       "      <td>-0.002162</td>\n",
       "      <td>-0.036160</td>\n",
       "      <td>-0.001964</td>\n",
       "    </tr>\n",
       "    <tr>\n",
       "      <th>568</th>\n",
       "      <td>-0.091607</td>\n",
       "      <td>-0.035555</td>\n",
       "      <td>-0.001964</td>\n",
       "      <td>-0.086269</td>\n",
       "      <td>0.401548</td>\n",
       "      <td>-0.086873</td>\n",
       "    </tr>\n",
       "  </tbody>\n",
       "</table>\n",
       "<p>567 rows × 6 columns</p>\n",
       "</div>"
      ],
      "text/plain": [
       "     last_low  last_high  last_open  last_close  last_volume  current_open\n",
       "2    0.000239  -0.035717  -0.035443    0.001482    -0.527550      0.001404\n",
       "3    0.007318  -0.006727   0.001404   -0.009971    -0.415453     -0.009349\n",
       "4    0.002053   0.037135  -0.009349    0.041781     0.558876      0.041208\n",
       "5   -0.005753   0.015163   0.041208   -0.034894     0.539273     -0.035121\n",
       "6    0.002695  -0.042443  -0.035121   -0.000548    -0.438116     -0.000626\n",
       "..        ...        ...        ...         ...          ...           ...\n",
       "564  0.036618   0.066764   0.033145    0.043198     0.280327      0.043013\n",
       "565 -0.013951  -0.027113   0.043013   -0.054155     0.235726     -0.054204\n",
       "566  0.016213   0.010996  -0.054204    0.056659     0.061430      0.056823\n",
       "567  0.045166   0.026038   0.056823   -0.002162    -0.036160     -0.001964\n",
       "568 -0.091607  -0.035555  -0.001964   -0.086269     0.401548     -0.086873\n",
       "\n",
       "[567 rows x 6 columns]"
      ]
     },
     "execution_count": 110,
     "metadata": {},
     "output_type": "execute_result"
    }
   ],
   "source": [
    "# differencing\n",
    "X_train = X_train.pct_change()\n",
    "X_train.dropna()"
   ]
  },
  {
   "cell_type": "code",
   "execution_count": 111,
   "metadata": {},
   "outputs": [
    {
     "data": {
      "text/html": [
       "<div>\n",
       "<style scoped>\n",
       "    .dataframe tbody tr th:only-of-type {\n",
       "        vertical-align: middle;\n",
       "    }\n",
       "\n",
       "    .dataframe tbody tr th {\n",
       "        vertical-align: top;\n",
       "    }\n",
       "\n",
       "    .dataframe thead th {\n",
       "        text-align: right;\n",
       "    }\n",
       "</style>\n",
       "<table border=\"1\" class=\"dataframe\">\n",
       "  <thead>\n",
       "    <tr style=\"text-align: right;\">\n",
       "      <th></th>\n",
       "      <th>count</th>\n",
       "      <th>mean</th>\n",
       "      <th>std</th>\n",
       "      <th>min</th>\n",
       "      <th>25%</th>\n",
       "      <th>50%</th>\n",
       "      <th>75%</th>\n",
       "      <th>max</th>\n",
       "    </tr>\n",
       "  </thead>\n",
       "  <tbody>\n",
       "    <tr>\n",
       "      <th>last_low</th>\n",
       "      <td>567.0</td>\n",
       "      <td>0.0067</td>\n",
       "      <td>0.0571</td>\n",
       "      <td>-0.4408</td>\n",
       "      <td>-0.0155</td>\n",
       "      <td>0.0105</td>\n",
       "      <td>0.0302</td>\n",
       "      <td>0.3412</td>\n",
       "    </tr>\n",
       "    <tr>\n",
       "      <th>last_high</th>\n",
       "      <td>567.0</td>\n",
       "      <td>0.0061</td>\n",
       "      <td>0.0458</td>\n",
       "      <td>-0.2435</td>\n",
       "      <td>-0.0163</td>\n",
       "      <td>-0.0006</td>\n",
       "      <td>0.0277</td>\n",
       "      <td>0.2863</td>\n",
       "    </tr>\n",
       "    <tr>\n",
       "      <th>last_open</th>\n",
       "      <td>567.0</td>\n",
       "      <td>0.0067</td>\n",
       "      <td>0.0570</td>\n",
       "      <td>-0.4333</td>\n",
       "      <td>-0.0206</td>\n",
       "      <td>0.0048</td>\n",
       "      <td>0.0351</td>\n",
       "      <td>0.2646</td>\n",
       "    </tr>\n",
       "    <tr>\n",
       "      <th>last_close</th>\n",
       "      <td>567.0</td>\n",
       "      <td>0.0066</td>\n",
       "      <td>0.0571</td>\n",
       "      <td>-0.4332</td>\n",
       "      <td>-0.0206</td>\n",
       "      <td>0.0048</td>\n",
       "      <td>0.0350</td>\n",
       "      <td>0.2646</td>\n",
       "    </tr>\n",
       "    <tr>\n",
       "      <th>last_volume</th>\n",
       "      <td>567.0</td>\n",
       "      <td>0.1412</td>\n",
       "      <td>0.6702</td>\n",
       "      <td>-0.7847</td>\n",
       "      <td>-0.2733</td>\n",
       "      <td>-0.0159</td>\n",
       "      <td>0.4093</td>\n",
       "      <td>5.1526</td>\n",
       "    </tr>\n",
       "    <tr>\n",
       "      <th>current_open</th>\n",
       "      <td>567.0</td>\n",
       "      <td>0.0067</td>\n",
       "      <td>0.0571</td>\n",
       "      <td>-0.4333</td>\n",
       "      <td>-0.0206</td>\n",
       "      <td>0.0048</td>\n",
       "      <td>0.0351</td>\n",
       "      <td>0.2646</td>\n",
       "    </tr>\n",
       "  </tbody>\n",
       "</table>\n",
       "</div>"
      ],
      "text/plain": [
       "              count    mean     std     min     25%     50%     75%     max\n",
       "last_low      567.0  0.0067  0.0571 -0.4408 -0.0155  0.0105  0.0302  0.3412\n",
       "last_high     567.0  0.0061  0.0458 -0.2435 -0.0163 -0.0006  0.0277  0.2863\n",
       "last_open     567.0  0.0067  0.0570 -0.4333 -0.0206  0.0048  0.0351  0.2646\n",
       "last_close    567.0  0.0066  0.0571 -0.4332 -0.0206  0.0048  0.0350  0.2646\n",
       "last_volume   567.0  0.1412  0.6702 -0.7847 -0.2733 -0.0159  0.4093  5.1526\n",
       "current_open  567.0  0.0067  0.0571 -0.4333 -0.0206  0.0048  0.0351  0.2646"
      ]
     },
     "execution_count": 111,
     "metadata": {},
     "output_type": "execute_result"
    }
   ],
   "source": [
    "X_train.describe().T.round(4)"
   ]
  },
  {
   "cell_type": "code",
   "execution_count": 112,
   "metadata": {},
   "outputs": [
    {
     "data": {
      "text/plain": [
       "array([[<AxesSubplot:title={'center':'last_low'}>,\n",
       "        <AxesSubplot:title={'center':'last_high'}>],\n",
       "       [<AxesSubplot:title={'center':'last_open'}>,\n",
       "        <AxesSubplot:title={'center':'last_close'}>],\n",
       "       [<AxesSubplot:title={'center':'last_volume'}>,\n",
       "        <AxesSubplot:title={'center':'current_open'}>]], dtype=object)"
      ]
     },
     "execution_count": 112,
     "metadata": {},
     "output_type": "execute_result"
    },
    {
     "data": {
      "image/png": "[encoded data removed]",
      "text/plain": [
       "<Figure size 1152x1152 with 6 Axes>"
      ]
     },
     "metadata": {
      "needs_background": "light"
     },
     "output_type": "display_data"
    }
   ],
   "source": [
    "X_train.hist(figsize=(16, 16))"
   ]
  },
  {
   "cell_type": "code",
   "execution_count": 113,
   "metadata": {},
   "outputs": [
    {
     "data": {
      "text/plain": [
       "<AxesSubplot:>"
      ]
     },
     "execution_count": 113,
     "metadata": {},
     "output_type": "execute_result"
    },
    {
     "data": {
      "image/png": "[encoded data removed]",
      "text/plain": [
       "<Figure size 432x288 with 1 Axes>"
      ]
     },
     "metadata": {
      "needs_background": "light"
     },
     "output_type": "display_data"
    }
   ],
   "source": [
    "X_train.boxplot()"
   ]
  },
  {
   "cell_type": "markdown",
   "metadata": {},
   "source": [
    "LTSM Autoencoder as feature detector\n",
    "n Inputs must = n of Outputs\n",
    "3 months - 90 days\n",
    "input layer = 90 x 5 (low, high, open, close, vol)\n",
    "hidden 1 = 32?\n",
    "hidden 2 = 32?\n",
    "output layer = 90 x 5\n",
    "\n",
    "Building a recurrent autoencoder is straightforward: the encoder\n",
    "is typically a sequence-to-vector RNN which compresses the input\n",
    "sequence down to a single vector. The decoder is a vector-to-sequence RNN\n",
    "that does the reverse:"
   ]
  },
  {
   "cell_type": "code",
   "execution_count": 88,
   "metadata": {},
   "outputs": [
    {
     "name": "stdout",
     "output_type": "stream",
     "text": [
      "Model: \"sequential_15\"\n",
      "_________________________________________________________________\n",
      " Layer (type)                Output Shape              Param #   \n",
      "=================================================================\n",
      " sequential_13 (Sequential)  (None, 30)                58120     \n",
      "                                                                 \n",
      " sequential_14 (Sequential)  (None, 5, 5)              52905     \n",
      "                                                                 \n",
      "=================================================================\n",
      "Total params: 111,025\n",
      "Trainable params: 111,025\n",
      "Non-trainable params: 0\n",
      "_________________________________________________________________\n"
     ]
    }
   ],
   "source": [
    "n_features = 5 # (low, high, open, close, vol)\n",
    "window_length = 90\n",
    "\n",
    "# sequence-to-vector RNN\n",
    "recurrent_encoder = keras.models.Sequential([\n",
    "keras.layers.LSTM(100, return_sequences=True, input_shape=[None, n_features]),\n",
    "keras.layers.LSTM(30)\n",
    "])\n",
    "\n",
    "# vector-to-sequence RNN\n",
    "recurrent_decoder = keras.models.Sequential([\n",
    "keras.layers.RepeatVector(n_features, input_shape=[30]),\n",
    "keras.layers.LSTM(100, return_sequences=True),\n",
    "keras.layers.TimeDistributed(keras.layers.Dense(n_features, activation=\"tanh\"))\n",
    "])\n",
    "recurrent_ae = keras.models.Sequential([recurrent_encoder, recurrent_decoder])\n",
    "\n",
    "recurrent_ae.summary()"
   ]
  },
  {
   "cell_type": "code",
   "execution_count": 89,
   "metadata": {},
   "outputs": [],
   "source": [
    "recurrent_ae.compile(loss=\"binary_crossentropy\", optimizer=keras.optimizers.SGD(0.1),\n",
    "                     metrics=['accuracy'])"
   ]
  },
  {
   "cell_type": "code",
   "execution_count": 92,
   "metadata": {},
   "outputs": [
    {
     "data": {
      "text/plain": [
       "(568, 5)"
      ]
     },
     "execution_count": 92,
     "metadata": {},
     "output_type": "execute_result"
    }
   ],
   "source": [
    "# need to reshape X_train to 3D [batch size, time steps, n_features]\n",
    "X_train.shape"
   ]
  },
  {
   "cell_type": "code",
   "execution_count": 90,
   "metadata": {},
   "outputs": [
    {
     "name": "stdout",
     "output_type": "stream",
     "text": [
      "Epoch 1/10\n",
      "WARNING:tensorflow:Model was constructed with shape (None, None, 5) for input KerasTensor(type_spec=TensorSpec(shape=(None, None, 5), dtype=tf.float32, name='sequential_13_input'), name='sequential_13_input', description=\"created by layer 'sequential_13_input'\"), but it was called on an input with incompatible shape (None, 5).\n",
      "WARNING:tensorflow:Model was constructed with shape (None, None, 5) for input KerasTensor(type_spec=TensorSpec(shape=(None, None, 5), dtype=tf.float32, name='lstm_16_input'), name='lstm_16_input', description=\"created by layer 'lstm_16_input'\"), but it was called on an input with incompatible shape (None, 5).\n"
     ]
    },
    {
     "ename": "ValueError",
     "evalue": "in user code:\n\n    File \"/home/wsl/neural_network/neural_network/lib/python3.8/site-packages/keras/engine/training.py\", line 878, in train_function  *\n        return step_function(self, iterator)\n    File \"/home/wsl/neural_network/neural_network/lib/python3.8/site-packages/keras/engine/training.py\", line 867, in step_function  **\n        outputs = model.distribute_strategy.run(run_step, args=(data,))\n    File \"/home/wsl/neural_network/neural_network/lib/python3.8/site-packages/keras/engine/training.py\", line 860, in run_step  **\n        outputs = model.train_step(data)\n    File \"/home/wsl/neural_network/neural_network/lib/python3.8/site-packages/keras/engine/training.py\", line 808, in train_step\n        y_pred = self(x, training=True)\n    File \"/home/wsl/neural_network/neural_network/lib/python3.8/site-packages/keras/utils/traceback_utils.py\", line 67, in error_handler\n        raise e.with_traceback(filtered_tb) from None\n    File \"/home/wsl/neural_network/neural_network/lib/python3.8/site-packages/keras/engine/input_spec.py\", line 213, in assert_input_compatibility\n        raise ValueError(f'Input {input_index} of layer \"{layer_name}\" '\n\n    ValueError: Exception encountered when calling layer \"sequential_13\" (type Sequential).\n    \n    Input 0 of layer \"lstm_16\" is incompatible with the layer: expected ndim=3, found ndim=2. Full shape received: (None, 5)\n    \n    Call arguments received:\n      • inputs=tf.Tensor(shape=(None, 5), dtype=float32)\n      • training=True\n      • mask=None\n",
     "output_type": "error",
     "traceback": [
      "\u001b[0;31m---------------------------------------------------------------------------\u001b[0m",
      "\u001b[0;31mValueError\u001b[0m                                Traceback (most recent call last)",
      "\u001b[0;32m/tmp/ipykernel_4311/915954908.py\u001b[0m in \u001b[0;36m<module>\u001b[0;34m\u001b[0m\n\u001b[0;32m----> 1\u001b[0;31m \u001b[0mhistory\u001b[0m \u001b[0;34m=\u001b[0m \u001b[0mrecurrent_ae\u001b[0m\u001b[0;34m.\u001b[0m\u001b[0mfit\u001b[0m\u001b[0;34m(\u001b[0m\u001b[0mX_train\u001b[0m\u001b[0;34m,\u001b[0m \u001b[0mX_train\u001b[0m\u001b[0;34m,\u001b[0m \u001b[0mepochs\u001b[0m\u001b[0;34m=\u001b[0m\u001b[0;36m10\u001b[0m\u001b[0;34m,\u001b[0m \u001b[0mvalidation_data\u001b[0m\u001b[0;34m=\u001b[0m\u001b[0;34m(\u001b[0m\u001b[0mX_valid\u001b[0m\u001b[0;34m,\u001b[0m \u001b[0mX_valid\u001b[0m\u001b[0;34m)\u001b[0m\u001b[0;34m)\u001b[0m\u001b[0;34m\u001b[0m\u001b[0;34m\u001b[0m\u001b[0m\n\u001b[0m",
      "\u001b[0;32m~/neural_network/neural_network/lib/python3.8/site-packages/keras/utils/traceback_utils.py\u001b[0m in \u001b[0;36merror_handler\u001b[0;34m(*args, **kwargs)\u001b[0m\n\u001b[1;32m     65\u001b[0m     \u001b[0;32mexcept\u001b[0m \u001b[0mException\u001b[0m \u001b[0;32mas\u001b[0m \u001b[0me\u001b[0m\u001b[0;34m:\u001b[0m  \u001b[0;31m# pylint: disable=broad-except\u001b[0m\u001b[0;34m\u001b[0m\u001b[0;34m\u001b[0m\u001b[0m\n\u001b[1;32m     66\u001b[0m       \u001b[0mfiltered_tb\u001b[0m \u001b[0;34m=\u001b[0m \u001b[0m_process_traceback_frames\u001b[0m\u001b[0;34m(\u001b[0m\u001b[0me\u001b[0m\u001b[0;34m.\u001b[0m\u001b[0m__traceback__\u001b[0m\u001b[0;34m)\u001b[0m\u001b[0;34m\u001b[0m\u001b[0;34m\u001b[0m\u001b[0m\n\u001b[0;32m---> 67\u001b[0;31m       \u001b[0;32mraise\u001b[0m \u001b[0me\u001b[0m\u001b[0;34m.\u001b[0m\u001b[0mwith_traceback\u001b[0m\u001b[0;34m(\u001b[0m\u001b[0mfiltered_tb\u001b[0m\u001b[0;34m)\u001b[0m \u001b[0;32mfrom\u001b[0m \u001b[0;32mNone\u001b[0m\u001b[0;34m\u001b[0m\u001b[0;34m\u001b[0m\u001b[0m\n\u001b[0m\u001b[1;32m     68\u001b[0m     \u001b[0;32mfinally\u001b[0m\u001b[0;34m:\u001b[0m\u001b[0;34m\u001b[0m\u001b[0;34m\u001b[0m\u001b[0m\n\u001b[1;32m     69\u001b[0m       \u001b[0;32mdel\u001b[0m \u001b[0mfiltered_tb\u001b[0m\u001b[0;34m\u001b[0m\u001b[0;34m\u001b[0m\u001b[0m\n",
      "\u001b[0;32m~/neural_network/neural_network/lib/python3.8/site-packages/tensorflow/python/framework/func_graph.py\u001b[0m in \u001b[0;36mautograph_handler\u001b[0;34m(*args, **kwargs)\u001b[0m\n\u001b[1;32m   1127\u001b[0m           \u001b[0;32mexcept\u001b[0m \u001b[0mException\u001b[0m \u001b[0;32mas\u001b[0m \u001b[0me\u001b[0m\u001b[0;34m:\u001b[0m  \u001b[0;31m# pylint:disable=broad-except\u001b[0m\u001b[0;34m\u001b[0m\u001b[0;34m\u001b[0m\u001b[0m\n\u001b[1;32m   1128\u001b[0m             \u001b[0;32mif\u001b[0m \u001b[0mhasattr\u001b[0m\u001b[0;34m(\u001b[0m\u001b[0me\u001b[0m\u001b[0;34m,\u001b[0m \u001b[0;34m\"ag_error_metadata\"\u001b[0m\u001b[0;34m)\u001b[0m\u001b[0;34m:\u001b[0m\u001b[0;34m\u001b[0m\u001b[0;34m\u001b[0m\u001b[0m\n\u001b[0;32m-> 1129\u001b[0;31m               \u001b[0;32mraise\u001b[0m \u001b[0me\u001b[0m\u001b[0;34m.\u001b[0m\u001b[0mag_error_metadata\u001b[0m\u001b[0;34m.\u001b[0m\u001b[0mto_exception\u001b[0m\u001b[0;34m(\u001b[0m\u001b[0me\u001b[0m\u001b[0;34m)\u001b[0m\u001b[0;34m\u001b[0m\u001b[0;34m\u001b[0m\u001b[0m\n\u001b[0m\u001b[1;32m   1130\u001b[0m             \u001b[0;32melse\u001b[0m\u001b[0;34m:\u001b[0m\u001b[0;34m\u001b[0m\u001b[0;34m\u001b[0m\u001b[0m\n\u001b[1;32m   1131\u001b[0m               \u001b[0;32mraise\u001b[0m\u001b[0;34m\u001b[0m\u001b[0;34m\u001b[0m\u001b[0m\n",
      "\u001b[0;31mValueError\u001b[0m: in user code:\n\n    File \"/home/wsl/neural_network/neural_network/lib/python3.8/site-packages/keras/engine/training.py\", line 878, in train_function  *\n        return step_function(self, iterator)\n    File \"/home/wsl/neural_network/neural_network/lib/python3.8/site-packages/keras/engine/training.py\", line 867, in step_function  **\n        outputs = model.distribute_strategy.run(run_step, args=(data,))\n    File \"/home/wsl/neural_network/neural_network/lib/python3.8/site-packages/keras/engine/training.py\", line 860, in run_step  **\n        outputs = model.train_step(data)\n    File \"/home/wsl/neural_network/neural_network/lib/python3.8/site-packages/keras/engine/training.py\", line 808, in train_step\n        y_pred = self(x, training=True)\n    File \"/home/wsl/neural_network/neural_network/lib/python3.8/site-packages/keras/utils/traceback_utils.py\", line 67, in error_handler\n        raise e.with_traceback(filtered_tb) from None\n    File \"/home/wsl/neural_network/neural_network/lib/python3.8/site-packages/keras/engine/input_spec.py\", line 213, in assert_input_compatibility\n        raise ValueError(f'Input {input_index} of layer \"{layer_name}\" '\n\n    ValueError: Exception encountered when calling layer \"sequential_13\" (type Sequential).\n    \n    Input 0 of layer \"lstm_16\" is incompatible with the layer: expected ndim=3, found ndim=2. Full shape received: (None, 5)\n    \n    Call arguments received:\n      • inputs=tf.Tensor(shape=(None, 5), dtype=float32)\n      • training=True\n      • mask=None\n"
     ]
    }
   ],
   "source": [
    "history = recurrent_ae.fit(X_train, X_train, epochs=10, validation_data=(X_valid, X_valid))"
   ]
  }
 ],
 "metadata": {
  "interpreter": {
   "hash": "fe24fa82ef0276aa3bebf6833b77a4deb33ded5956560b7688b0e7890d905389"
  },
  "kernelspec": {
   "display_name": "Python 3.8.10 64-bit ('neural_network': venv)",
   "language": "python",
   "name": "python3"
  },
  "language_info": {
   "codemirror_mode": {
    "name": "ipython",
    "version": 3
   },
   "file_extension": ".py",
   "mimetype": "text/x-python",
   "name": "python",
   "nbconvert_exporter": "python",
   "pygments_lexer": "ipython3",
   "version": "3.8.10"
  },
  "orig_nbformat": 4
 },
 "nbformat": 4,
 "nbformat_minor": 2
}
