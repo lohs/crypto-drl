{
 "cells": [
  {
   "cell_type": "code",
   "execution_count": 47,
   "metadata": {},
   "outputs": [],
   "source": [
    "import numpy as np\n",
    "import pandas as pd\n",
    "import matplotlib.pyplot as plt\n",
    "%matplotlib inline\n",
    "import statsmodels.api as sm\n",
    "import tensorflow as tf\n",
    "from datetime import timedelta\n",
    "\n",
    "from sklearn.metrics import mean_squared_error\n",
    "from sklearn.model_selection import KFold, TimeSeriesSplit, GridSearchCV\n",
    "from sklearn import preprocessing\n",
    "import keras.initializers\n",
    "from keras.layers import Dense, Layer, LSTM, GRU, SimpleRNN, RNN\n",
    "from keras.models import Sequential\n",
    "from keras.models import load_model\n",
    "from keras.regularizers import l1, l2\n",
    "from keras.callbacks import EarlyStopping\n",
    "from scikeras.wrappers import KerasClassifier, KerasRegressor\n",
    "\n",
    "import matplotlib as mpl\n",
    "mpl.rc('axes', labelsize=14)\n",
    "mpl.rc('xtick', labelsize=12)\n",
    "mpl.rc('ytick', labelsize=12)\n",
    "\n",
    "# reproducible results\n",
    "np.random.seed(42)\n",
    "tf.random.set_seed(42)\n",
    "\n",
    "# Globals\n",
    "transaction_cost = .001\n",
    "crypto_params = ['BTC-USD', 'ETH-USD']\n",
    "time_period_params = ['_hr_24', '_hr_1', '_min_15', '_min_5']\n",
    "\n",
    "import os\n",
    "root_logdir = os.path.join(os.curdir, \"my_logs\")\n",
    "\n",
    "def get_run_logdir():\n",
    "    import time\n",
    "    run_id = time.strftime(\"run_%Y_%m_%d-%H_%M_%S\")\n",
    "    return os.path.join(root_logdir, run_id)\n",
    "run_logdir = get_run_logdir() # e.g., './my_logs/run_2019_06_07-15_15_22'"
   ]
  },
  {
   "cell_type": "code",
   "execution_count": 2,
   "metadata": {},
   "outputs": [
    {
     "name": "stderr",
     "output_type": "stream",
     "text": [
      "2021-12-20 22:44:54.561355: I tensorflow/stream_executor/cuda/cuda_gpu_executor.cc:925] could not open file to read NUMA node: /sys/bus/pci/devices/0000:01:00.0/numa_node\n",
      "Your kernel may have been built without NUMA support.\n",
      "2021-12-20 22:44:54.592806: I tensorflow/stream_executor/cuda/cuda_gpu_executor.cc:925] could not open file to read NUMA node: /sys/bus/pci/devices/0000:01:00.0/numa_node\n",
      "Your kernel may have been built without NUMA support.\n",
      "2021-12-20 22:44:54.593153: I tensorflow/stream_executor/cuda/cuda_gpu_executor.cc:925] could not open file to read NUMA node: /sys/bus/pci/devices/0000:01:00.0/numa_node\n",
      "Your kernel may have been built without NUMA support.\n"
     ]
    },
    {
     "data": {
      "text/plain": [
       "[PhysicalDevice(name='/physical_device:CPU:0', device_type='CPU')]"
      ]
     },
     "execution_count": 2,
     "metadata": {},
     "output_type": "execute_result"
    }
   ],
   "source": [
    "# force cpu only\n",
    "tf.config.set_visible_devices([], 'GPU')\n",
    "tf.config.get_visible_devices()"
   ]
  },
  {
   "cell_type": "markdown",
   "metadata": {},
   "source": [
    "# Parse raw data\n",
    "Turn time series into supervised learning problem"
   ]
  },
  {
   "cell_type": "code",
   "execution_count": null,
   "metadata": {},
   "outputs": [],
   "source": [
    "def label_trade(period_return):\n",
    "    if(abs(period_return) <= transaction_cost):\n",
    "        return 0\n",
    "    elif period_return > transaction_cost:\n",
    "        return 1\n",
    "    else:\n",
    "        return -1"
   ]
  },
  {
   "cell_type": "code",
   "execution_count": null,
   "metadata": {},
   "outputs": [],
   "source": [
    "def label_raw(dataset):\n",
    "    print(dataset)\n",
    "    df = pd.read_csv(f'../data/raw/{dataset}.csv')\n",
    "\n",
    "    # assumption: make decision at open of trading period\n",
    "    # shift these cols\n",
    "    shift_header = ['low', 'high', 'open','close', 'volume']\n",
    "    for col in shift_header:\n",
    "        new_header = f'last_{col}'\n",
    "        df[new_header] = df[col].shift(1)\n",
    "    \n",
    "    # rename current observations\n",
    "    df = df.rename(columns={'open':'current_open', 'close':'target_close'})\n",
    "\n",
    "    # drop low, high, volume cols and rearrange remaining\n",
    "    df = df[['time','last_low', 'last_high', 'last_open','last_close','last_volume', 'current_open', 'target_close']]\n",
    "\n",
    "    # calculate period returns and label trade\n",
    "    df['period_return'] = (df['target_close'].values - df['current_open'].values) / df['current_open'].values\n",
    "    df['target_trade'] = df['period_return'].apply(label_trade)\n",
    "\n",
    "    # assumptions:\n",
    "    # perfect close prediction\n",
    "    # end period in cash\n",
    "    # 0 cost to short sell\n",
    "    df['profit'] = df['period_return'] * df['target_trade'] * df['target_close'] * (1 - transaction_cost)\n",
    "    df['profit'].sum()\n",
    "\n",
    "    # save labeled dataset\n",
    "    df.to_csv(f'../data/labeled_{dataset}.csv', header=True, index=False, mode='w')\n",
    "    print(f'Saved to ../data/labeled_{dataset}.csv')"
   ]
  },
  {
   "cell_type": "code",
   "execution_count": null,
   "metadata": {},
   "outputs": [],
   "source": [
    "for crypto in crypto_params:\n",
    "    for time_period in time_period_params:\n",
    "        dataset = crypto + time_period\n",
    "        label_raw(dataset)"
   ]
  },
  {
   "cell_type": "markdown",
   "metadata": {},
   "source": [
    "# Univariate"
   ]
  },
  {
   "cell_type": "markdown",
   "metadata": {},
   "source": [
    "## Regression"
   ]
  },
  {
   "cell_type": "code",
   "execution_count": 3,
   "metadata": {},
   "outputs": [],
   "source": [
    "# df = pd.read_csv('../data/coinbase.csv', index_col=1)\n",
    "# df.index = pd.to_datetime(df.index, infer_datetime_format=True)\n",
    "# target = \"USD\"\n",
    "dataset = \"BTC-USD_hr_24\"\n",
    "df = pd.read_csv(f'../data/labeled_{dataset}.csv', index_col=0)\n",
    "df.index = pd.to_datetime(df.index, unit='s')\n",
    "target = 'target_trade'\n",
    "\n",
    "#df.isnull().sum()\n",
    "\n",
    "# drop NaN\n",
    "df = df.dropna()"
   ]
  },
  {
   "cell_type": "markdown",
   "metadata": {},
   "source": [
    "### Stationarity (Augmented Dickey-Fuller Test)\n",
    "It is essential to determine whether the time series is \"stationary\". Informally, stationarity is when the auto-covariance is independent of time. Failure to establish stationarity will almost certainly lead to misinterpretation of model identification and diagnostic tests. Moreover, stationarity is decisive in characterizing the prediction problem and whether to use a more advanced architecture. In particular, we can expect a plain RNN to perform poorly if the data is non-stationary as the RNN exhibits fixed auto-covariance. \n",
    "\n",
    "We perform an Augmented Dickey-Fuller test to establish stationarity under the assumption that the time series has a constant bias but does not exhibit a time trend. In other words, we assume that the time series is already de-trended. \n",
    "\n",
    "If the stationarity test fails, even after first de-trending the time series, then one potential recourse is to simply take differences of time series and predict $\\Delta y_t$."
   ]
  },
  {
   "cell_type": "markdown",
   "metadata": {},
   "source": [
    "The null hypothesis of the Augmented Dickey-Fuller is that there is a unit root, with the alternative that there is no unit root. If the p-value is above $(1-\\alpha)$, then we cannot reject that there is a unit root. Note that a subset of the time series is used to reduce the memory requirements of the test. We use the first 200,000 samples to test for stationarity. While the test statistic is sensitive to the data size, the ADF test is always accepted at the 99\\% level."
   ]
  },
  {
   "cell_type": "code",
   "execution_count": 4,
   "metadata": {},
   "outputs": [
    {
     "name": "stdout",
     "output_type": "stream",
     "text": [
      "ADF: -30.82331356197541\n",
      "p-value: 0.0,\n",
      "N: 710, \n",
      "critical values: {'1%': -3.439593802573824, '5%': -2.865619356068967, '10%': -2.568942332870462}\n"
     ]
    }
   ],
   "source": [
    "# check stationarity of target\n",
    "# 1 min 56 sec\n",
    "sample = df[target]\n",
    "\n",
    "adf, p, usedlag, n_observations, cvs, aic = sm.tsa.stattools.adfuller(sample)\n",
    "print(f'ADF: {adf}\\np-value: {p},\\nN: {n_observations}, \\ncritical values: {cvs}')"
   ]
  },
  {
   "cell_type": "markdown",
   "metadata": {},
   "source": [
    "Accept null as p-value > 0.01, can't reject test at 99% confidence level. Series seems to be non-stationary"
   ]
  },
  {
   "cell_type": "markdown",
   "metadata": {},
   "source": [
    "close price is stationary when using differencing"
   ]
  },
  {
   "cell_type": "markdown",
   "metadata": {},
   "source": [
    "#### Autoregressive Model Identification: The partial auto-correlation"
   ]
  },
  {
   "cell_type": "markdown",
   "metadata": {},
   "source": [
    "It is important to determine the number of lags, the sequence length, required in the RNN by statistical analysis. A brute-force approach will in general be too time-consuming.\n",
    "\n",
    "A partial auto-correlation at lag $h\\geq 2$ is a conditional auto-correlation between a variable, $X_t$, and its $h^{th}$ lag, $X_{t-h}$ under the assumption that we control for the values of the intermediate lags, $X_{t-1},\\dots, X_{t-h+1}$:\n",
    "\n",
    "$$\\begin{align}\\tau_h&:=\\tau(X_t, X_{t-h}; X_{t-1},\\dots, X_{t-h+1})\\\\\n",
    "&:=\\frac{\\gamma(X_t, X_{t-h}; X_{t-1},\\dots, X_{t-h+1})}{\\sqrt{\\gamma(X_t |X_{t-1},\\dots, X_{t-h+1})\\gamma(X_{t-h} |X_{t-1},\\dots, X_{t-h+1}))}},\n",
    "\\end{align}$$\n",
    "where $\\gamma_h:=\\gamma(X_tX_{t-h})$ is the lag-$h$ autocovariance. The partial autocorrelation function $\\tau_h:\\mathbb{N} \\rightarrow [-1,1]$ is a map $h:\\mapsto \\tau_h$.\n",
    "\n",
    "The estimated partial auto-correlation function (PACF) can be used to identify the order of an autoregressive time series model. Values of $|\\tau_h|$ greater or equal to $\\frac{\\Phi^{-1}(\\alpha)}{\\sqrt{T}}$, where $T$ is the number of observations and $\\Phi(z)$ is the standard normal CDF, are significant lag $h$ partial autocorelations at the $\\alpha$ confidence level.\n",
    "\n",
    "We use the stattools package to estimate the PACF. The `nlags` parameter is the maximum number of lags used for PACF estimation."
   ]
  },
  {
   "cell_type": "code",
   "execution_count": 5,
   "metadata": {},
   "outputs": [],
   "source": [
    "#use_features = ['last_low', 'last_high', \"last_open\", \"last_volume\", \"current_open\"] # continuous input\n",
    "use_features = [target]\n",
    "# already defined above\n",
    "#target = ['target_close'] # continuous output\n",
    "n_steps_ahead = 1 # forecasting horizon\n",
    "n_steps = 1\n",
    "n_features = len(use_features)"
   ]
  },
  {
   "cell_type": "code",
   "execution_count": 6,
   "metadata": {},
   "outputs": [
    {
     "name": "stdout",
     "output_type": "stream",
     "text": [
      "n_steps set to 1\n"
     ]
    }
   ],
   "source": [
    "pacf = sm.tsa.stattools.pacf(df[use_features], nlags=30)\n",
    "\n",
    "T = len(df[use_features])\n",
    "\n",
    "sig_test = lambda tau_h: np.abs(tau_h) > 2.58/np.sqrt(T)\n",
    "\n",
    "for i in range(len(pacf)):\n",
    "    if sig_test(pacf[i]) == False:\n",
    "        n_steps = i - 1\n",
    "        print('n_steps set to', n_steps)\n",
    "        break"
   ]
  },
  {
   "cell_type": "code",
   "execution_count": null,
   "metadata": {},
   "outputs": [],
   "source": [
    "n_steps = 5"
   ]
  },
  {
   "cell_type": "code",
   "execution_count": null,
   "metadata": {},
   "outputs": [],
   "source": [
    "plt.plot(pacf, label='pacf')\n",
    "plt.plot([2.58/np.sqrt(T)]*30, label='99% confidence interval (upper)')\n",
    "plt.plot([-2.58/np.sqrt(T)]*30, label='99% confidence interval (lower)')\n",
    "plt.xlabel('number of lags')\n",
    "plt.legend()"
   ]
  },
  {
   "cell_type": "markdown",
   "metadata": {},
   "source": [
    "### Percent Change"
   ]
  },
  {
   "cell_type": "code",
   "execution_count": null,
   "metadata": {},
   "outputs": [],
   "source": [
    "df = df.dropna()\n",
    "df['close'] = df['close'].pct_change()\n",
    "df = df.dropna()"
   ]
  },
  {
   "cell_type": "markdown",
   "metadata": {},
   "source": [
    "### Data Preprocessing"
   ]
  },
  {
   "cell_type": "markdown",
   "metadata": {},
   "source": [
    "#### Partition Training and Test sets"
   ]
  },
  {
   "cell_type": "code",
   "execution_count": 7,
   "metadata": {},
   "outputs": [],
   "source": [
    "# split dataset into 1-t% training, t test\n",
    "def partition(df, t):\n",
    "    split_index = int(len(df) * (1-t))\n",
    "\n",
    "    df_train = df.iloc[:split_index]\n",
    "    df_test = df.iloc[split_index:]\n",
    "\n",
    "    return df_train, df_test"
   ]
  },
  {
   "cell_type": "code",
   "execution_count": 22,
   "metadata": {},
   "outputs": [],
   "source": [
    "uni_X_train_full, uni_X_test = partition(df, 0.2)\n",
    "# train and validation set\n",
    "uni_X_train, uni_X_valid = partition(uni_X_train_full, 0.2)\n",
    "\n",
    "# reshape 1d for further use\n",
    "uni_X_train_full = uni_X_train_full[[target]]\n",
    "uni_X_train = uni_X_train[[target]]\n",
    "uni_X_test = uni_X_test[[target]]\n",
    "uni_X_valid = uni_X_valid[[target]]"
   ]
  },
  {
   "cell_type": "code",
   "execution_count": null,
   "metadata": {},
   "outputs": [],
   "source": [
    "# train_weight = 0.8\n",
    "# split = int(len(df) * train_weight)\n",
    "\n",
    "# df_train_full = df[use_features].iloc[:split]\n",
    "# df_test = df[use_features].iloc[split:]"
   ]
  },
  {
   "cell_type": "code",
   "execution_count": 9,
   "metadata": {},
   "outputs": [],
   "source": [
    "def get_lagged_features(df, n_steps, n_steps_ahead):\n",
    "    \"\"\"\n",
    "    df: pandas DataFrame of time series to be lagged\n",
    "    n_steps: number of lags, i.e. sequence length\n",
    "    n_steps_ahead: forecasting horizon\n",
    "    \"\"\"\n",
    "    lag_list = []\n",
    "    \n",
    "    for lag in range(n_steps + n_steps_ahead - 1, n_steps_ahead - 1, -1):\n",
    "        lag_list.append(df.shift(lag))\n",
    "    lag_array = np.dstack([i[n_steps+n_steps_ahead-1:] for i in lag_list])\n",
    "    # We swap the last two dimensions so each slice along the first dimension\n",
    "    # is the same shape as the corresponding segment of the input time series \n",
    "    lag_array = np.swapaxes(lag_array, 1, -1)\n",
    "    return lag_array"
   ]
  },
  {
   "cell_type": "markdown",
   "metadata": {},
   "source": [
    "#### Feature Scaling"
   ]
  },
  {
   "cell_type": "markdown",
   "metadata": {},
   "source": [
    "##### Standardization\n",
    "Much less affected by outliers"
   ]
  },
  {
   "cell_type": "markdown",
   "metadata": {},
   "source": [
    "###### Univariate"
   ]
  },
  {
   "cell_type": "code",
   "execution_count": 10,
   "metadata": {},
   "outputs": [],
   "source": [
    "# scale univariate\n",
    "\n",
    "# train_weight = 0.8\n",
    "# split = int(len(df) * train_weight)\n",
    "\n",
    "# uni_X_train_full = df[use_features].iloc[:split]\n",
    "# uni_X_test = df[use_features].iloc[split:]\n",
    "\n",
    "# note that for a multivariate time series, you would need to scale \n",
    "# each variable by its own mean and standard deviation in the training set\n",
    "mean = np.float64(uni_X_train_full.mean())\n",
    "std_dev = np.float64(uni_X_train_full.std())\n",
    "\n",
    "stdize_input = lambda x: (x - mean) / std_dev\n",
    "\n",
    "# standardize by mean and std dev of training set to avoid bias\n",
    "uni_X_train = uni_X_train.apply(stdize_input)\n",
    "uni_X_valid = uni_X_valid.apply(stdize_input)\n",
    "uni_X_test = uni_X_test.apply(stdize_input)"
   ]
  },
  {
   "cell_type": "code",
   "execution_count": 23,
   "metadata": {},
   "outputs": [],
   "source": [
    "# training\n",
    "x_train = get_lagged_features(uni_X_train, n_steps, n_steps_ahead)\n",
    "y_train =  uni_X_train.values[n_steps + n_steps_ahead - 1:]\n",
    "y_train_timestamps = uni_X_train.index[n_steps + n_steps_ahead - 1:]\n",
    "\n",
    "# validation\n",
    "x_valid = get_lagged_features(uni_X_valid, n_steps, n_steps_ahead)\n",
    "y_valid =  uni_X_valid.values[n_steps + n_steps_ahead - 1:]\n",
    "y_valid_timestamps = uni_X_valid.index[n_steps + n_steps_ahead - 1:]\n",
    "\n",
    "# test\n",
    "x_test = get_lagged_features(uni_X_test, n_steps, n_steps_ahead)\n",
    "y_test =  uni_X_test.values[n_steps + n_steps_ahead - 1:]\n",
    "y_test_timestamps = uni_X_test.index[n_steps + n_steps_ahead - 1:]"
   ]
  },
  {
   "cell_type": "markdown",
   "metadata": {},
   "source": [
    "###### Multivariate"
   ]
  },
  {
   "cell_type": "code",
   "execution_count": null,
   "metadata": {},
   "outputs": [],
   "source": [
    "std_scaler = preprocessing.StandardScaler()\n",
    "std_scaler.fit(X_train_full)\n",
    "print(f'Mean: {std_scaler.mean_}, Std Dev: {std_scaler.var_}')\n",
    "\n",
    "std_train = std_scaler.transform(X_train_full)\n",
    "# use training mean and std dev to avoid future bias\n",
    "std_test = std_scaler.transform(X_test)\n",
    "\n",
    "# inverse_std_train = std_scaler.inverse_transform(std_train)\n",
    "# inverse_std_test = std_scaler.inverse_transform(std_test)"
   ]
  },
  {
   "cell_type": "markdown",
   "metadata": {},
   "source": [
    "##### Normalize Scaling (MinMax)"
   ]
  },
  {
   "cell_type": "code",
   "execution_count": null,
   "metadata": {},
   "outputs": [],
   "source": [
    "norm_scaler = preprocessing.MinMaxScaler()\n",
    "norm_scaler.fit(X_train_full)\n",
    "print(f'Min: {norm_scaler.data_min_}, Max: {norm_scaler.data_max_}')\n",
    "\n",
    "norm_train = norm_scaler.transform(X_train_full)\n",
    "# use training mean and std dev to avoid future bias\n",
    "norm_test = norm_scaler.transform(X_test)\n",
    "\n",
    "# inverse_std_train = norm_scaler.inverse_transform(norm_train)\n",
    "# inverse_std_test = norm_scaler.inverse_transform(norm_test)"
   ]
  },
  {
   "cell_type": "code",
   "execution_count": null,
   "metadata": {},
   "outputs": [],
   "source": [
    "X_train_full.describe()"
   ]
  },
  {
   "cell_type": "markdown",
   "metadata": {},
   "source": [
    "#### Sliding Windows"
   ]
  },
  {
   "cell_type": "code",
   "execution_count": null,
   "metadata": {},
   "outputs": [],
   "source": [
    "# X_train_full\n",
    "# (std_train, std_test) or (norm_train, norm_test)\n",
    "std_train = pd.DataFrame(std_train)\n",
    "std_train = std_train.loc[:, :6]\n",
    "\n",
    "x_train = get_lagged_features(std_train, n_steps, n_steps_ahead)\n",
    "y_train =  std_train.values[n_steps + n_steps_ahead - 1:]\n",
    "y_train_timestamps = X_train_full.index[n_steps + n_steps_ahead - 1:]\n",
    "#y_train = std_scaler.inverse_transform(y_train)\n",
    "\n",
    "# # X_test\n",
    "std_test = pd.DataFrame(std_test)\n",
    "std_test = std_test.loc[:, :6]\n",
    "x_test = get_lagged_features(std_test, n_steps, n_steps_ahead)\n",
    "y_test =  std_test.values[n_steps + n_steps_ahead - 1:]\n",
    "y_test_timestamps = X_test.index[n_steps + n_steps_ahead - 1:]"
   ]
  },
  {
   "cell_type": "code",
   "execution_count": null,
   "metadata": {},
   "outputs": [],
   "source": [
    "uni_x_train = x_train[:, 6,:]\n",
    "uni_y_train = y_train[:, 6]"
   ]
  },
  {
   "cell_type": "code",
   "execution_count": null,
   "metadata": {},
   "outputs": [],
   "source": [
    "uni_y_naive = uni_x_train[:, -1]\n",
    "np.mean(keras.losses.mean_squared_error(uni_y_train, uni_y_naive))"
   ]
  },
  {
   "cell_type": "markdown",
   "metadata": {},
   "source": [
    "#### Naive Forecasting Baseline"
   ]
  },
  {
   "cell_type": "code",
   "execution_count": 24,
   "metadata": {},
   "outputs": [
    {
     "name": "stdout",
     "output_type": "stream",
     "text": [
      "2.2295805739514347\n"
     ]
    }
   ],
   "source": [
    "def naive_baseline(y_train):\n",
    "    y_naive = np.roll(y_train, 1)\n",
    "    print(np.mean(keras.losses.mean_squared_error(y_train, y_naive)))\n",
    "\n",
    "naive_baseline(y_train)"
   ]
  },
  {
   "cell_type": "markdown",
   "metadata": {},
   "source": [
    "#### Linear Regression Baseline"
   ]
  },
  {
   "cell_type": "code",
   "execution_count": null,
   "metadata": {},
   "outputs": [],
   "source": [
    "np.random.seed(42)\n",
    "tf.random.set_seed(42)\n",
    "\n",
    "lr_model = keras.models.Sequential([\n",
    "keras.layers.Flatten(input_shape=[n_steps, 1]),\n",
    "keras.layers.Dense(1)\n",
    "])\n",
    "\n",
    "lr_model.compile(loss=\"mse\", optimizer=\"adam\")\n",
    "history = lr_model.fit(x_train, y_train, epochs=100,\n",
    "                    validation_data=(x_valid, y_valid))\n",
    "lr_model.evaluate(x_valid, y_valid)"
   ]
  },
  {
   "cell_type": "code",
   "execution_count": null,
   "metadata": {},
   "outputs": [],
   "source": [
    "def plot_learning_curves(loss, val_loss):\n",
    "    plt.plot(np.arange(len(loss)) + 0.5, loss, \"b.-\", label=\"Training loss\")\n",
    "    plt.plot(np.arange(len(val_loss)) + 1, val_loss, \"r.-\", label=\"Validation loss\")\n",
    "    plt.gca().xaxis.set_major_locator(mpl.ticker.MaxNLocator(integer=True))\n",
    "    plt.axis([1, 20, 0, 0.5])\n",
    "    plt.legend(fontsize=14)\n",
    "    plt.xlabel(\"Epochs\")\n",
    "    plt.ylabel(\"Loss\")\n",
    "    plt.grid(True)\n",
    "\n",
    "plot_learning_curves(history.history[\"loss\"], history.history[\"val_loss\"])\n",
    "plt.show()"
   ]
  },
  {
   "cell_type": "markdown",
   "metadata": {},
   "source": [
    "#### RNN Baseline"
   ]
  },
  {
   "cell_type": "code",
   "execution_count": 13,
   "metadata": {},
   "outputs": [
    {
     "name": "stdout",
     "output_type": "stream",
     "text": [
      "Epoch 1/20\n",
      "15/15 [==============================] - 1s 20ms/step - loss: 1.0208 - val_loss: 1.0377\n",
      "Epoch 2/20\n",
      "15/15 [==============================] - 0s 4ms/step - loss: 0.9666 - val_loss: 1.0329\n",
      "Epoch 3/20\n",
      "15/15 [==============================] - 0s 4ms/step - loss: 0.9665 - val_loss: 1.0403\n",
      "Epoch 4/20\n",
      "15/15 [==============================] - 0s 4ms/step - loss: 0.9602 - val_loss: 1.0331\n",
      "Epoch 5/20\n",
      "15/15 [==============================] - 0s 4ms/step - loss: 0.9653 - val_loss: 1.0175\n",
      "Epoch 6/20\n",
      "15/15 [==============================] - 0s 5ms/step - loss: 0.9610 - val_loss: 1.0265\n",
      "Epoch 7/20\n",
      "15/15 [==============================] - 0s 5ms/step - loss: 0.9696 - val_loss: 1.0212\n",
      "Epoch 8/20\n",
      "15/15 [==============================] - 0s 5ms/step - loss: 0.9578 - val_loss: 1.0537\n",
      "Epoch 9/20\n",
      "15/15 [==============================] - 0s 5ms/step - loss: 0.9667 - val_loss: 1.0456\n",
      "Epoch 10/20\n",
      "15/15 [==============================] - 0s 5ms/step - loss: 0.9594 - val_loss: 1.0235\n",
      "Epoch 11/20\n",
      "15/15 [==============================] - 0s 4ms/step - loss: 0.9632 - val_loss: 1.0253\n",
      "Epoch 12/20\n",
      "15/15 [==============================] - 0s 7ms/step - loss: 0.9693 - val_loss: 1.0285\n",
      "Epoch 13/20\n",
      "15/15 [==============================] - 0s 5ms/step - loss: 0.9629 - val_loss: 1.0411\n",
      "Epoch 14/20\n",
      "15/15 [==============================] - 0s 4ms/step - loss: 0.9567 - val_loss: 1.0386\n",
      "Epoch 15/20\n",
      "15/15 [==============================] - 0s 4ms/step - loss: 0.9759 - val_loss: 1.0641\n",
      "Epoch 16/20\n",
      "15/15 [==============================] - 0s 4ms/step - loss: 0.9680 - val_loss: 1.0288\n",
      "Epoch 17/20\n",
      "15/15 [==============================] - 0s 4ms/step - loss: 0.9635 - val_loss: 1.0127\n",
      "Epoch 18/20\n",
      "15/15 [==============================] - 0s 4ms/step - loss: 0.9868 - val_loss: 1.0430\n",
      "Epoch 19/20\n",
      "15/15 [==============================] - 0s 5ms/step - loss: 0.9818 - val_loss: 1.0319\n",
      "Epoch 20/20\n",
      "15/15 [==============================] - 0s 4ms/step - loss: 0.9653 - val_loss: 1.0323\n",
      "4/4 [==============================] - 0s 2ms/step - loss: 1.0323\n"
     ]
    },
    {
     "data": {
      "text/plain": [
       "1.03229820728302"
      ]
     },
     "execution_count": 13,
     "metadata": {},
     "output_type": "execute_result"
    }
   ],
   "source": [
    "np.random.seed(42)\n",
    "tf.random.set_seed(42)\n",
    "\n",
    "deep_rnn_model = keras.models.Sequential([\n",
    "    keras.layers.SimpleRNN(100, return_sequences=True, input_shape=[n_steps, 1]),\n",
    "    keras.layers.SimpleRNN(100, return_sequences=True),\n",
    "    keras.layers.Dense(1)\n",
    "])\n",
    "\n",
    "deep_rnn_model.compile(loss=\"mse\", optimizer=\"adam\")\n",
    "deep_rnn_history = deep_rnn_model.fit(x_train, y_train, epochs=20, validation_data=(x_valid, y_valid))\n",
    "deep_rnn_model.evaluate(x_valid, y_valid)"
   ]
  },
  {
   "cell_type": "code",
   "execution_count": null,
   "metadata": {},
   "outputs": [],
   "source": [
    "plot_learning_curves(deep_rnn_history.history[\"loss\"], deep_rnn_history.history[\"val_loss\"])\n",
    "plt.show()"
   ]
  },
  {
   "cell_type": "code",
   "execution_count": null,
   "metadata": {},
   "outputs": [],
   "source": [
    "print([tensor.shape for tensor in (x_train, y_train, x_test, y_test)])"
   ]
  },
  {
   "cell_type": "code",
   "execution_count": 14,
   "metadata": {},
   "outputs": [],
   "source": [
    "def GRU_(n_units = 10, l1_reg=0, seed=0):\n",
    "  model = Sequential()\n",
    "  model.add(GRU(n_units, activation='tanh', kernel_initializer=keras.initializers.glorot_uniform(seed), bias_initializer=keras.initializers.glorot_uniform(seed), recurrent_initializer=keras.initializers.orthogonal(seed), kernel_regularizer=l1(l1_reg), input_shape=(x_train.shape[1], x_train.shape[-1]), unroll=True))  \n",
    "  model.add(Dense(1, kernel_initializer=keras.initializers.glorot_uniform(seed), bias_initializer=keras.initializers.glorot_uniform(seed), kernel_regularizer=l1(l1_reg)))\n",
    "  model.compile(loss='mean_squared_error', optimizer='adam')\n",
    "  return model\n",
    "\n",
    "\n",
    "def LSTM_(n_units = 10, l1_reg=0, seed=0):\n",
    "  model = Sequential()\n",
    "  model.add(LSTM(n_units, activation='tanh', kernel_initializer=keras.initializers.glorot_uniform(seed), bias_initializer=keras.initializers.glorot_uniform(seed), recurrent_initializer=keras.initializers.orthogonal(seed), kernel_regularizer=l1(l1_reg), input_shape=(x_train.shape[1], x_train.shape[-1]), unroll=True, return_sequences = True))\n",
    "  model.add(LSTM(n_units, activation='tanh', kernel_initializer=keras.initializers.glorot_uniform(seed), bias_initializer=keras.initializers.glorot_uniform(seed), recurrent_initializer=keras.initializers.orthogonal(seed), kernel_regularizer=l1(l1_reg), unroll=True)) \n",
    "  model.add(Dense(1, kernel_initializer=keras.initializers.glorot_uniform(seed), bias_initializer=keras.initializers.glorot_uniform(seed), kernel_regularizer=l1(l1_reg)))\n",
    "  model.compile(loss='mean_squared_error', optimizer='adam')\n",
    "  return model\n",
    "\n",
    "def SimpleRNN_(n_units = 10, l1_reg=0, seed=0):\n",
    "  model = Sequential()\n",
    "  model.add(SimpleRNN(n_units, activation='tanh', kernel_initializer=keras.initializers.glorot_uniform(seed), bias_initializer=keras.initializers.glorot_uniform(seed), recurrent_initializer=keras.initializers.orthogonal(seed), kernel_regularizer=l1(l1_reg), input_shape=(x_train.shape[1], x_train.shape[-1]), unroll=True, stateful=False))  \n",
    "  model.add(Dense(1, kernel_initializer=keras.initializers.glorot_uniform(seed), bias_initializer=keras.initializers.glorot_uniform(seed), kernel_regularizer=l1(l1_reg)))\n",
    "  model.compile(loss='mean_squared_error', optimizer='adam')\n",
    "  return model"
   ]
  },
  {
   "cell_type": "markdown",
   "metadata": {},
   "source": [
    "## Hand compiled Stacked LSTM"
   ]
  },
  {
   "cell_type": "code",
   "execution_count": null,
   "metadata": {},
   "outputs": [],
   "source": [
    "stacked_lstm_model = keras.models.Sequential([\n",
    "    keras.layers.LSTM(20, return_sequences=True, input_shape=[n_steps, 1]),\n",
    "    keras.layers.LSTM(20, return_sequences=True),\n",
    "    keras.layers.Dense(1)\n",
    "])"
   ]
  },
  {
   "cell_type": "code",
   "execution_count": null,
   "metadata": {},
   "outputs": [],
   "source": [
    "stacked_lstm_model.compile(loss=\"mse\", optimizer=\"adam\")"
   ]
  },
  {
   "cell_type": "markdown",
   "metadata": {},
   "source": [
    "1 min 1.7s"
   ]
  },
  {
   "cell_type": "code",
   "execution_count": null,
   "metadata": {},
   "outputs": [],
   "source": [
    "history = stacked_lstm_model.fit(x_train, y_train, epochs=20, validation_data=(x_test, y_test), batch_size = batch_size, verbose=1)"
   ]
  },
  {
   "cell_type": "code",
   "execution_count": null,
   "metadata": {},
   "outputs": [],
   "source": [
    "pd.DataFrame(history.history).plot(figsize=(8, 5))\n",
    "plt.grid(True)\n",
    "plt.gca().set_ylim(0, 1)\n",
    "#save_fig(\"keras_learning_curves_plot\")\n",
    "plt.show()"
   ]
  },
  {
   "cell_type": "code",
   "execution_count": 44,
   "metadata": {},
   "outputs": [],
   "source": [
    "def plot_learning_curves(loss, val_loss):\n",
    "    plt.plot(np.arange(len(loss)) + 0.5, loss, \"b.-\", label=\"Training loss\")\n",
    "    plt.plot(np.arange(len(val_loss)) + 1, val_loss, \"r.-\", label=\"Validation loss\")\n",
    "    plt.gca().xaxis.set_major_locator(mpl.ticker.MaxNLocator(integer=True))\n",
    "    plt.axis([1, 20, 0, 0.5])\n",
    "    plt.legend(fontsize=14)\n",
    "    plt.xlabel(\"Epochs\")\n",
    "    plt.ylabel(\"Loss\")\n",
    "    plt.grid(True)\n",
    "\n",
    "# plot_learning_curves(history.history[\"loss\"], history.history[\"val_loss\"])\n",
    "# plt.show()"
   ]
  },
  {
   "cell_type": "markdown",
   "metadata": {},
   "source": [
    "## Tune"
   ]
  },
  {
   "cell_type": "code",
   "execution_count": 15,
   "metadata": {},
   "outputs": [],
   "source": [
    "max_epochs = 100\n",
    "batch_size = 32"
   ]
  },
  {
   "cell_type": "code",
   "execution_count": 50,
   "metadata": {},
   "outputs": [],
   "source": [
    "es = EarlyStopping(monitor='loss', mode='min', verbose=1, patience=100, min_delta=1e-7, restore_best_weights=True)\n",
    "\n",
    "tb = keras.callbacks.TensorBoard(run_logdir)"
   ]
  },
  {
   "cell_type": "code",
   "execution_count": 29,
   "metadata": {},
   "outputs": [],
   "source": [
    "params = {\n",
    "    'rnn': {\n",
    "        'model' : None, 'function':SimpleRNN_, 'l1_reg': 0.0, 'H': 20,\n",
    "        'color': 'blue', 'label': 'RNN', 'history':[]\n",
    "    },\n",
    "    'gru': {\n",
    "        'model': None, 'function':GRU_,'l1_reg': 0.0, 'H': 10, \n",
    "        'color': 'orange', 'label': 'GRU'},\n",
    "    'lstm': {\n",
    "        'model': None, 'function': LSTM_,'l1_reg': 0.0, 'H': 10, \n",
    "        'color':'red', 'label': 'LSTM'}\n",
    "}"
   ]
  },
  {
   "cell_type": "code",
   "execution_count": 46,
   "metadata": {},
   "outputs": [
    {
     "data": {
      "text/plain": [
       "[1.2499126195907593,\n",
       " 1.0397417545318604,\n",
       " 0.9547919631004333,\n",
       " 0.9449976086616516,\n",
       " 0.9648186564445496,\n",
       " 0.9850908517837524,\n",
       " 0.9960353374481201,\n",
       " 0.9994120597839355,\n",
       " 0.9994081258773804,\n",
       " 0.9986767768859863,\n",
       " 0.9981797933578491,\n",
       " 0.9980170130729675,\n",
       " 0.9980406761169434,\n",
       " 0.9981189370155334,\n",
       " 0.9981917142868042,\n",
       " 0.9982472062110901,\n",
       " 0.9982913732528687,\n",
       " 0.9983306527137756,\n",
       " 0.9983682632446289,\n",
       " 0.9984047412872314,\n",
       " 0.9984397292137146,\n",
       " 0.9984731674194336,\n",
       " 0.9985050559043884,\n",
       " 0.9985354542732239,\n",
       " 0.9985648393630981,\n",
       " 0.9985927939414978,\n",
       " 0.9986196160316467,\n",
       " 0.9986453056335449,\n",
       " 0.9986700415611267,\n",
       " 0.9986939430236816,\n",
       " 0.9987167716026306,\n",
       " 0.9987387657165527,\n",
       " 0.9987602829933167,\n",
       " 0.9987807273864746,\n",
       " 0.9988005757331848,\n",
       " 0.9988195896148682,\n",
       " 0.9988383054733276,\n",
       " 0.9988561868667603,\n",
       " 0.9988734722137451,\n",
       " 0.9988903403282166,\n",
       " 0.9989066123962402,\n",
       " 0.9989224076271057,\n",
       " 0.9989376068115234,\n",
       " 0.9989523887634277,\n",
       " 0.9989665746688843,\n",
       " 0.9989806413650513,\n",
       " 0.9989941120147705,\n",
       " 0.9990071654319763,\n",
       " 0.9990198612213135,\n",
       " 0.9990324974060059,\n",
       " 0.9990442991256714,\n",
       " 0.9990559816360474,\n",
       " 0.9990673661231995,\n",
       " 0.9990783929824829,\n",
       " 0.9990890622138977,\n",
       " 0.9990995526313782,\n",
       " 0.99910968542099,\n",
       " 0.9991195797920227,\n",
       " 0.9991291165351868,\n",
       " 0.9991385340690613,\n",
       " 0.9991476535797119,\n",
       " 0.9991564750671387,\n",
       " 0.9991651773452759,\n",
       " 0.9991735816001892,\n",
       " 0.9991816878318787,\n",
       " 0.9991896748542786,\n",
       " 0.9991976022720337,\n",
       " 0.9992051720619202,\n",
       " 0.9992125034332275,\n",
       " 0.9992196559906006,\n",
       " 0.9992265701293945,\n",
       " 0.9992335438728333,\n",
       " 0.9992402791976929,\n",
       " 0.9992466568946838,\n",
       " 0.99925297498703,\n",
       " 0.9992594122886658,\n",
       " 0.9992653727531433,\n",
       " 0.9992710947990417,\n",
       " 0.9992769360542297,\n",
       " 0.9992824792861938,\n",
       " 0.999288022518158,\n",
       " 0.9992932081222534,\n",
       " 0.9992985725402832,\n",
       " 0.9993035793304443,\n",
       " 0.9993084669113159,\n",
       " 0.9993133544921875,\n",
       " 0.9993180632591248,\n",
       " 0.9993226528167725,\n",
       " 0.9993271827697754,\n",
       " 0.999331533908844,\n",
       " 0.999335765838623,\n",
       " 0.9993399977684021,\n",
       " 0.9993439316749573,\n",
       " 0.9993479251861572,\n",
       " 0.9993517994880676,\n",
       " 0.9993556141853333,\n",
       " 0.9993591904640198,\n",
       " 0.9993628263473511,\n",
       " 0.9993663430213928,\n",
       " 0.9993698000907898]"
      ]
     },
     "execution_count": 46,
     "metadata": {},
     "output_type": "execute_result"
    }
   ],
   "source": [
    "params['rnn']['history'].history['val_loss']"
   ]
  },
  {
   "cell_type": "markdown",
   "metadata": {},
   "source": [
    "### Hyperparameter Tuning (25 mins 43 seconds)\n",
    "btc_hr_24 batch = 32 epoch = 100 1 min 13s\n",
    "btc_hr_1 batch = 32 epoch = 100"
   ]
  },
  {
   "cell_type": "code",
   "execution_count": null,
   "metadata": {},
   "outputs": [],
   "source": [
    "cross_val = True # WARNING: Changing this to True will take many hours to run\n",
    "\n",
    "if cross_val:\n",
    "    n_units = [5, 10, 20]\n",
    "    #l1_reg = [0, 0.001, 0.01, 0.1]\n",
    "    l1_reg = [0]\n",
    "    \n",
    "    # A dictionary containing a list of values to be iterated through\n",
    "    # for each parameter of the model included in the search\n",
    "    param_grid = {'n_units': n_units, 'l1_reg': l1_reg}\n",
    "    \n",
    "    # In the kth split, TimeSeriesSplit returns first k folds \n",
    "    # as training set and the (k+1)th fold as test set.\n",
    "    tscv = TimeSeriesSplit(n_splits = 5)\n",
    "    \n",
    "    # A grid search is performed for each of the models, and the parameter set which\n",
    "    # performs best over all the cross-validation splits is saved in the `params` dictionary\n",
    "    for key in params.keys():\n",
    "        print('Performing cross-validation. Model:', key)\n",
    "        model = KerasRegressor(model=params[key]['function'], epochs=max_epochs, \n",
    "                               batch_size=batch_size, verbose=2, l1_reg=l1_reg, n_units=n_units)\n",
    "        grid = GridSearchCV(estimator=model, param_grid=param_grid, \n",
    "                            cv=tscv, n_jobs=1, verbose=2) # scikeras uses r^2 scoring by default\n",
    "        grid_result = grid.fit(x_train, y_train, callbacks=[es, tb])\n",
    "        print(\"Best: %f using %s\" % (grid_result.best_score_, grid_result.best_params_))\n",
    "        \n",
    "        means = grid_result.cv_results_['mean_test_score']\n",
    "        stds = grid_result.cv_results_['std_test_score']\n",
    "        params_ = grid_result.cv_results_['params']\n",
    "        for mean, stdev, param_ in zip(means, stds, params_):\n",
    "            print(\"%f (%f) with %r\" % (mean, stdev, param_))\n",
    "            \n",
    "        params[key]['H'] = grid_result.best_params_['n_units']\n",
    "        params[key]['l1_reg']= grid_result.best_params_['l1_reg']"
   ]
  },
  {
   "cell_type": "markdown",
   "metadata": {},
   "source": [
    "fit model\n",
    "3 min 35.5 s\n",
    "\n",
    "25m 54.5s\n",
    "batch size = 32 \n",
    "epoch = 100"
   ]
  },
  {
   "cell_type": "markdown",
   "metadata": {},
   "source": [
    "## Train Model"
   ]
  },
  {
   "cell_type": "code",
   "execution_count": 51,
   "metadata": {},
   "outputs": [
    {
     "name": "stdout",
     "output_type": "stream",
     "text": [
      "Training rnn model\n",
      "Epoch 1/100\n",
      "15/15 [==============================] - 1s 18ms/step - loss: 1.7215 - val_loss: 1.2499\n",
      "Epoch 2/100\n",
      "15/15 [==============================] - 0s 6ms/step - loss: 1.3388 - val_loss: 1.0397\n",
      "Epoch 3/100\n",
      "15/15 [==============================] - 0s 4ms/step - loss: 1.1071 - val_loss: 0.9548\n",
      "Epoch 4/100\n",
      "15/15 [==============================] - 0s 6ms/step - loss: 0.9875 - val_loss: 0.9450\n",
      "Epoch 5/100\n",
      "15/15 [==============================] - 0s 5ms/step - loss: 0.9387 - val_loss: 0.9648\n",
      "Epoch 6/100\n",
      "15/15 [==============================] - 0s 7ms/step - loss: 0.9247 - val_loss: 0.9851\n",
      "Epoch 7/100\n",
      "15/15 [==============================] - 0s 6ms/step - loss: 0.9226 - val_loss: 0.9960\n",
      "Epoch 8/100\n",
      "15/15 [==============================] - 0s 4ms/step - loss: 0.9229 - val_loss: 0.9994\n",
      "Epoch 9/100\n",
      "15/15 [==============================] - 0s 8ms/step - loss: 0.9232 - val_loss: 0.9994\n",
      "Epoch 10/100\n",
      "15/15 [==============================] - 0s 5ms/step - loss: 0.9233 - val_loss: 0.9987\n",
      "Epoch 11/100\n",
      "15/15 [==============================] - 0s 4ms/step - loss: 0.9233 - val_loss: 0.9982\n",
      "Epoch 12/100\n",
      "15/15 [==============================] - 0s 4ms/step - loss: 0.9233 - val_loss: 0.9980\n",
      "Epoch 13/100\n",
      "15/15 [==============================] - 0s 5ms/step - loss: 0.9234 - val_loss: 0.9980\n",
      "Epoch 14/100\n",
      "15/15 [==============================] - 0s 4ms/step - loss: 0.9234 - val_loss: 0.9981\n",
      "Epoch 15/100\n",
      "15/15 [==============================] - 0s 4ms/step - loss: 0.9234 - val_loss: 0.9982\n",
      "Epoch 16/100\n",
      "15/15 [==============================] - 0s 3ms/step - loss: 0.9235 - val_loss: 0.9982\n",
      "Epoch 17/100\n",
      "15/15 [==============================] - 0s 3ms/step - loss: 0.9235 - val_loss: 0.9983\n",
      "Epoch 18/100\n",
      "15/15 [==============================] - 0s 4ms/step - loss: 0.9235 - val_loss: 0.9983\n",
      "Epoch 19/100\n",
      "15/15 [==============================] - 0s 4ms/step - loss: 0.9235 - val_loss: 0.9984\n",
      "Epoch 20/100\n",
      "15/15 [==============================] - 0s 4ms/step - loss: 0.9236 - val_loss: 0.9984\n",
      "Epoch 21/100\n",
      "15/15 [==============================] - 0s 4ms/step - loss: 0.9236 - val_loss: 0.9984\n",
      "Epoch 22/100\n",
      "15/15 [==============================] - 0s 5ms/step - loss: 0.9236 - val_loss: 0.9985\n",
      "Epoch 23/100\n",
      "15/15 [==============================] - 0s 4ms/step - loss: 0.9236 - val_loss: 0.9985\n",
      "Epoch 24/100\n",
      "15/15 [==============================] - 0s 6ms/step - loss: 0.9236 - val_loss: 0.9985\n",
      "Epoch 25/100\n",
      "15/15 [==============================] - 0s 4ms/step - loss: 0.9236 - val_loss: 0.9986\n",
      "Epoch 26/100\n",
      "15/15 [==============================] - 0s 4ms/step - loss: 0.9237 - val_loss: 0.9986\n",
      "Epoch 27/100\n",
      "15/15 [==============================] - 0s 4ms/step - loss: 0.9237 - val_loss: 0.9986\n",
      "Epoch 28/100\n",
      "15/15 [==============================] - 0s 4ms/step - loss: 0.9237 - val_loss: 0.9986\n",
      "Epoch 29/100\n",
      "15/15 [==============================] - 0s 4ms/step - loss: 0.9237 - val_loss: 0.9987\n",
      "Epoch 30/100\n",
      "15/15 [==============================] - 0s 5ms/step - loss: 0.9237 - val_loss: 0.9987\n",
      "Epoch 31/100\n",
      "15/15 [==============================] - 0s 5ms/step - loss: 0.9237 - val_loss: 0.9987\n",
      "Epoch 32/100\n",
      "15/15 [==============================] - 0s 4ms/step - loss: 0.9237 - val_loss: 0.9987\n",
      "Epoch 33/100\n",
      "15/15 [==============================] - 0s 5ms/step - loss: 0.9237 - val_loss: 0.9988\n",
      "Epoch 34/100\n",
      "15/15 [==============================] - 0s 5ms/step - loss: 0.9238 - val_loss: 0.9988\n",
      "Epoch 35/100\n",
      "15/15 [==============================] - 0s 5ms/step - loss: 0.9238 - val_loss: 0.9988\n",
      "Epoch 36/100\n",
      "15/15 [==============================] - 0s 4ms/step - loss: 0.9238 - val_loss: 0.9988\n",
      "Epoch 37/100\n",
      "15/15 [==============================] - 0s 4ms/step - loss: 0.9238 - val_loss: 0.9988\n",
      "Epoch 38/100\n",
      "15/15 [==============================] - 0s 4ms/step - loss: 0.9238 - val_loss: 0.9989\n",
      "Epoch 39/100\n",
      "15/15 [==============================] - 0s 4ms/step - loss: 0.9238 - val_loss: 0.9989\n",
      "Epoch 40/100\n",
      "15/15 [==============================] - 0s 3ms/step - loss: 0.9238 - val_loss: 0.9989\n",
      "Epoch 41/100\n",
      "15/15 [==============================] - 0s 3ms/step - loss: 0.9238 - val_loss: 0.9989\n",
      "Epoch 42/100\n",
      "15/15 [==============================] - 0s 4ms/step - loss: 0.9238 - val_loss: 0.9989\n",
      "Epoch 43/100\n",
      "15/15 [==============================] - 0s 4ms/step - loss: 0.9238 - val_loss: 0.9989\n",
      "Epoch 44/100\n",
      "15/15 [==============================] - 0s 4ms/step - loss: 0.9238 - val_loss: 0.9990\n",
      "Epoch 45/100\n",
      "15/15 [==============================] - 0s 4ms/step - loss: 0.9238 - val_loss: 0.9990\n",
      "Epoch 46/100\n",
      "15/15 [==============================] - 0s 4ms/step - loss: 0.9238 - val_loss: 0.9990\n",
      "Epoch 47/100\n",
      "15/15 [==============================] - 0s 3ms/step - loss: 0.9238 - val_loss: 0.9990\n",
      "Epoch 48/100\n",
      "15/15 [==============================] - 0s 4ms/step - loss: 0.9239 - val_loss: 0.9990\n",
      "Epoch 49/100\n",
      "15/15 [==============================] - 0s 4ms/step - loss: 0.9239 - val_loss: 0.9990\n",
      "Epoch 50/100\n",
      "15/15 [==============================] - 0s 3ms/step - loss: 0.9239 - val_loss: 0.9990\n",
      "Epoch 51/100\n",
      "15/15 [==============================] - 0s 4ms/step - loss: 0.9239 - val_loss: 0.9990\n",
      "Epoch 52/100\n",
      "15/15 [==============================] - 0s 5ms/step - loss: 0.9239 - val_loss: 0.9991\n",
      "Epoch 53/100\n",
      "15/15 [==============================] - 0s 4ms/step - loss: 0.9239 - val_loss: 0.9991\n",
      "Epoch 54/100\n",
      "15/15 [==============================] - 0s 3ms/step - loss: 0.9239 - val_loss: 0.9991\n",
      "Epoch 55/100\n",
      "15/15 [==============================] - 0s 5ms/step - loss: 0.9239 - val_loss: 0.9991\n",
      "Epoch 56/100\n",
      "15/15 [==============================] - 0s 5ms/step - loss: 0.9239 - val_loss: 0.9991\n",
      "Epoch 57/100\n",
      "15/15 [==============================] - 0s 4ms/step - loss: 0.9239 - val_loss: 0.9991\n",
      "Epoch 58/100\n",
      "15/15 [==============================] - 0s 4ms/step - loss: 0.9239 - val_loss: 0.9991\n",
      "Epoch 59/100\n",
      "15/15 [==============================] - 0s 3ms/step - loss: 0.9239 - val_loss: 0.9991\n",
      "Epoch 60/100\n",
      "15/15 [==============================] - 0s 4ms/step - loss: 0.9239 - val_loss: 0.9991\n",
      "Epoch 61/100\n",
      "15/15 [==============================] - 0s 3ms/step - loss: 0.9239 - val_loss: 0.9991\n",
      "Epoch 62/100\n",
      "15/15 [==============================] - 0s 4ms/step - loss: 0.9239 - val_loss: 0.9992\n",
      "Epoch 63/100\n",
      "15/15 [==============================] - 0s 3ms/step - loss: 0.9239 - val_loss: 0.9992\n",
      "Epoch 64/100\n",
      "15/15 [==============================] - 0s 4ms/step - loss: 0.9239 - val_loss: 0.9992\n",
      "Epoch 65/100\n",
      "15/15 [==============================] - 0s 3ms/step - loss: 0.9239 - val_loss: 0.9992\n",
      "Epoch 66/100\n",
      "15/15 [==============================] - 0s 3ms/step - loss: 0.9239 - val_loss: 0.9992\n",
      "Epoch 67/100\n",
      "15/15 [==============================] - 0s 3ms/step - loss: 0.9239 - val_loss: 0.9992\n",
      "Epoch 68/100\n",
      "15/15 [==============================] - 0s 3ms/step - loss: 0.9239 - val_loss: 0.9992\n",
      "Epoch 69/100\n",
      "15/15 [==============================] - 0s 4ms/step - loss: 0.9239 - val_loss: 0.9992\n",
      "Epoch 70/100\n",
      "15/15 [==============================] - 0s 7ms/step - loss: 0.9239 - val_loss: 0.9992\n",
      "Epoch 71/100\n",
      "15/15 [==============================] - 0s 6ms/step - loss: 0.9239 - val_loss: 0.9992\n",
      "Epoch 72/100\n",
      "15/15 [==============================] - 0s 6ms/step - loss: 0.9239 - val_loss: 0.9992\n",
      "Epoch 73/100\n",
      "15/15 [==============================] - 0s 5ms/step - loss: 0.9240 - val_loss: 0.9992\n",
      "Epoch 74/100\n",
      "15/15 [==============================] - 0s 5ms/step - loss: 0.9240 - val_loss: 0.9992\n",
      "Epoch 75/100\n",
      "15/15 [==============================] - 0s 4ms/step - loss: 0.9240 - val_loss: 0.9993\n",
      "Epoch 76/100\n",
      "15/15 [==============================] - 0s 5ms/step - loss: 0.9240 - val_loss: 0.9993\n",
      "Epoch 77/100\n",
      "15/15 [==============================] - 0s 4ms/step - loss: 0.9240 - val_loss: 0.9993\n",
      "Epoch 78/100\n",
      "15/15 [==============================] - 0s 3ms/step - loss: 0.9240 - val_loss: 0.9993\n",
      "Epoch 79/100\n",
      "15/15 [==============================] - 0s 3ms/step - loss: 0.9240 - val_loss: 0.9993\n",
      "Epoch 80/100\n",
      "15/15 [==============================] - 0s 4ms/step - loss: 0.9240 - val_loss: 0.9993\n",
      "Epoch 81/100\n",
      "15/15 [==============================] - 0s 3ms/step - loss: 0.9240 - val_loss: 0.9993\n",
      "Epoch 82/100\n",
      "15/15 [==============================] - 0s 3ms/step - loss: 0.9240 - val_loss: 0.9993\n",
      "Epoch 83/100\n",
      "15/15 [==============================] - 0s 4ms/step - loss: 0.9240 - val_loss: 0.9993\n",
      "Epoch 84/100\n",
      "15/15 [==============================] - 0s 3ms/step - loss: 0.9240 - val_loss: 0.9993\n",
      "Epoch 85/100\n",
      "15/15 [==============================] - 0s 5ms/step - loss: 0.9240 - val_loss: 0.9993\n",
      "Epoch 86/100\n",
      "15/15 [==============================] - 0s 5ms/step - loss: 0.9240 - val_loss: 0.9993\n",
      "Epoch 87/100\n",
      "15/15 [==============================] - 0s 17ms/step - loss: 0.9240 - val_loss: 0.9993\n",
      "Epoch 88/100\n",
      "15/15 [==============================] - 0s 9ms/step - loss: 0.9240 - val_loss: 0.9993\n",
      "Epoch 89/100\n",
      "15/15 [==============================] - 0s 7ms/step - loss: 0.9240 - val_loss: 0.9993\n",
      "Epoch 90/100\n",
      "15/15 [==============================] - 0s 6ms/step - loss: 0.9240 - val_loss: 0.9993\n",
      "Epoch 91/100\n",
      "15/15 [==============================] - 0s 6ms/step - loss: 0.9240 - val_loss: 0.9993\n",
      "Epoch 92/100\n",
      "15/15 [==============================] - 0s 6ms/step - loss: 0.9240 - val_loss: 0.9993\n",
      "Epoch 93/100\n",
      "15/15 [==============================] - 0s 5ms/step - loss: 0.9240 - val_loss: 0.9993\n",
      "Epoch 94/100\n",
      "15/15 [==============================] - 0s 5ms/step - loss: 0.9240 - val_loss: 0.9993\n",
      "Epoch 95/100\n",
      "15/15 [==============================] - 0s 4ms/step - loss: 0.9240 - val_loss: 0.9994\n",
      "Epoch 96/100\n",
      "15/15 [==============================] - 0s 3ms/step - loss: 0.9240 - val_loss: 0.9994\n",
      "Epoch 97/100\n",
      "15/15 [==============================] - 0s 3ms/step - loss: 0.9240 - val_loss: 0.9994\n",
      "Epoch 98/100\n",
      "15/15 [==============================] - 0s 4ms/step - loss: 0.9240 - val_loss: 0.9994\n",
      "Epoch 99/100\n",
      "15/15 [==============================] - 0s 4ms/step - loss: 0.9240 - val_loss: 0.9994\n",
      "Epoch 100/100\n",
      "15/15 [==============================] - 0s 4ms/step - loss: 0.9240 - val_loss: 0.9994\n",
      "Training gru model\n",
      "Epoch 1/100\n",
      "15/15 [==============================] - 1s 15ms/step - loss: 1.0861 - val_loss: 0.9595\n",
      "Epoch 2/100\n",
      "15/15 [==============================] - 0s 4ms/step - loss: 0.9828 - val_loss: 0.9537\n",
      "Epoch 3/100\n",
      "15/15 [==============================] - 0s 5ms/step - loss: 0.9372 - val_loss: 0.9752\n",
      "Epoch 4/100\n",
      "15/15 [==============================] - 0s 5ms/step - loss: 0.9247 - val_loss: 0.9947\n",
      "Epoch 5/100\n",
      "15/15 [==============================] - 0s 4ms/step - loss: 0.9234 - val_loss: 1.0014\n",
      "Epoch 6/100\n",
      "15/15 [==============================] - 0s 3ms/step - loss: 0.9234 - val_loss: 1.0007\n",
      "Epoch 7/100\n",
      "15/15 [==============================] - 0s 3ms/step - loss: 0.9233 - val_loss: 0.9989\n",
      "Epoch 8/100\n",
      "15/15 [==============================] - 0s 3ms/step - loss: 0.9232 - val_loss: 0.9980\n",
      "Epoch 9/100\n",
      "15/15 [==============================] - 0s 4ms/step - loss: 0.9231 - val_loss: 0.9980\n",
      "Epoch 10/100\n",
      "15/15 [==============================] - 0s 7ms/step - loss: 0.9231 - val_loss: 0.9982\n",
      "Epoch 11/100\n",
      "15/15 [==============================] - 0s 5ms/step - loss: 0.9231 - val_loss: 0.9983\n",
      "Epoch 12/100\n",
      "15/15 [==============================] - 0s 5ms/step - loss: 0.9231 - val_loss: 0.9983\n",
      "Epoch 13/100\n",
      "15/15 [==============================] - 0s 4ms/step - loss: 0.9231 - val_loss: 0.9984\n",
      "Epoch 14/100\n",
      "15/15 [==============================] - 0s 4ms/step - loss: 0.9231 - val_loss: 0.9984\n",
      "Epoch 15/100\n",
      "15/15 [==============================] - 0s 3ms/step - loss: 0.9231 - val_loss: 0.9984\n",
      "Epoch 16/100\n",
      "15/15 [==============================] - 0s 4ms/step - loss: 0.9231 - val_loss: 0.9984\n",
      "Epoch 17/100\n",
      "15/15 [==============================] - 0s 4ms/step - loss: 0.9231 - val_loss: 0.9984\n",
      "Epoch 18/100\n",
      "15/15 [==============================] - 0s 5ms/step - loss: 0.9231 - val_loss: 0.9984\n",
      "Epoch 19/100\n",
      "15/15 [==============================] - 0s 3ms/step - loss: 0.9232 - val_loss: 0.9984\n",
      "Epoch 20/100\n",
      "15/15 [==============================] - 0s 3ms/step - loss: 0.9232 - val_loss: 0.9985\n",
      "Epoch 21/100\n",
      "15/15 [==============================] - 0s 4ms/step - loss: 0.9232 - val_loss: 0.9985\n",
      "Epoch 22/100\n",
      "15/15 [==============================] - 0s 3ms/step - loss: 0.9232 - val_loss: 0.9985\n",
      "Epoch 23/100\n",
      "15/15 [==============================] - 0s 3ms/step - loss: 0.9232 - val_loss: 0.9985\n",
      "Epoch 24/100\n",
      "15/15 [==============================] - 0s 3ms/step - loss: 0.9232 - val_loss: 0.9985\n",
      "Epoch 25/100\n",
      "15/15 [==============================] - 0s 3ms/step - loss: 0.9232 - val_loss: 0.9985\n",
      "Epoch 26/100\n",
      "15/15 [==============================] - 0s 3ms/step - loss: 0.9232 - val_loss: 0.9985\n",
      "Epoch 27/100\n",
      "15/15 [==============================] - 0s 3ms/step - loss: 0.9231 - val_loss: 0.9985\n",
      "Epoch 28/100\n",
      "15/15 [==============================] - 0s 3ms/step - loss: 0.9231 - val_loss: 0.9985\n",
      "Epoch 29/100\n",
      "15/15 [==============================] - 0s 3ms/step - loss: 0.9231 - val_loss: 0.9985\n",
      "Epoch 30/100\n",
      "15/15 [==============================] - 0s 3ms/step - loss: 0.9231 - val_loss: 0.9985\n",
      "Epoch 31/100\n",
      "15/15 [==============================] - 0s 3ms/step - loss: 0.9231 - val_loss: 0.9985\n",
      "Epoch 32/100\n",
      "15/15 [==============================] - 0s 3ms/step - loss: 0.9231 - val_loss: 0.9985\n",
      "Epoch 33/100\n",
      "15/15 [==============================] - 0s 3ms/step - loss: 0.9231 - val_loss: 0.9985\n",
      "Epoch 34/100\n",
      "15/15 [==============================] - 0s 3ms/step - loss: 0.9231 - val_loss: 0.9985\n",
      "Epoch 35/100\n",
      "15/15 [==============================] - 0s 3ms/step - loss: 0.9231 - val_loss: 0.9985\n",
      "Epoch 36/100\n",
      "15/15 [==============================] - 0s 3ms/step - loss: 0.9231 - val_loss: 0.9985\n",
      "Epoch 37/100\n",
      "15/15 [==============================] - 0s 3ms/step - loss: 0.9231 - val_loss: 0.9985\n",
      "Epoch 38/100\n",
      "15/15 [==============================] - 0s 3ms/step - loss: 0.9231 - val_loss: 0.9986\n",
      "Epoch 39/100\n",
      "15/15 [==============================] - 0s 4ms/step - loss: 0.9231 - val_loss: 0.9986\n",
      "Epoch 40/100\n",
      "15/15 [==============================] - 0s 3ms/step - loss: 0.9231 - val_loss: 0.9986\n",
      "Epoch 41/100\n",
      "15/15 [==============================] - 0s 3ms/step - loss: 0.9231 - val_loss: 0.9986\n",
      "Epoch 42/100\n",
      "15/15 [==============================] - 0s 3ms/step - loss: 0.9231 - val_loss: 0.9986\n",
      "Epoch 43/100\n",
      "15/15 [==============================] - 0s 3ms/step - loss: 0.9231 - val_loss: 0.9986\n",
      "Epoch 44/100\n",
      "15/15 [==============================] - 0s 3ms/step - loss: 0.9231 - val_loss: 0.9986\n",
      "Epoch 45/100\n",
      "15/15 [==============================] - 0s 3ms/step - loss: 0.9231 - val_loss: 0.9986\n",
      "Epoch 46/100\n",
      "15/15 [==============================] - 0s 3ms/step - loss: 0.9231 - val_loss: 0.9986\n",
      "Epoch 47/100\n",
      "15/15 [==============================] - 0s 3ms/step - loss: 0.9231 - val_loss: 0.9986\n",
      "Epoch 48/100\n",
      "15/15 [==============================] - 0s 3ms/step - loss: 0.9231 - val_loss: 0.9986\n",
      "Epoch 49/100\n",
      "15/15 [==============================] - 0s 3ms/step - loss: 0.9231 - val_loss: 0.9986\n",
      "Epoch 50/100\n",
      "15/15 [==============================] - 0s 3ms/step - loss: 0.9231 - val_loss: 0.9986\n",
      "Epoch 51/100\n",
      "15/15 [==============================] - 0s 3ms/step - loss: 0.9231 - val_loss: 0.9986\n",
      "Epoch 52/100\n",
      "15/15 [==============================] - 0s 3ms/step - loss: 0.9231 - val_loss: 0.9986\n",
      "Epoch 53/100\n",
      "15/15 [==============================] - 0s 3ms/step - loss: 0.9231 - val_loss: 0.9986\n",
      "Epoch 54/100\n",
      "15/15 [==============================] - 0s 3ms/step - loss: 0.9231 - val_loss: 0.9986\n",
      "Epoch 55/100\n",
      "15/15 [==============================] - 0s 3ms/step - loss: 0.9231 - val_loss: 0.9986\n",
      "Epoch 56/100\n",
      "15/15 [==============================] - 0s 3ms/step - loss: 0.9231 - val_loss: 0.9986\n",
      "Epoch 57/100\n",
      "15/15 [==============================] - 0s 3ms/step - loss: 0.9231 - val_loss: 0.9986\n",
      "Epoch 58/100\n",
      "15/15 [==============================] - 0s 3ms/step - loss: 0.9231 - val_loss: 0.9986\n",
      "Epoch 59/100\n",
      "15/15 [==============================] - 0s 3ms/step - loss: 0.9231 - val_loss: 0.9986\n",
      "Epoch 60/100\n",
      "15/15 [==============================] - 0s 4ms/step - loss: 0.9231 - val_loss: 0.9986\n",
      "Epoch 61/100\n",
      "15/15 [==============================] - 0s 3ms/step - loss: 0.9231 - val_loss: 0.9986\n",
      "Epoch 62/100\n",
      "15/15 [==============================] - 0s 3ms/step - loss: 0.9231 - val_loss: 0.9986\n",
      "Epoch 63/100\n",
      "15/15 [==============================] - 0s 3ms/step - loss: 0.9230 - val_loss: 0.9986\n",
      "Epoch 64/100\n",
      "15/15 [==============================] - 0s 3ms/step - loss: 0.9230 - val_loss: 0.9986\n",
      "Epoch 65/100\n",
      "15/15 [==============================] - 0s 3ms/step - loss: 0.9230 - val_loss: 0.9986\n",
      "Epoch 66/100\n",
      "15/15 [==============================] - 0s 3ms/step - loss: 0.9230 - val_loss: 0.9986\n",
      "Epoch 67/100\n",
      "15/15 [==============================] - 0s 3ms/step - loss: 0.9230 - val_loss: 0.9986\n",
      "Epoch 68/100\n",
      "15/15 [==============================] - 0s 3ms/step - loss: 0.9230 - val_loss: 0.9986\n",
      "Epoch 69/100\n",
      "15/15 [==============================] - 0s 3ms/step - loss: 0.9230 - val_loss: 0.9986\n",
      "Epoch 70/100\n",
      "15/15 [==============================] - 0s 3ms/step - loss: 0.9230 - val_loss: 0.9986\n",
      "Epoch 71/100\n",
      "15/15 [==============================] - 0s 3ms/step - loss: 0.9230 - val_loss: 0.9986\n",
      "Epoch 72/100\n",
      "15/15 [==============================] - 0s 3ms/step - loss: 0.9230 - val_loss: 0.9986\n",
      "Epoch 73/100\n",
      "15/15 [==============================] - 0s 3ms/step - loss: 0.9230 - val_loss: 0.9986\n",
      "Epoch 74/100\n",
      "15/15 [==============================] - 0s 3ms/step - loss: 0.9230 - val_loss: 0.9986\n",
      "Epoch 75/100\n",
      "15/15 [==============================] - 0s 3ms/step - loss: 0.9230 - val_loss: 0.9985\n",
      "Epoch 76/100\n",
      "15/15 [==============================] - 0s 3ms/step - loss: 0.9230 - val_loss: 0.9985\n",
      "Epoch 77/100\n",
      "15/15 [==============================] - 0s 3ms/step - loss: 0.9230 - val_loss: 0.9985\n",
      "Epoch 78/100\n",
      "15/15 [==============================] - 0s 3ms/step - loss: 0.9230 - val_loss: 0.9985\n",
      "Epoch 79/100\n",
      "15/15 [==============================] - 0s 3ms/step - loss: 0.9230 - val_loss: 0.9985\n",
      "Epoch 80/100\n",
      "15/15 [==============================] - 0s 3ms/step - loss: 0.9230 - val_loss: 0.9985\n",
      "Epoch 81/100\n",
      "15/15 [==============================] - 0s 3ms/step - loss: 0.9230 - val_loss: 0.9985\n",
      "Epoch 82/100\n",
      "15/15 [==============================] - 0s 4ms/step - loss: 0.9230 - val_loss: 0.9985\n",
      "Epoch 83/100\n",
      "15/15 [==============================] - 0s 3ms/step - loss: 0.9230 - val_loss: 0.9985\n",
      "Epoch 84/100\n",
      "15/15 [==============================] - 0s 3ms/step - loss: 0.9230 - val_loss: 0.9985\n",
      "Epoch 85/100\n",
      "15/15 [==============================] - 0s 3ms/step - loss: 0.9230 - val_loss: 0.9985\n",
      "Epoch 86/100\n",
      "15/15 [==============================] - 0s 6ms/step - loss: 0.9230 - val_loss: 0.9985\n",
      "Epoch 87/100\n",
      "15/15 [==============================] - 0s 7ms/step - loss: 0.9230 - val_loss: 0.9985\n",
      "Epoch 88/100\n",
      "15/15 [==============================] - 0s 7ms/step - loss: 0.9230 - val_loss: 0.9985\n",
      "Epoch 89/100\n",
      "15/15 [==============================] - 0s 4ms/step - loss: 0.9230 - val_loss: 0.9985\n",
      "Epoch 90/100\n",
      "15/15 [==============================] - 0s 4ms/step - loss: 0.9230 - val_loss: 0.9985\n",
      "Epoch 91/100\n",
      "15/15 [==============================] - 0s 4ms/step - loss: 0.9229 - val_loss: 0.9985\n",
      "Epoch 92/100\n",
      "15/15 [==============================] - 0s 4ms/step - loss: 0.9229 - val_loss: 0.9985\n",
      "Epoch 93/100\n",
      "15/15 [==============================] - 0s 4ms/step - loss: 0.9229 - val_loss: 0.9985\n",
      "Epoch 94/100\n",
      "15/15 [==============================] - 0s 5ms/step - loss: 0.9229 - val_loss: 0.9985\n",
      "Epoch 95/100\n",
      "15/15 [==============================] - 0s 5ms/step - loss: 0.9229 - val_loss: 0.9985\n",
      "Epoch 96/100\n",
      "15/15 [==============================] - 0s 9ms/step - loss: 0.9229 - val_loss: 0.9985\n",
      "Epoch 97/100\n",
      "15/15 [==============================] - 0s 4ms/step - loss: 0.9229 - val_loss: 0.9985\n",
      "Epoch 98/100\n",
      "15/15 [==============================] - 0s 4ms/step - loss: 0.9229 - val_loss: 0.9985\n",
      "Epoch 99/100\n",
      "15/15 [==============================] - 0s 3ms/step - loss: 0.9229 - val_loss: 0.9985\n",
      "Epoch 100/100\n",
      "15/15 [==============================] - 0s 3ms/step - loss: 0.9229 - val_loss: 0.9985\n",
      "Training lstm model\n",
      "Epoch 1/100\n",
      "15/15 [==============================] - 1s 13ms/step - loss: 1.1737 - val_loss: 1.3417\n",
      "Epoch 2/100\n",
      "15/15 [==============================] - 0s 3ms/step - loss: 1.0582 - val_loss: 1.1805\n",
      "Epoch 3/100\n",
      "15/15 [==============================] - 0s 3ms/step - loss: 0.9709 - val_loss: 1.0498\n",
      "Epoch 4/100\n",
      "15/15 [==============================] - 0s 4ms/step - loss: 0.9324 - val_loss: 0.9896\n",
      "Epoch 5/100\n",
      "15/15 [==============================] - 0s 4ms/step - loss: 0.9254 - val_loss: 0.9862\n",
      "Epoch 6/100\n",
      "15/15 [==============================] - 0s 4ms/step - loss: 0.9228 - val_loss: 0.9964\n",
      "Epoch 7/100\n",
      "15/15 [==============================] - 0s 3ms/step - loss: 0.9230 - val_loss: 1.0007\n",
      "Epoch 8/100\n",
      "15/15 [==============================] - 0s 3ms/step - loss: 0.9234 - val_loss: 1.0001\n",
      "Epoch 9/100\n",
      "15/15 [==============================] - 0s 3ms/step - loss: 0.9234 - val_loss: 0.9992\n",
      "Epoch 10/100\n",
      "15/15 [==============================] - 0s 3ms/step - loss: 0.9233 - val_loss: 0.9992\n",
      "Epoch 11/100\n",
      "15/15 [==============================] - 0s 3ms/step - loss: 0.9233 - val_loss: 0.9994\n",
      "Epoch 12/100\n",
      "15/15 [==============================] - 0s 3ms/step - loss: 0.9233 - val_loss: 0.9995\n",
      "Epoch 13/100\n",
      "15/15 [==============================] - 0s 3ms/step - loss: 0.9233 - val_loss: 0.9995\n",
      "Epoch 14/100\n",
      "15/15 [==============================] - 0s 5ms/step - loss: 0.9233 - val_loss: 0.9995\n",
      "Epoch 15/100\n",
      "15/15 [==============================] - 0s 3ms/step - loss: 0.9233 - val_loss: 0.9995\n",
      "Epoch 16/100\n",
      "15/15 [==============================] - 0s 3ms/step - loss: 0.9233 - val_loss: 0.9995\n",
      "Epoch 17/100\n",
      "15/15 [==============================] - 0s 3ms/step - loss: 0.9233 - val_loss: 0.9995\n",
      "Epoch 18/100\n",
      "15/15 [==============================] - 0s 4ms/step - loss: 0.9233 - val_loss: 0.9995\n",
      "Epoch 19/100\n",
      "15/15 [==============================] - 0s 3ms/step - loss: 0.9233 - val_loss: 0.9996\n",
      "Epoch 20/100\n",
      "15/15 [==============================] - 0s 4ms/step - loss: 0.9233 - val_loss: 0.9996\n",
      "Epoch 21/100\n",
      "15/15 [==============================] - 0s 4ms/step - loss: 0.9233 - val_loss: 0.9996\n",
      "Epoch 22/100\n",
      "15/15 [==============================] - 0s 4ms/step - loss: 0.9233 - val_loss: 0.9996\n",
      "Epoch 23/100\n",
      "15/15 [==============================] - 0s 3ms/step - loss: 0.9233 - val_loss: 0.9996\n",
      "Epoch 24/100\n",
      "15/15 [==============================] - 0s 3ms/step - loss: 0.9233 - val_loss: 0.9996\n",
      "Epoch 25/100\n",
      "15/15 [==============================] - 0s 3ms/step - loss: 0.9233 - val_loss: 0.9996\n",
      "Epoch 26/100\n",
      "15/15 [==============================] - 0s 3ms/step - loss: 0.9233 - val_loss: 0.9996\n",
      "Epoch 27/100\n",
      "15/15 [==============================] - 0s 3ms/step - loss: 0.9233 - val_loss: 0.9996\n",
      "Epoch 28/100\n",
      "15/15 [==============================] - 0s 3ms/step - loss: 0.9233 - val_loss: 0.9996\n",
      "Epoch 29/100\n",
      "15/15 [==============================] - 0s 3ms/step - loss: 0.9233 - val_loss: 0.9996\n",
      "Epoch 30/100\n",
      "15/15 [==============================] - 0s 4ms/step - loss: 0.9233 - val_loss: 0.9996\n",
      "Epoch 31/100\n",
      "15/15 [==============================] - 0s 3ms/step - loss: 0.9233 - val_loss: 0.9996\n",
      "Epoch 32/100\n",
      "15/15 [==============================] - 0s 3ms/step - loss: 0.9233 - val_loss: 0.9996\n",
      "Epoch 33/100\n",
      "15/15 [==============================] - 0s 3ms/step - loss: 0.9232 - val_loss: 0.9996\n",
      "Epoch 34/100\n",
      "15/15 [==============================] - 0s 3ms/step - loss: 0.9232 - val_loss: 0.9996\n",
      "Epoch 35/100\n",
      "15/15 [==============================] - 0s 3ms/step - loss: 0.9232 - val_loss: 0.9996\n",
      "Epoch 36/100\n",
      "15/15 [==============================] - 0s 4ms/step - loss: 0.9232 - val_loss: 0.9996\n",
      "Epoch 37/100\n",
      "15/15 [==============================] - 0s 5ms/step - loss: 0.9232 - val_loss: 0.9996\n",
      "Epoch 38/100\n",
      "15/15 [==============================] - 0s 4ms/step - loss: 0.9232 - val_loss: 0.9996\n",
      "Epoch 39/100\n",
      "15/15 [==============================] - 0s 3ms/step - loss: 0.9232 - val_loss: 0.9996\n",
      "Epoch 40/100\n",
      "15/15 [==============================] - 0s 3ms/step - loss: 0.9232 - val_loss: 0.9996\n",
      "Epoch 41/100\n",
      "15/15 [==============================] - 0s 3ms/step - loss: 0.9232 - val_loss: 0.9996\n",
      "Epoch 42/100\n",
      "15/15 [==============================] - 0s 3ms/step - loss: 0.9232 - val_loss: 0.9996\n",
      "Epoch 43/100\n",
      "15/15 [==============================] - 0s 4ms/step - loss: 0.9232 - val_loss: 0.9995\n",
      "Epoch 44/100\n",
      "15/15 [==============================] - 0s 3ms/step - loss: 0.9232 - val_loss: 0.9995\n",
      "Epoch 45/100\n",
      "15/15 [==============================] - 0s 4ms/step - loss: 0.9232 - val_loss: 0.9995\n",
      "Epoch 46/100\n",
      "15/15 [==============================] - 0s 4ms/step - loss: 0.9232 - val_loss: 0.9995\n",
      "Epoch 47/100\n",
      "15/15 [==============================] - 0s 3ms/step - loss: 0.9232 - val_loss: 0.9995\n",
      "Epoch 48/100\n",
      "15/15 [==============================] - 0s 3ms/step - loss: 0.9232 - val_loss: 0.9995\n",
      "Epoch 49/100\n",
      "15/15 [==============================] - 0s 3ms/step - loss: 0.9232 - val_loss: 0.9995\n",
      "Epoch 50/100\n",
      "15/15 [==============================] - 0s 3ms/step - loss: 0.9232 - val_loss: 0.9995\n",
      "Epoch 51/100\n",
      "15/15 [==============================] - 0s 3ms/step - loss: 0.9232 - val_loss: 0.9995\n",
      "Epoch 52/100\n",
      "15/15 [==============================] - 0s 3ms/step - loss: 0.9232 - val_loss: 0.9995\n",
      "Epoch 53/100\n",
      "15/15 [==============================] - 0s 3ms/step - loss: 0.9232 - val_loss: 0.9995\n",
      "Epoch 54/100\n",
      "15/15 [==============================] - 0s 3ms/step - loss: 0.9232 - val_loss: 0.9995\n",
      "Epoch 55/100\n",
      "15/15 [==============================] - 0s 3ms/step - loss: 0.9232 - val_loss: 0.9995\n",
      "Epoch 56/100\n",
      "15/15 [==============================] - 0s 3ms/step - loss: 0.9232 - val_loss: 0.9995\n",
      "Epoch 57/100\n",
      "15/15 [==============================] - 0s 4ms/step - loss: 0.9232 - val_loss: 0.9995\n",
      "Epoch 58/100\n",
      "15/15 [==============================] - 0s 3ms/step - loss: 0.9232 - val_loss: 0.9995\n",
      "Epoch 59/100\n",
      "15/15 [==============================] - 0s 3ms/step - loss: 0.9232 - val_loss: 0.9995\n",
      "Epoch 60/100\n",
      "15/15 [==============================] - 0s 3ms/step - loss: 0.9232 - val_loss: 0.9995\n",
      "Epoch 61/100\n",
      "15/15 [==============================] - 0s 3ms/step - loss: 0.9232 - val_loss: 0.9995\n",
      "Epoch 62/100\n",
      "15/15 [==============================] - 0s 4ms/step - loss: 0.9232 - val_loss: 0.9995\n",
      "Epoch 63/100\n",
      "15/15 [==============================] - 0s 3ms/step - loss: 0.9232 - val_loss: 0.9995\n",
      "Epoch 64/100\n",
      "15/15 [==============================] - 0s 3ms/step - loss: 0.9231 - val_loss: 0.9995\n",
      "Epoch 65/100\n",
      "15/15 [==============================] - 0s 3ms/step - loss: 0.9231 - val_loss: 0.9995\n",
      "Epoch 66/100\n",
      "15/15 [==============================] - 0s 3ms/step - loss: 0.9231 - val_loss: 0.9995\n",
      "Epoch 67/100\n",
      "15/15 [==============================] - 0s 3ms/step - loss: 0.9231 - val_loss: 0.9995\n",
      "Epoch 68/100\n",
      "15/15 [==============================] - 0s 3ms/step - loss: 0.9231 - val_loss: 0.9995\n",
      "Epoch 69/100\n",
      "15/15 [==============================] - 0s 3ms/step - loss: 0.9231 - val_loss: 0.9995\n",
      "Epoch 70/100\n",
      "15/15 [==============================] - 0s 3ms/step - loss: 0.9231 - val_loss: 0.9995\n",
      "Epoch 71/100\n",
      "15/15 [==============================] - 0s 4ms/step - loss: 0.9231 - val_loss: 0.9995\n",
      "Epoch 72/100\n",
      "15/15 [==============================] - 0s 4ms/step - loss: 0.9231 - val_loss: 0.9995\n",
      "Epoch 73/100\n",
      "15/15 [==============================] - 0s 4ms/step - loss: 0.9231 - val_loss: 0.9995\n",
      "Epoch 74/100\n",
      "15/15 [==============================] - 0s 3ms/step - loss: 0.9231 - val_loss: 0.9995\n",
      "Epoch 75/100\n",
      "15/15 [==============================] - 0s 3ms/step - loss: 0.9231 - val_loss: 0.9995\n",
      "Epoch 76/100\n",
      "15/15 [==============================] - 0s 4ms/step - loss: 0.9231 - val_loss: 0.9995\n",
      "Epoch 77/100\n",
      "15/15 [==============================] - 0s 4ms/step - loss: 0.9231 - val_loss: 0.9995\n",
      "Epoch 78/100\n",
      "15/15 [==============================] - 0s 3ms/step - loss: 0.9231 - val_loss: 0.9995\n",
      "Epoch 79/100\n",
      "15/15 [==============================] - 0s 3ms/step - loss: 0.9231 - val_loss: 0.9995\n",
      "Epoch 80/100\n",
      "15/15 [==============================] - 0s 3ms/step - loss: 0.9231 - val_loss: 0.9995\n",
      "Epoch 81/100\n",
      "15/15 [==============================] - 0s 4ms/step - loss: 0.9231 - val_loss: 0.9995\n",
      "Epoch 82/100\n",
      "15/15 [==============================] - 0s 3ms/step - loss: 0.9231 - val_loss: 0.9994\n",
      "Epoch 83/100\n",
      "15/15 [==============================] - 0s 3ms/step - loss: 0.9231 - val_loss: 0.9994\n",
      "Epoch 84/100\n",
      "15/15 [==============================] - 0s 3ms/step - loss: 0.9231 - val_loss: 0.9994\n",
      "Epoch 85/100\n",
      "15/15 [==============================] - 0s 4ms/step - loss: 0.9231 - val_loss: 0.9994\n",
      "Epoch 86/100\n",
      "15/15 [==============================] - 0s 3ms/step - loss: 0.9231 - val_loss: 0.9994\n",
      "Epoch 87/100\n",
      "15/15 [==============================] - 0s 3ms/step - loss: 0.9231 - val_loss: 0.9994\n",
      "Epoch 88/100\n",
      "15/15 [==============================] - 0s 3ms/step - loss: 0.9231 - val_loss: 0.9994\n",
      "Epoch 89/100\n",
      "15/15 [==============================] - 0s 3ms/step - loss: 0.9231 - val_loss: 0.9994\n",
      "Epoch 90/100\n",
      "15/15 [==============================] - 0s 3ms/step - loss: 0.9231 - val_loss: 0.9994\n",
      "Epoch 91/100\n",
      "15/15 [==============================] - 0s 3ms/step - loss: 0.9231 - val_loss: 0.9994\n",
      "Epoch 92/100\n",
      "15/15 [==============================] - 0s 3ms/step - loss: 0.9231 - val_loss: 0.9994\n",
      "Epoch 93/100\n",
      "15/15 [==============================] - 0s 3ms/step - loss: 0.9231 - val_loss: 0.9994\n",
      "Epoch 94/100\n",
      "15/15 [==============================] - 0s 4ms/step - loss: 0.9230 - val_loss: 0.9994\n",
      "Epoch 95/100\n",
      "15/15 [==============================] - 0s 5ms/step - loss: 0.9230 - val_loss: 0.9994\n",
      "Epoch 96/100\n",
      "15/15 [==============================] - 0s 4ms/step - loss: 0.9230 - val_loss: 0.9994\n",
      "Epoch 97/100\n",
      "15/15 [==============================] - 0s 4ms/step - loss: 0.9230 - val_loss: 0.9994\n",
      "Epoch 98/100\n",
      "15/15 [==============================] - 0s 4ms/step - loss: 0.9230 - val_loss: 0.9994\n",
      "Epoch 99/100\n",
      "15/15 [==============================] - 0s 4ms/step - loss: 0.9230 - val_loss: 0.9994\n",
      "Epoch 100/100\n",
      "15/15 [==============================] - 0s 3ms/step - loss: 0.9230 - val_loss: 0.9994\n"
     ]
    }
   ],
   "source": [
    "# 3 min 35.5s\n",
    "for key in params.keys():\n",
    "    tf.random.set_seed(0)\n",
    "    print('Training', key, 'model')\n",
    "    # params[key]['H'] = best\n",
    "   # model = params[key]['function'](params[key]['H'], params[key]['l1_reg'])\n",
    "    model = params[key]['function'](64, 0)\n",
    "    params[key]['history'] = model.fit(x_train, y_train, epochs=max_epochs, \n",
    "                batch_size=batch_size, callbacks=[es, tb], shuffle=False, validation_data=(x_valid, y_valid))\n",
    "    params[key]['model'] = model"
   ]
  },
  {
   "cell_type": "markdown",
   "metadata": {},
   "source": [
    "## Make predictions\n",
    "2 min 54.9s "
   ]
  },
  {
   "cell_type": "code",
   "execution_count": 19,
   "metadata": {},
   "outputs": [
    {
     "name": "stdout",
     "output_type": "stream",
     "text": [
      "Model: \"sequential_1\"\n",
      "_________________________________________________________________\n",
      " Layer (type)                Output Shape              Param #   \n",
      "=================================================================\n",
      " simple_rnn_2 (SimpleRNN)    (None, 64)                4224      \n",
      "                                                                 \n",
      " dense_1 (Dense)             (None, 1)                 65        \n",
      "                                                                 \n",
      "=================================================================\n",
      "Total params: 4,289\n",
      "Trainable params: 4,289\n",
      "Non-trainable params: 0\n",
      "_________________________________________________________________\n",
      "15/15 [==============================] - 0s 1ms/step\n",
      "5/5 [==============================] - 0s 1ms/step\n",
      "Model: \"sequential_2\"\n",
      "_________________________________________________________________\n",
      " Layer (type)                Output Shape              Param #   \n",
      "=================================================================\n",
      " gru (GRU)                   (None, 64)                12864     \n",
      "                                                                 \n",
      " dense_2 (Dense)             (None, 1)                 65        \n",
      "                                                                 \n",
      "=================================================================\n",
      "Total params: 12,929\n",
      "Trainable params: 12,929\n",
      "Non-trainable params: 0\n",
      "_________________________________________________________________\n",
      "15/15 [==============================] - 0s 1ms/step\n",
      "5/5 [==============================] - 0s 2ms/step\n",
      "Model: \"sequential_3\"\n",
      "_________________________________________________________________\n",
      " Layer (type)                Output Shape              Param #   \n",
      "=================================================================\n",
      " lstm (LSTM)                 (None, 1, 64)             16896     \n",
      "                                                                 \n",
      " lstm_1 (LSTM)               (None, 64)                33024     \n",
      "                                                                 \n",
      " dense_3 (Dense)             (None, 1)                 65        \n",
      "                                                                 \n",
      "=================================================================\n",
      "Total params: 49,985\n",
      "Trainable params: 49,985\n",
      "Non-trainable params: 0\n",
      "_________________________________________________________________\n",
      "15/15 [==============================] - 0s 2ms/step\n",
      "5/5 [==============================] - 0s 2ms/step\n"
     ]
    }
   ],
   "source": [
    "for key in params.keys():\n",
    "    model = params[key]['model']\n",
    "    model.summary()\n",
    "    \n",
    "    params[key]['pred_train'] = model.predict(x_train, verbose=1)\n",
    "    params[key]['MSE_train'] = mean_squared_error(y_train, params[key]['pred_train'])\n",
    "    \n",
    "    params[key]['pred_test'] = model.predict(x_test, verbose=1) \n",
    "    params[key]['MSE_test'] = mean_squared_error(y_test, params[key]['pred_test'])"
   ]
  },
  {
   "cell_type": "markdown",
   "metadata": {},
   "source": [
    "## Plot Results"
   ]
  },
  {
   "cell_type": "code",
   "execution_count": null,
   "metadata": {},
   "outputs": [],
   "source": [
    "def plot_predictions(compare):\n",
    "    max_points = 10**4\n",
    "    section = ['train', 'test']\n",
    "    l, u = (None, None) # lower and upper indices of range to plot \n",
    "    ds = max(1, len(y_train[l:u])//max_pts) # Downsampling ratio for under `max_pts`\n",
    "                                        # per series.  Set `None` to disable.\n",
    "    fig = plt.figure(figsize=(15,8))\n",
    "    x_vals = y_train_timestamps\n",
    "    for e in section:\n",
    "        for key in compare:\n",
    "            #print(f'pred_{e}')\n",
    "            y_vals = params[key][f'pred_{e}']\n",
    "            #print(f'({e} ' + 'MSE: %2e)')\n",
    "            label = params[key]['label'] + f' ({e}' + 'MSE: %.2e)' % params[key][f'MSE_{e}']\n",
    "            plt.plot(x_vals, y_vals, c=params[key]['color'], label=label, lw=1)\n",
    "        plt.plot(x_vals, y_test, c=\"black\", label=\"Observed\", lw=1)\n",
    "        start, end = x_vals.min(), x_vals.max()\n",
    "        xticks =  [start.date() + timedelta(days=(1+i)) for i in range(1 + (end - start).days)]\n",
    "        xticks = xticks[::max(1, len(xticks)//30)]\n",
    "        for t in xticks: plt.axvline(x=t, c='gray', linewidth=0.5, zorder=0)\n",
    "        plt.xticks(xticks, rotation=70)\n",
    "        plt.xlim(start, end)\n",
    "        plt.ylabel('$\\hat{Y}$', rotation=0, fontsize=14)\n",
    "        plt.legend(loc=\"best\", fontsize=12)\n",
    "        plt.title('Observed vs Model Outputs (Testing)', fontsize=16)\n",
    "        plt.savefig(f'../figures/plot/{time_period}_{n_steps}_lag_{e}ing_performance.png')"
   ]
  },
  {
   "cell_type": "markdown",
   "metadata": {},
   "source": [
    "### Plot Training Predictions"
   ]
  },
  {
   "cell_type": "code",
   "execution_count": 21,
   "metadata": {},
   "outputs": [
    {
     "data": {
      "text/plain": [
       "Text(0.5, 1.0, 'Observed vs Model Outputs (Training)')"
      ]
     },
     "execution_count": 21,
     "metadata": {},
     "output_type": "execute_result"
    },
    {
     "data": {
      "image/png": "[encoded data removed]",
      "text/plain": [
       "<Figure size 1080x576 with 1 Axes>"
      ]
     },
     "metadata": {
      "needs_background": "light"
     },
     "output_type": "display_data"
    }
   ],
   "source": [
    "max_pts = 10**4\n",
    "compare = params.keys()\n",
    "l, u = (None, None) # lower and upper indices of range to plot \n",
    "ds = max(1, len(y_train[l:u])//max_pts) # Downsampling ratio for under `max_pts`\n",
    "                                        # per series.  Set `None` to disable. \n",
    "\n",
    "fig = plt.figure(figsize=(15,8))\n",
    "x_vals = y_train_timestamps[l:u:ds]\n",
    "for key in compare:\n",
    "    y_vals = params[key]['pred_train'][l:u:ds]\n",
    "    label = params[key]['label'] + ' (train MSE: %.2e)' % params[key]['MSE_train']\n",
    "    plt.plot(x_vals, y_vals, c=params[key]['color'], label=label, lw=1)\n",
    "plt.plot(x_vals, y_train[l:u:ds], c=\"black\", label=\"Observed\", lw=1)\n",
    "start, end = x_vals.min(), x_vals.max()\n",
    "xticks =  [start.date() + timedelta(days=(1+i)) for i in range(1 + (end - start).days)]\n",
    "xticks = xticks[::max(1, len(xticks)//30)]\n",
    "for t in xticks: plt.axvline(x=t, c='gray', linewidth=0.5, zorder=0)\n",
    "plt.xticks(xticks, rotation=70)\n",
    "plt.xlim(start, end)\n",
    "plt.ylabel('$\\hat{Y}$', rotation=0, fontsize=14)\n",
    "plt.legend(loc=\"best\", fontsize=12)\n",
    "plt.title('Observed vs Model Outputs (Training)', fontsize=16)\n",
    "#plt.savefig(f'../figures/univariate/{time_period}_{n_steps}_lag_training_performance.png')"
   ]
  },
  {
   "cell_type": "markdown",
   "metadata": {},
   "source": [
    "### Plot Testing Predictions"
   ]
  },
  {
   "cell_type": "code",
   "execution_count": null,
   "metadata": {},
   "outputs": [],
   "source": [
    "compare = params.keys() # e.g. ['rnn', 'alpharnn'] or ['lstm']\n",
    "l, u = (None, None) # lower and upper indices of range to plot \n",
    "ds = max(1, len(y_train[l:u])//max_pts) # Downsampling ratio for under `max_pts`\n",
    "                                        # per series.  Set `None` to disable.\n",
    "fig = plt.figure(figsize=(15,8))\n",
    "x_vals = y_test_timestamps[l:u:ds]\n",
    "for key in compare:\n",
    "    y_vals = params[key]['pred_test'][l:u:ds]\n",
    "    label = params[key]['label'] + ' (test MSE: %.2e)' % params[key]['MSE_test']\n",
    "    plt.plot(x_vals, y_vals, c=params[key]['color'], label=label, lw=1)\n",
    "plt.plot(x_vals, y_test[l:u:ds], c=\"black\", label=\"Observed\", lw=1)\n",
    "start, end = x_vals.min(), x_vals.max()\n",
    "xticks =  [start.date() + timedelta(days=(1+i)) for i in range(1 + (end - start).days)]\n",
    "xticks = xticks[::max(1, len(xticks)//30)]\n",
    "for t in xticks: plt.axvline(x=t, c='gray', linewidth=0.5, zorder=0)\n",
    "plt.xticks(xticks, rotation=70)\n",
    "plt.xlim(start, end)\n",
    "plt.ylabel('$\\hat{Y}$', rotation=0, fontsize=14)\n",
    "plt.legend(loc=\"best\", fontsize=12)\n",
    "plt.title('Observed vs Model Outputs (Testing)', fontsize=16)\n",
    "#plt.savefig(f'../figures/univariate/{time_period}_{n_steps}_lag_testing_performance.png')"
   ]
  },
  {
   "cell_type": "markdown",
   "metadata": {},
   "source": [
    "### Plot Training Error"
   ]
  },
  {
   "cell_type": "code",
   "execution_count": null,
   "metadata": {},
   "outputs": [],
   "source": [
    "compare = params.keys()\n",
    "l, u = (None, None) # lower and upper indices of range to plot - e.g. (None, 10000)\n",
    "ds = max(1, len(y_train[l:u])//max_pts) # Downsampling ratio for under `max_pts`\n",
    "                                        # per series.  Set `None` to disable.\n",
    "fig = plt.figure(figsize=(15,8))\n",
    "x_vals = y_train_timestamps[l:u:ds]\n",
    "for key in compare:\n",
    "    y_vals = params[key]['pred_train'][l:u:ds] - y_train[l:u:ds]\n",
    "    label = params[key]['label'] + ' (train MSE: %.2e)' % params[key]['MSE_train']\n",
    "    plt.plot(x_vals, y_vals, c=params[key]['color'], label=label, lw=1)\n",
    "start, end = x_vals.min(), x_vals.max()\n",
    "xticks =  [start.date() + timedelta(days=(1+i)) for i in range(1 + (end - start).days)]\n",
    "xticks = xticks[::max(1, len(xticks)//30)]\n",
    "plt.axhline(0, linewidth=0.8)\n",
    "for t in xticks: plt.axvline(x=t, c='gray', linewidth=0.5, zorder=0)\n",
    "plt.xticks(xticks, rotation=80)\n",
    "plt.xlim(start, end)\n",
    "plt.ylabel('$\\hat{Y}-Y$', fontsize=14)\n",
    "plt.legend(loc=\"best\", fontsize=12)\n",
    "plt.title('Observed vs Model Error (Training)', fontsize=16)\n",
    "#plt.savefig(f'../figures/univariate/{time_period}_{n_steps}_lag_training_performance_difference.png')"
   ]
  },
  {
   "cell_type": "markdown",
   "metadata": {},
   "source": [
    "### Plot Test Error"
   ]
  },
  {
   "cell_type": "code",
   "execution_count": null,
   "metadata": {},
   "outputs": [],
   "source": [
    "compare = params.keys()\n",
    "l, u = (None, None) # e.g. (None, 100000) lower and upper indices of range to plot \n",
    "ds = max(1, len(y_train[l:u])//max_pts) # Downsampling ratio for under `max_pts`\n",
    "                                        # per series.  Set `None` to disable.\n",
    "fig = plt.figure(figsize=(15,8))\n",
    "x_vals = y_test_timestamps[l:u:ds]\n",
    "for key in compare:\n",
    "    y_vals = params[key]['pred_test'][l:u:ds] - y_test[l:u:ds]\n",
    "    label = params[key]['label'] + ' (test MSE: %.2e)' % params[key]['MSE_test']\n",
    "    plt.plot(x_vals, y_vals, c=params[key]['color'], label=label, lw=1)\n",
    "start, end = x_vals.min(), x_vals.max()\n",
    "xticks =  [start.date() + timedelta(days=(1+i)) for i in range(1 + (end - start).days)]\n",
    "xticks = xticks[::max(1, len(xticks)//30)]\n",
    "plt.axhline(0, linewidth=0.8)\n",
    "for t in xticks: plt.axvline(x=t, c='gray', linewidth=0.5, zorder=0)\n",
    "plt.xticks(xticks, rotation=80)\n",
    "plt.xlim(start, end)\n",
    "plt.ylabel('$\\hat{Y}-Y$', fontsize=14)\n",
    "plt.legend(loc=\"best\", fontsize=12)\n",
    "plt.title('Observed vs Model Error (Testing)', fontsize=16)\n",
    "#plt.savefig(f'../figures/univariate/{dataset}/{start}_{end}_{n_steps}_lag_testing_performance_difference.png')"
   ]
  },
  {
   "cell_type": "markdown",
   "metadata": {},
   "source": [
    "# Multivariate"
   ]
  },
  {
   "cell_type": "code",
   "execution_count": null,
   "metadata": {},
   "outputs": [],
   "source": [
    "dataset = \"BTC-USD_hr_24\"\n",
    "df = pd.read_csv(f'../data/labeled_{dataset}.csv', index_col=0)\n",
    "df.index = pd.to_datetime(df.index, unit='s')\n",
    "target = 'target_close'\n",
    "\n",
    "df = df.dropna()"
   ]
  },
  {
   "cell_type": "code",
   "execution_count": null,
   "metadata": {},
   "outputs": [],
   "source": [
    "use_features = ['last_low', 'last_high', \"last_open\", \"last_close\",\"last_volume\", \"current_open\", target] # continuous input\n",
    "n_features = len(use_features) - 1\n",
    "df = df[use_features]\n",
    "# already defined above\n",
    "#target = ['target_close'] # continuous output\n",
    "n_steps_ahead = 1 # forecasting horizon\n",
    "n_steps = 7"
   ]
  },
  {
   "cell_type": "code",
   "execution_count": null,
   "metadata": {},
   "outputs": [],
   "source": [
    "df = df['2021-01-01':]"
   ]
  },
  {
   "cell_type": "code",
   "execution_count": null,
   "metadata": {},
   "outputs": [],
   "source": [
    "# split dataset into 1-t% training, t test\n",
    "def partition(df, t):\n",
    "    split_index = int(len(df) * (1-t))\n",
    "\n",
    "    df_train = df.iloc[:split_index]\n",
    "    df_test = df.iloc[split_index:]\n",
    "\n",
    "    return df_train, df_test"
   ]
  },
  {
   "cell_type": "code",
   "execution_count": null,
   "metadata": {},
   "outputs": [],
   "source": [
    "def sliding_window(data, n_steps):\n",
    "    x = list()\n",
    "    y = list()\n",
    "    for i in range(len(data)):\n",
    "        window_end = i + n_steps\n",
    "        if window_end > len(data) - 1:\n",
    "            break\n",
    "        \n",
    "        x_window = data.iloc[i:window_end, :-1]\n",
    "        y_prediction = data.iloc[window_end - 1, -1]\n",
    "\n",
    "        x.append(x_window)\n",
    "        y.append(y_prediction)\n",
    "    return np.array(x), np.array(y)"
   ]
  },
  {
   "cell_type": "code",
   "execution_count": null,
   "metadata": {},
   "outputs": [],
   "source": [
    "multi_X_train_full, multi_X_test = partition(df, 0.2)\n",
    "# train and validation set\n",
    "multi_X_train, multi_X_valid = partition(multi_X_train_full, 0.2)\n",
    "\n",
    "# save time stamps\n",
    "y_train_timestamps = multi_X_train.index[n_steps + n_steps_ahead - 1:]\n",
    "y_valid_timestamps = multi_X_valid.index[n_steps + n_steps_ahead - 1:]\n",
    "y_test_timestamps = multi_X_test.index[n_steps + n_steps_ahead - 1:]"
   ]
  },
  {
   "cell_type": "code",
   "execution_count": null,
   "metadata": {},
   "outputs": [],
   "source": [
    "std_scaler = preprocessing.StandardScaler()\n",
    "std_scaler.fit(multi_X_train_full)\n",
    "#print(f'Mean: {std_scaler.mean_}, Std Dev: {std_scaler.var_}')\n",
    "\n",
    "# use training mean and std dev to avoid future bias\n",
    "multi_X_train = std_scaler.transform(multi_X_train)\n",
    "multi_X_valid = std_scaler.transform(multi_X_valid)\n",
    "multi_X_test = std_scaler.transform(multi_X_test)\n",
    "\n",
    "# convert to df\n",
    "multi_X_train = pd.DataFrame(multi_X_train, columns=use_features)\n",
    "multi_X_valid = pd.DataFrame(multi_X_valid, columns=use_features)\n",
    "multi_X_test = pd.DataFrame(multi_X_test, columns=use_features)"
   ]
  },
  {
   "cell_type": "code",
   "execution_count": null,
   "metadata": {},
   "outputs": [],
   "source": [
    "# training\n",
    "# x_train = get_lagged_features(multi_X_train[:, :n_features], n_steps, n_steps_ahead)\n",
    "# y_train =  multi_X_train.values[n_steps + n_steps_ahead - 1:, -1]\n",
    "\n",
    "#y_train_timestamps = multi_X_train.index[n_steps + n_steps_ahead - 1:]\n",
    "\n",
    "x_train, y_train = sliding_window(multi_X_train, n_steps)\n",
    "y_train = y_train.reshape((y_train.shape[0], 1))\n",
    "\n",
    "# validation\n",
    "x_valid, y_valid = sliding_window(multi_X_valid, n_steps)\n",
    "y_valid = y_valid.reshape((y_valid.shape[0], 1))\n",
    "#y_valid_timestamps = multi_X_valid.index[n_steps + n_steps_ahead - 1:]\n",
    "\n",
    "# test\n",
    "x_test, y_test = sliding_window(multi_X_test, n_steps)\n",
    "#y_test =  multi_X_test.values[n_steps + n_steps_ahead - 1:, -1]\n",
    "y_test = y_test.reshape((y_test.shape[0], 1))\n",
    "#y_test_timestamps = multi_X_test.index[n_steps + n_steps_ahead - 1:]"
   ]
  },
  {
   "cell_type": "markdown",
   "metadata": {},
   "source": [
    "#### Naive Forecasting Baseline"
   ]
  },
  {
   "cell_type": "code",
   "execution_count": null,
   "metadata": {},
   "outputs": [],
   "source": [
    "# y_naive = np.roll(y_valid,1)\n",
    "# np.mean(keras.losses.mean_squared_error(y_valid, y_naive))\n",
    "naive_baseline(y_train)"
   ]
  },
  {
   "cell_type": "markdown",
   "metadata": {},
   "source": [
    "#### RNN Baseline"
   ]
  },
  {
   "cell_type": "code",
   "execution_count": null,
   "metadata": {},
   "outputs": [],
   "source": [
    "np.random.seed(42)\n",
    "tf.random.set_seed(42)\n",
    "\n",
    "deep_rnn_model = keras.models.Sequential([\n",
    "    keras.layers.SimpleRNN(100, return_sequences=True, input_shape=[n_steps, n_features]),\n",
    "    keras.layers.SimpleRNN(100, return_sequences=True),\n",
    "    keras.layers.Dense(1)\n",
    "])\n",
    "\n",
    "deep_rnn_model.compile(loss=\"mse\", optimizer=\"adam\")\n",
    "deep_rnn_history = deep_rnn_model.fit(x_train, y_train, epochs=20, validation_data=(x_valid, y_valid))\n",
    "deep_rnn_model.evaluate(x_valid, y_valid)"
   ]
  },
  {
   "cell_type": "code",
   "execution_count": null,
   "metadata": {},
   "outputs": [],
   "source": [
    "model = params['rnn']['model']\n",
    "model.summary()\n",
    "params['rnn']['pred_train'] = model.predict(x_train, verbose=0)"
   ]
  },
  {
   "cell_type": "code",
   "execution_count": null,
   "metadata": {},
   "outputs": [],
   "source": [
    "params['rnn']['pred_train'].shape"
   ]
  },
  {
   "cell_type": "code",
   "execution_count": null,
   "metadata": {},
   "outputs": [],
   "source": [
    "params['rnn']['pred_train'].reshape(())"
   ]
  },
  {
   "cell_type": "code",
   "execution_count": null,
   "metadata": {},
   "outputs": [],
   "source": [
    "params['rnn']['MSE_train'] = mean_squared_error(y_train, params['rnn']['pred_train'])"
   ]
  },
  {
   "cell_type": "code",
   "execution_count": null,
   "metadata": {},
   "outputs": [],
   "source": [
    "%load_ext tensorboard\n",
    "%tensorboard --logdir=./my_logs --port=6006"
   ]
  }
 ],
 "metadata": {
  "interpreter": {
   "hash": "fe24fa82ef0276aa3bebf6833b77a4deb33ded5956560b7688b0e7890d905389"
  },
  "kernelspec": {
   "display_name": "Python 3.8.10 64-bit ('neural_network': venv)",
   "language": "python",
   "name": "python3"
  },
  "language_info": {
   "codemirror_mode": {
    "name": "ipython",
    "version": 3
   },
   "file_extension": ".py",
   "mimetype": "text/x-python",
   "name": "python",
   "nbconvert_exporter": "python",
   "pygments_lexer": "ipython3",
   "version": "3.8.10"
  },
  "orig_nbformat": 4
 },
 "nbformat": 4,
 "nbformat_minor": 2
}
