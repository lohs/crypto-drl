{
 "cells": [
  {
   "cell_type": "markdown",
   "metadata": {},
   "source": [
    "# Import required libraries and functions"
   ]
  },
  {
   "cell_type": "code",
   "execution_count": 12,
   "metadata": {},
   "outputs": [
    {
     "data": {
      "text/plain": [
       "[PhysicalDevice(name='/physical_device:CPU:0', device_type='CPU')]"
      ]
     },
     "execution_count": 12,
     "metadata": {},
     "output_type": "execute_result"
    }
   ],
   "source": [
    "import numpy as np\n",
    "import pandas as pd\n",
    "import matplotlib.pyplot as plt\n",
    "%matplotlib inline\n",
    "import statsmodels.api as sm\n",
    "import tensorflow as tf\n",
    "from datetime import timedelta\n",
    "\n",
    "from sklearn.metrics import mean_squared_error\n",
    "from sklearn.model_selection import KFold, TimeSeriesSplit, GridSearchCV\n",
    "from sklearn import preprocessing\n",
    "import keras.initializers\n",
    "from keras.layers import Dense, Layer, LSTM, GRU, SimpleRNN, RNN\n",
    "from keras.models import Sequential\n",
    "from keras.models import load_model\n",
    "from keras.regularizers import l1, l2\n",
    "from keras.callbacks import EarlyStopping\n",
    "from scikeras.wrappers import KerasClassifier, KerasRegressor\n",
    "\n",
    "import matplotlib as mpl\n",
    "mpl.rc('axes', labelsize=14)\n",
    "mpl.rc('xtick', labelsize=12)\n",
    "mpl.rc('ytick', labelsize=12)\n",
    "\n",
    "# reproducible results\n",
    "np.random.seed(42)\n",
    "tf.random.set_seed(42)\n",
    "\n",
    "# Globals\n",
    "transaction_cost = .001\n",
    "crypto_params = ['BTC-USD', 'ETH-USD']\n",
    "time_period_params = ['_hr_24', '_hr_1']\n",
    "\n",
    "import os\n",
    "root_logdir = os.path.join(os.curdir, \"my_logs\")\n",
    "\n",
    "def get_run_logdir():\n",
    "    import time\n",
    "    run_id = time.strftime(\"run_%Y_%m_%d-%H_%M_%S\")\n",
    "    return os.path.join(root_logdir, run_id)\n",
    "run_logdir = get_run_logdir() # e.g., './my_logs/run_2019_06_07-15_15_22'\n",
    "\n",
    "def naive_baseline(y_train):\n",
    "    y_naive = np.roll(y_train, 1)\n",
    "    print(np.mean(keras.losses.mean_squared_error(y_train, y_naive)))\n",
    "    return y_naive\n",
    "\n",
    "# split dataset into 1-t% training, t test\n",
    "def partition(df, t):\n",
    "    split_index = int(len(df) * (1-t))\n",
    "\n",
    "    df_train = df.iloc[:split_index]\n",
    "    df_test = df.iloc[split_index:]\n",
    "\n",
    "    return df_train, df_test\n",
    "\n",
    "def sliding_window(data, n_steps):\n",
    "    x = list()\n",
    "    y = list()\n",
    "    for i in range(len(data)):\n",
    "        window_end = i + n_steps\n",
    "        if window_end > len(data) - 1:\n",
    "            break\n",
    "        \n",
    "        x_window = data.iloc[i:window_end, :-1]\n",
    "        y_prediction = data.iloc[window_end - 1, -1]\n",
    "\n",
    "        x.append(x_window)\n",
    "        y.append(y_prediction)\n",
    "    return np.array(x), np.array(y)\n",
    "\n",
    "# force cpu only\n",
    "tf.config.set_visible_devices([], 'GPU')\n",
    "tf.config.get_visible_devices()"
   ]
  },
  {
   "cell_type": "markdown",
   "metadata": {},
   "source": [
    "# Parse raw data\n",
    "Turn time series into supervised learning problem"
   ]
  },
  {
   "cell_type": "code",
   "execution_count": null,
   "metadata": {},
   "outputs": [],
   "source": [
    "def label_trade(period_return):\n",
    "    if(abs(period_return) <= transaction_cost):\n",
    "        return 0\n",
    "    elif period_return > transaction_cost:\n",
    "        return 1\n",
    "    else:\n",
    "        return -1"
   ]
  },
  {
   "cell_type": "code",
   "execution_count": null,
   "metadata": {},
   "outputs": [],
   "source": [
    "def label_raw(dataset):\n",
    "    print(dataset)\n",
    "    df = pd.read_csv(f'../data/raw/{dataset}.csv')\n",
    "\n",
    "    # assumption: make decision at open of trading period\n",
    "    # shift these cols\n",
    "    shift_header = ['low', 'high', 'open','close', 'volume']\n",
    "    for col in shift_header:\n",
    "        new_header = f'last_{col}'\n",
    "        df[new_header] = df[col].shift(1)\n",
    "    \n",
    "    # rename current observations\n",
    "    df = df.rename(columns={'open':'current_open', 'close':'target_close'})\n",
    "\n",
    "    # drop low, high, volume cols and rearrange remaining\n",
    "    df = df[['time','last_low', 'last_high', 'last_open','last_close','last_volume', 'current_open', 'target_close']]\n",
    "\n",
    "    # calculate period returns and label trade\n",
    "    df['period_return'] = (df['target_close'].values - df['current_open'].values) / df['current_open'].values\n",
    "    df['target_trade'] = df['period_return'].apply(label_trade)\n",
    "\n",
    "    # assumptions:\n",
    "    # perfect close prediction\n",
    "    # end period in cash\n",
    "    # 0 cost to short sell\n",
    "    df['profit'] = df['period_return'] * df['target_trade'] * df['target_close'] * (1 - transaction_cost)\n",
    "    df['profit'].sum()\n",
    "\n",
    "    # save labeled dataset\n",
    "    df.to_csv(f'../data/labeled_{dataset}.csv', header=True, index=False, mode='w')\n",
    "    print(f'Saved to ../data/labeled_{dataset}.csv')"
   ]
  },
  {
   "cell_type": "code",
   "execution_count": null,
   "metadata": {},
   "outputs": [],
   "source": [
    "for crypto in crypto_params:\n",
    "    for time_period in time_period_params:\n",
    "        dataset = crypto + time_period\n",
    "        label_raw(dataset)"
   ]
  },
  {
   "cell_type": "markdown",
   "metadata": {},
   "source": [
    "# Univariate"
   ]
  },
  {
   "cell_type": "markdown",
   "metadata": {},
   "source": [
    "## Regression"
   ]
  },
  {
   "cell_type": "code",
   "execution_count": null,
   "metadata": {},
   "outputs": [],
   "source": [
    "dataset = \"BTC-USD_hr_24\"\n",
    "df = pd.read_csv(f'../data/labeled_{dataset}.csv', index_col=0)\n",
    "df.index = pd.to_datetime(df.index, unit='s')\n",
    "target = 'target_close'\n",
    "\n",
    "#df.isnull().sum()\n",
    "\n",
    "# drop NaN\n",
    "df = df.dropna()"
   ]
  },
  {
   "cell_type": "markdown",
   "metadata": {},
   "source": [
    "### Stationarity (Augmented Dickey-Fuller Test)\n",
    "It is essential to determine whether the time series is \"stationary\". Informally, stationarity is when the auto-covariance is independent of time. Failure to establish stationarity will almost certainly lead to misinterpretation of model identification and diagnostic tests. Moreover, stationarity is decisive in characterizing the prediction problem and whether to use a more advanced architecture. In particular, we can expect a plain RNN to perform poorly if the data is non-stationary as the RNN exhibits fixed auto-covariance. \n",
    "\n",
    "We perform an Augmented Dickey-Fuller test to establish stationarity under the assumption that the time series has a constant bias but does not exhibit a time trend. In other words, we assume that the time series is already de-trended. \n",
    "\n",
    "If the stationarity test fails, even after first de-trending the time series, then one potential recourse is to simply take differences of time series and predict $\\Delta y_t$."
   ]
  },
  {
   "cell_type": "markdown",
   "metadata": {},
   "source": [
    "The null hypothesis of the Augmented Dickey-Fuller is that there is a unit root, with the alternative that there is no unit root. If the p-value is above $(1-\\alpha)$, then we cannot reject that there is a unit root. Note that a subset of the time series is used to reduce the memory requirements of the test. We use the first 200,000 samples to test for stationarity. While the test statistic is sensitive to the data size, the ADF test is always accepted at the 99\\% level."
   ]
  },
  {
   "cell_type": "code",
   "execution_count": null,
   "metadata": {},
   "outputs": [],
   "source": [
    "# check stationarity of target\n",
    "# 1 min 56 sec\n",
    "sample = df[target]\n",
    "\n",
    "adf, p, usedlag, n_observations, cvs, aic = sm.tsa.stattools.adfuller(sample)\n",
    "print(f'ADF: {adf}\\np-value: {p},\\nN: {n_observations}, \\ncritical values: {cvs}')"
   ]
  },
  {
   "cell_type": "markdown",
   "metadata": {},
   "source": [
    "Accept null as p-value > 0.01, can't reject test at 99% confidence level. Series seems to be non-stationary"
   ]
  },
  {
   "cell_type": "markdown",
   "metadata": {},
   "source": [
    "close price is stationary when using differencing"
   ]
  },
  {
   "cell_type": "markdown",
   "metadata": {},
   "source": [
    "#### Autoregressive Model Identification: The partial auto-correlation"
   ]
  },
  {
   "cell_type": "markdown",
   "metadata": {},
   "source": [
    "It is important to determine the number of lags, the sequence length, required in the RNN by statistical analysis. A brute-force approach will in general be too time-consuming.\n",
    "\n",
    "A partial auto-correlation at lag $h\\geq 2$ is a conditional auto-correlation between a variable, $X_t$, and its $h^{th}$ lag, $X_{t-h}$ under the assumption that we control for the values of the intermediate lags, $X_{t-1},\\dots, X_{t-h+1}$:\n",
    "\n",
    "$$\\begin{align}\\tau_h&:=\\tau(X_t, X_{t-h}; X_{t-1},\\dots, X_{t-h+1})\\\\\n",
    "&:=\\frac{\\gamma(X_t, X_{t-h}; X_{t-1},\\dots, X_{t-h+1})}{\\sqrt{\\gamma(X_t |X_{t-1},\\dots, X_{t-h+1})\\gamma(X_{t-h} |X_{t-1},\\dots, X_{t-h+1}))}},\n",
    "\\end{align}$$\n",
    "where $\\gamma_h:=\\gamma(X_tX_{t-h})$ is the lag-$h$ autocovariance. The partial autocorrelation function $\\tau_h:\\mathbb{N} \\rightarrow [-1,1]$ is a map $h:\\mapsto \\tau_h$.\n",
    "\n",
    "The estimated partial auto-correlation function (PACF) can be used to identify the order of an autoregressive time series model. Values of $|\\tau_h|$ greater or equal to $\\frac{\\Phi^{-1}(\\alpha)}{\\sqrt{T}}$, where $T$ is the number of observations and $\\Phi(z)$ is the standard normal CDF, are significant lag $h$ partial autocorelations at the $\\alpha$ confidence level.\n",
    "\n",
    "We use the stattools package to estimate the PACF. The `nlags` parameter is the maximum number of lags used for PACF estimation."
   ]
  },
  {
   "cell_type": "code",
   "execution_count": null,
   "metadata": {},
   "outputs": [],
   "source": [
    "#use_features = ['last_low', 'last_high', \"last_open\", \"last_volume\", \"current_open\"] # continuous input\n",
    "use_features = [target]\n",
    "# already defined above\n",
    "#target = ['target_close'] # continuous output\n",
    "n_steps_ahead = 1 # forecasting horizon\n",
    "n_steps = 1\n",
    "n_features = len(use_features)"
   ]
  },
  {
   "cell_type": "code",
   "execution_count": null,
   "metadata": {},
   "outputs": [],
   "source": [
    "pacf = sm.tsa.stattools.pacf(df[use_features], nlags=30)\n",
    "\n",
    "T = len(df[use_features])\n",
    "\n",
    "sig_test = lambda tau_h: np.abs(tau_h) > 2.58/np.sqrt(T)\n",
    "\n",
    "for i in range(len(pacf)):\n",
    "    if sig_test(pacf[i]) == False:\n",
    "        n_steps = i - 1\n",
    "        print('n_steps set to', n_steps)\n",
    "        break"
   ]
  },
  {
   "cell_type": "code",
   "execution_count": null,
   "metadata": {},
   "outputs": [],
   "source": [
    "n_steps = 5"
   ]
  },
  {
   "cell_type": "code",
   "execution_count": null,
   "metadata": {},
   "outputs": [],
   "source": [
    "plt.plot(pacf, label='pacf')\n",
    "plt.plot([2.58/np.sqrt(T)]*30, label='99% confidence interval (upper)')\n",
    "plt.plot([-2.58/np.sqrt(T)]*30, label='99% confidence interval (lower)')\n",
    "plt.xlabel('number of lags')\n",
    "plt.legend()"
   ]
  },
  {
   "cell_type": "markdown",
   "metadata": {},
   "source": [
    "### Data Preprocessing"
   ]
  },
  {
   "cell_type": "markdown",
   "metadata": {},
   "source": [
    "#### Partition Training and Test sets"
   ]
  },
  {
   "cell_type": "code",
   "execution_count": null,
   "metadata": {},
   "outputs": [],
   "source": [
    "# split dataset into 1-t% training, t test\n",
    "def partition(df, t):\n",
    "    split_index = int(len(df) * (1-t))\n",
    "\n",
    "    df_train = df.iloc[:split_index]\n",
    "    df_test = df.iloc[split_index:]\n",
    "\n",
    "    return df_train, df_test"
   ]
  },
  {
   "cell_type": "code",
   "execution_count": null,
   "metadata": {},
   "outputs": [],
   "source": [
    "uni_X_train_full, uni_X_test = partition(df, 0.2)\n",
    "# train and validation set\n",
    "uni_X_train, uni_X_valid = partition(uni_X_train_full, 0.2)\n",
    "\n",
    "# reshape 1d for further use\n",
    "uni_X_train_full = uni_X_train_full[[target]]\n",
    "uni_X_train = uni_X_train[[target]]\n",
    "uni_X_test = uni_X_test[[target]]\n",
    "uni_X_valid = uni_X_valid[[target]]"
   ]
  },
  {
   "cell_type": "code",
   "execution_count": null,
   "metadata": {},
   "outputs": [],
   "source": [
    "# train_weight = 0.8\n",
    "# split = int(len(df) * train_weight)\n",
    "\n",
    "# df_train_full = df[use_features].iloc[:split]\n",
    "# df_test = df[use_features].iloc[split:]"
   ]
  },
  {
   "cell_type": "code",
   "execution_count": null,
   "metadata": {},
   "outputs": [],
   "source": [
    "def get_lagged_features(df, n_steps, n_steps_ahead):\n",
    "    \"\"\"\n",
    "    df: pandas DataFrame of time series to be lagged\n",
    "    n_steps: number of lags, i.e. sequence length\n",
    "    n_steps_ahead: forecasting horizon\n",
    "    \"\"\"\n",
    "    lag_list = []\n",
    "    \n",
    "    for lag in range(n_steps + n_steps_ahead - 1, n_steps_ahead - 1, -1):\n",
    "        lag_list.append(df.shift(lag))\n",
    "    lag_array = np.dstack([i[n_steps+n_steps_ahead-1:] for i in lag_list])\n",
    "    # We swap the last two dimensions so each slice along the first dimension\n",
    "    # is the same shape as the corresponding segment of the input time series \n",
    "    lag_array = np.swapaxes(lag_array, 1, -1)\n",
    "    return lag_array"
   ]
  },
  {
   "cell_type": "markdown",
   "metadata": {},
   "source": [
    "#### Feature Scaling"
   ]
  },
  {
   "cell_type": "markdown",
   "metadata": {},
   "source": [
    "##### Standardization\n",
    "Much less affected by outliers"
   ]
  },
  {
   "cell_type": "markdown",
   "metadata": {},
   "source": [
    "###### Univariate"
   ]
  },
  {
   "cell_type": "code",
   "execution_count": null,
   "metadata": {},
   "outputs": [],
   "source": [
    "# scale univariate\n",
    "\n",
    "# train_weight = 0.8\n",
    "# split = int(len(df) * train_weight)\n",
    "\n",
    "# uni_X_train_full = df[use_features].iloc[:split]\n",
    "# uni_X_test = df[use_features].iloc[split:]\n",
    "\n",
    "# note that for a multivariate time series, you would need to scale \n",
    "# each variable by its own mean and standard deviation in the training set\n",
    "mean = np.float64(uni_X_train_full.mean())\n",
    "std_dev = np.float64(uni_X_train_full.std())\n",
    "\n",
    "stdize_input = lambda x: (x - mean) / std_dev\n",
    "\n",
    "# standardize by mean and std dev of training set to avoid bias\n",
    "uni_X_train = uni_X_train.apply(stdize_input)\n",
    "uni_X_valid = uni_X_valid.apply(stdize_input)\n",
    "uni_X_test = uni_X_test.apply(stdize_input)"
   ]
  },
  {
   "cell_type": "code",
   "execution_count": null,
   "metadata": {},
   "outputs": [],
   "source": [
    "# training\n",
    "x_train = get_lagged_features(uni_X_train, n_steps, n_steps_ahead)\n",
    "y_train =  uni_X_train.values[n_steps + n_steps_ahead - 1:]\n",
    "y_train_timestamps = uni_X_train.index[n_steps + n_steps_ahead - 1:]\n",
    "\n",
    "# validation\n",
    "x_valid = get_lagged_features(uni_X_valid, n_steps, n_steps_ahead)\n",
    "y_valid =  uni_X_valid.values[n_steps + n_steps_ahead - 1:]\n",
    "y_valid_timestamps = uni_X_valid.index[n_steps + n_steps_ahead - 1:]\n",
    "\n",
    "# test\n",
    "x_test = get_lagged_features(uni_X_test, n_steps, n_steps_ahead)\n",
    "y_test =  uni_X_test.values[n_steps + n_steps_ahead - 1:]\n",
    "y_test_timestamps = uni_X_test.index[n_steps + n_steps_ahead - 1:]"
   ]
  },
  {
   "cell_type": "markdown",
   "metadata": {},
   "source": [
    "###### Multivariate"
   ]
  },
  {
   "cell_type": "code",
   "execution_count": null,
   "metadata": {},
   "outputs": [],
   "source": [
    "std_scaler = preprocessing.StandardScaler()\n",
    "std_scaler.fit(X_train_full)\n",
    "print(f'Mean: {std_scaler.mean_}, Std Dev: {std_scaler.var_}')\n",
    "\n",
    "std_train = std_scaler.transform(X_train_full)\n",
    "# use training mean and std dev to avoid future bias\n",
    "std_test = std_scaler.transform(X_test)\n",
    "\n",
    "# inverse_std_train = std_scaler.inverse_transform(std_train)\n",
    "# inverse_std_test = std_scaler.inverse_transform(std_test)"
   ]
  },
  {
   "cell_type": "markdown",
   "metadata": {},
   "source": [
    "##### Normalize Scaling (MinMax)"
   ]
  },
  {
   "cell_type": "code",
   "execution_count": null,
   "metadata": {},
   "outputs": [],
   "source": [
    "norm_scaler = preprocessing.MinMaxScaler()\n",
    "norm_scaler.fit(X_train_full)\n",
    "print(f'Min: {norm_scaler.data_min_}, Max: {norm_scaler.data_max_}')\n",
    "\n",
    "norm_train = norm_scaler.transform(X_train_full)\n",
    "# use training mean and std dev to avoid future bias\n",
    "norm_test = norm_scaler.transform(X_test)\n",
    "\n",
    "# inverse_std_train = norm_scaler.inverse_transform(norm_train)\n",
    "# inverse_std_test = norm_scaler.inverse_transform(norm_test)"
   ]
  },
  {
   "cell_type": "code",
   "execution_count": null,
   "metadata": {},
   "outputs": [],
   "source": [
    "X_train_full.describe()"
   ]
  },
  {
   "cell_type": "markdown",
   "metadata": {},
   "source": [
    "#### Naive Forecasting Baseline"
   ]
  },
  {
   "cell_type": "code",
   "execution_count": null,
   "metadata": {},
   "outputs": [],
   "source": [
    "naive_baseline(y_train)"
   ]
  },
  {
   "cell_type": "markdown",
   "metadata": {},
   "source": [
    "#### Linear Regression Baseline"
   ]
  },
  {
   "cell_type": "code",
   "execution_count": null,
   "metadata": {},
   "outputs": [],
   "source": [
    "np.random.seed(42)\n",
    "tf.random.set_seed(42)\n",
    "\n",
    "lr_model = keras.models.Sequential([\n",
    "keras.layers.Flatten(input_shape=[n_steps, 1]),\n",
    "keras.layers.Dense(1)\n",
    "])\n",
    "\n",
    "lr_model.compile(loss=\"mse\", optimizer=\"adam\")\n",
    "history = lr_model.fit(x_train, y_train, epochs=100,\n",
    "                    validation_data=(x_valid, y_valid))\n",
    "lr_model.evaluate(x_valid, y_valid)"
   ]
  },
  {
   "cell_type": "code",
   "execution_count": null,
   "metadata": {},
   "outputs": [],
   "source": [
    "def plot_learning_curves(loss, val_loss):\n",
    "    plt.plot(np.arange(len(loss)) + 0.5, loss, \"b.-\", label=\"Training loss\")\n",
    "    plt.plot(np.arange(len(val_loss)) + 1, val_loss, \"r.-\", label=\"Validation loss\")\n",
    "    plt.gca().xaxis.set_major_locator(mpl.ticker.MaxNLocator(integer=True))\n",
    "    plt.axis([1, 20, 0, 0.5])\n",
    "    plt.legend(fontsize=14)\n",
    "    plt.xlabel(\"Epochs\")\n",
    "    plt.ylabel(\"Loss\")\n",
    "    plt.grid(True)\n",
    "\n",
    "plot_learning_curves(history.history[\"loss\"], history.history[\"val_loss\"])\n",
    "plt.show()"
   ]
  },
  {
   "cell_type": "markdown",
   "metadata": {},
   "source": [
    "#### RNN Baseline"
   ]
  },
  {
   "cell_type": "code",
   "execution_count": null,
   "metadata": {},
   "outputs": [],
   "source": [
    "np.random.seed(42)\n",
    "tf.random.set_seed(42)\n",
    "\n",
    "deep_rnn_model = keras.models.Sequential([\n",
    "    keras.layers.SimpleRNN(100, return_sequences=True, input_shape=[n_steps, 1]),\n",
    "    keras.layers.SimpleRNN(100, return_sequences=True),\n",
    "    keras.layers.Dense(1)\n",
    "])\n",
    "\n",
    "deep_rnn_model.compile(loss=\"mse\", optimizer=\"adam\")\n",
    "deep_rnn_history = deep_rnn_model.fit(x_train, y_train, epochs=20, validation_data=(x_valid, y_valid))\n",
    "deep_rnn_model.evaluate(x_valid, y_valid)"
   ]
  },
  {
   "cell_type": "code",
   "execution_count": null,
   "metadata": {},
   "outputs": [],
   "source": [
    "plot_learning_curves(deep_rnn_history.history[\"loss\"], deep_rnn_history.history[\"val_loss\"])\n",
    "plt.show()"
   ]
  },
  {
   "cell_type": "code",
   "execution_count": null,
   "metadata": {},
   "outputs": [],
   "source": [
    "print([tensor.shape for tensor in (x_train, y_train, x_test, y_test)])"
   ]
  },
  {
   "cell_type": "markdown",
   "metadata": {},
   "source": [
    "### RNN Models"
   ]
  },
  {
   "cell_type": "code",
   "execution_count": null,
   "metadata": {},
   "outputs": [],
   "source": [
    "def GRU_(n_units = 10, l1_reg=0, seed=0):\n",
    "  model = Sequential()\n",
    "  model.add(GRU(n_units, activation='tanh', kernel_initializer=keras.initializers.glorot_uniform(seed), bias_initializer=keras.initializers.glorot_uniform(seed), recurrent_initializer=keras.initializers.orthogonal(seed), kernel_regularizer=l1(l1_reg), input_shape=(x_train.shape[1], x_train.shape[-1]), unroll=True))  \n",
    "  model.add(Dense(1, kernel_initializer=keras.initializers.glorot_uniform(seed), bias_initializer=keras.initializers.glorot_uniform(seed), kernel_regularizer=l1(l1_reg)))\n",
    "  model.compile(loss='mean_squared_error', optimizer='adam')\n",
    "  return model\n",
    "\n",
    "\n",
    "def LSTM_(n_units = 10, l1_reg=0, seed=0):\n",
    "  model = Sequential()\n",
    "  model.add(LSTM(n_units, activation='tanh', kernel_initializer=keras.initializers.glorot_uniform(seed), bias_initializer=keras.initializers.glorot_uniform(seed), recurrent_initializer=keras.initializers.orthogonal(seed), kernel_regularizer=l1(l1_reg), input_shape=(x_train.shape[1], x_train.shape[-1]), unroll=True, return_sequences = True))\n",
    "  model.add(LSTM(n_units, activation='tanh', kernel_initializer=keras.initializers.glorot_uniform(seed), bias_initializer=keras.initializers.glorot_uniform(seed), recurrent_initializer=keras.initializers.orthogonal(seed), kernel_regularizer=l1(l1_reg), unroll=True)) \n",
    "  model.add(Dense(1, kernel_initializer=keras.initializers.glorot_uniform(seed), bias_initializer=keras.initializers.glorot_uniform(seed), kernel_regularizer=l1(l1_reg)))\n",
    "  model.compile(loss='mean_squared_error', optimizer='adam')\n",
    "  return model\n",
    "\n",
    "def SimpleRNN_(n_units = 10, l1_reg=0, seed=0):\n",
    "  model = Sequential()\n",
    "  model.add(SimpleRNN(n_units, activation='tanh', kernel_initializer=keras.initializers.glorot_uniform(seed), bias_initializer=keras.initializers.glorot_uniform(seed), recurrent_initializer=keras.initializers.orthogonal(seed), kernel_regularizer=l1(l1_reg), input_shape=(x_train.shape[1], x_train.shape[-1]), unroll=True, stateful=False))  \n",
    "  model.add(Dense(1, kernel_initializer=keras.initializers.glorot_uniform(seed), bias_initializer=keras.initializers.glorot_uniform(seed), kernel_regularizer=l1(l1_reg)))\n",
    "  model.compile(loss='mean_squared_error', optimizer='adam')\n",
    "  return model"
   ]
  },
  {
   "cell_type": "markdown",
   "metadata": {},
   "source": [
    "## Tune"
   ]
  },
  {
   "cell_type": "code",
   "execution_count": null,
   "metadata": {},
   "outputs": [],
   "source": [
    "max_epochs = 100\n",
    "batch_size = 32\n",
    "\n",
    "es = EarlyStopping(monitor='loss', mode='min', verbose=1, patience=100, min_delta=1e-7, restore_best_weights=True)\n",
    "\n",
    "tb = keras.callbacks.TensorBoard(run_logdir)"
   ]
  },
  {
   "cell_type": "code",
   "execution_count": null,
   "metadata": {},
   "outputs": [],
   "source": [
    "params = {\n",
    "    'rnn': {\n",
    "        'model' : None, 'function':SimpleRNN_, 'l1_reg': 0.0, 'H': 20,\n",
    "        'color': 'blue', 'label': 'RNN', 'history':[]\n",
    "    },\n",
    "    'gru': {\n",
    "        'model': None, 'function':GRU_,'l1_reg': 0.0, 'H': 10, \n",
    "        'color': 'orange', 'label': 'GRU'},\n",
    "    'lstm': {\n",
    "        'model': None, 'function': LSTM_,'l1_reg': 0.0, 'H': 10, \n",
    "        'color':'red', 'label': 'LSTM'}\n",
    "}"
   ]
  },
  {
   "cell_type": "code",
   "execution_count": null,
   "metadata": {},
   "outputs": [],
   "source": [
    "params['rnn']['history'].history['val_loss']"
   ]
  },
  {
   "cell_type": "markdown",
   "metadata": {},
   "source": [
    "## Hyperparameter Tuning (25 mins 43 seconds)\n",
    "btc_hr_24 batch = 32 epoch = 100 1 min 13s\n",
    "btc_hr_1 batch = 32 epoch = 100"
   ]
  },
  {
   "cell_type": "code",
   "execution_count": null,
   "metadata": {},
   "outputs": [],
   "source": [
    "cross_val = True # WARNING: Changing this to True will take many hours to run\n",
    "\n",
    "if cross_val:\n",
    "    n_units = [10, 20, 64]\n",
    "    l1_reg = [0, 0.001, 0.01, 0.1]\n",
    "    #l1_reg = [0]\n",
    "    \n",
    "    # A dictionary containing a list of values to be iterated through\n",
    "    # for each parameter of the model included in the search\n",
    "    param_grid = {'n_units': n_units, 'l1_reg': l1_reg}\n",
    "    \n",
    "    # In the kth split, TimeSeriesSplit returns first k folds \n",
    "    # as training set and the (k+1)th fold as test set.\n",
    "    tscv = TimeSeriesSplit(n_splits = 5)\n",
    "    \n",
    "    # A grid search is performed for each of the models, and the parameter set which\n",
    "    # performs best over all the cross-validation splits is saved in the `params` dictionary\n",
    "    for key in params.keys():\n",
    "        print('Performing cross-validation. Model:', key)\n",
    "        model = KerasRegressor(model=params[key]['function'], epochs=max_epochs, \n",
    "                               batch_size=batch_size, verbose=2, l1_reg=l1_reg, n_units=n_units)\n",
    "        grid = GridSearchCV(estimator=model, param_grid=param_grid, \n",
    "                            cv=tscv, n_jobs=1, verbose=2) # scikeras uses r^2 scoring by default\n",
    "        grid_result = grid.fit(x_train, y_train, callbacks=[es, tb])\n",
    "        print(\"Best: %f using %s\" % (grid_result.best_score_, grid_result.best_params_))\n",
    "        \n",
    "        means = grid_result.cv_results_['mean_test_score']\n",
    "        stds = grid_result.cv_results_['std_test_score']\n",
    "        params_ = grid_result.cv_results_['params']\n",
    "        for mean, stdev, param_ in zip(means, stds, params_):\n",
    "            print(\"%f (%f) with %r\" % (mean, stdev, param_))\n",
    "            \n",
    "        params[key]['H'] = grid_result.best_params_['n_units']\n",
    "        params[key]['l1_reg']= grid_result.best_params_['l1_reg']"
   ]
  },
  {
   "cell_type": "markdown",
   "metadata": {},
   "source": [
    "fit model\n",
    "3 min 35.5 s\n",
    "\n",
    "25m 54.5s\n",
    "batch size = 32 \n",
    "epoch = 100"
   ]
  },
  {
   "cell_type": "markdown",
   "metadata": {},
   "source": [
    "## Train Model"
   ]
  },
  {
   "cell_type": "code",
   "execution_count": null,
   "metadata": {},
   "outputs": [],
   "source": [
    "# 3 min 35.5s\n",
    "for key in params.keys():\n",
    "    tf.random.set_seed(0)\n",
    "    print('Training', key, 'model')\n",
    "    # params[key]['H'] = best\n",
    "   # model = params[key]['function'](params[key]['H'], params[key]['l1_reg'])\n",
    "    model = params[key]['function'](64, 0)\n",
    "    params[key]['history'] = model.fit(x_train, y_train, epochs=max_epochs, \n",
    "                batch_size=batch_size, callbacks=[es, tb], shuffle=False, validation_data=(x_valid, y_valid))\n",
    "    params[key]['model'] = model"
   ]
  },
  {
   "cell_type": "markdown",
   "metadata": {},
   "source": [
    "## Make predictions\n",
    "2 min 54.9s "
   ]
  },
  {
   "cell_type": "code",
   "execution_count": null,
   "metadata": {},
   "outputs": [],
   "source": [
    "for key in params.keys():\n",
    "    model = params[key]['model']\n",
    "    model.summary()\n",
    "    \n",
    "    params[key]['pred_train'] = model.predict(x_train, verbose=1)\n",
    "    params[key]['MSE_train'] = mean_squared_error(y_train, params[key]['pred_train'])\n",
    "    \n",
    "    params[key]['pred_test'] = model.predict(x_test, verbose=1) \n",
    "    params[key]['MSE_test'] = mean_squared_error(y_test, params[key]['pred_test'])"
   ]
  },
  {
   "cell_type": "markdown",
   "metadata": {},
   "source": [
    "## Plot Results"
   ]
  },
  {
   "cell_type": "code",
   "execution_count": null,
   "metadata": {},
   "outputs": [],
   "source": [
    "def plot_predictions(compare):\n",
    "    max_points = 10**4\n",
    "    section = ['train', 'test']\n",
    "    l, u = (None, None) # lower and upper indices of range to plot \n",
    "    ds = max(1, len(y_train[l:u])//max_pts) # Downsampling ratio for under `max_pts`\n",
    "                                        # per series.  Set `None` to disable.\n",
    "    fig = plt.figure(figsize=(15,8))\n",
    "    x_vals = y_train_timestamps\n",
    "    for e in section:\n",
    "        for key in compare:\n",
    "            #print(f'pred_{e}')\n",
    "            y_vals = params[key][f'pred_{e}']\n",
    "            #print(f'({e} ' + 'MSE: %2e)')\n",
    "            label = params[key]['label'] + f' ({e}' + 'MSE: %.2e)' % params[key][f'MSE_{e}']\n",
    "            plt.plot(x_vals, y_vals, c=params[key]['color'], label=label, lw=1)\n",
    "        plt.plot(x_vals, y_test, c=\"black\", label=\"Observed\", lw=1)\n",
    "        start, end = x_vals.min(), x_vals.max()\n",
    "        xticks =  [start.date() + timedelta(days=(1+i)) for i in range(1 + (end - start).days)]\n",
    "        xticks = xticks[::max(1, len(xticks)//30)]\n",
    "        for t in xticks: plt.axvline(x=t, c='gray', linewidth=0.5, zorder=0)\n",
    "        plt.xticks(xticks, rotation=70)\n",
    "        plt.xlim(start, end)\n",
    "        plt.ylabel('$\\hat{Y}$', rotation=0, fontsize=14)\n",
    "        plt.legend(loc=\"best\", fontsize=12)\n",
    "        plt.title('Observed vs Model Outputs (Testing)', fontsize=16)\n",
    "        plt.savefig(f'../figures/plot/{time_period}_{n_steps}_lag_{e}ing_performance.png')"
   ]
  },
  {
   "cell_type": "markdown",
   "metadata": {},
   "source": [
    "### Plot Training Predictions"
   ]
  },
  {
   "cell_type": "code",
   "execution_count": null,
   "metadata": {},
   "outputs": [],
   "source": [
    "max_pts = 10**4\n",
    "compare = params.keys()\n",
    "l, u = (None, None) # lower and upper indices of range to plot \n",
    "ds = max(1, len(y_train[l:u])//max_pts) # Downsampling ratio for under `max_pts`\n",
    "                                        # per series.  Set `None` to disable. \n",
    "\n",
    "fig = plt.figure(figsize=(15,8))\n",
    "x_vals = y_train_timestamps[l:u:ds]\n",
    "for key in compare:\n",
    "    y_vals = params[key]['pred_train'][l:u:ds]\n",
    "    label = params[key]['label'] + ' (train MSE: %.2e)' % params[key]['MSE_train']\n",
    "    plt.plot(x_vals, y_vals, c=params[key]['color'], label=label, lw=1)\n",
    "plt.plot(x_vals, y_train[l:u:ds], c=\"black\", label=\"Observed\", lw=1)\n",
    "start, end = x_vals.min(), x_vals.max()\n",
    "xticks =  [start.date() + timedelta(days=(1+i)) for i in range(1 + (end - start).days)]\n",
    "xticks = xticks[::max(1, len(xticks)//30)]\n",
    "for t in xticks: plt.axvline(x=t, c='gray', linewidth=0.5, zorder=0)\n",
    "plt.xticks(xticks, rotation=70)\n",
    "plt.xlim(start, end)\n",
    "plt.ylabel('$\\hat{Y}$', rotation=0, fontsize=14)\n",
    "plt.legend(loc=\"best\", fontsize=12)\n",
    "plt.title('Observed vs Model Outputs (Training)', fontsize=16)\n",
    "#plt.savefig(f'../figures/univariate/{time_period}_{n_steps}_lag_training_performance.png')"
   ]
  },
  {
   "cell_type": "markdown",
   "metadata": {},
   "source": [
    "### Plot Testing Predictions"
   ]
  },
  {
   "cell_type": "code",
   "execution_count": null,
   "metadata": {},
   "outputs": [],
   "source": [
    "compare = params.keys() # e.g. ['rnn', 'alpharnn'] or ['lstm']\n",
    "l, u = (None, None) # lower and upper indices of range to plot \n",
    "ds = max(1, len(y_train[l:u])//max_pts) # Downsampling ratio for under `max_pts`\n",
    "                                        # per series.  Set `None` to disable.\n",
    "fig = plt.figure(figsize=(15,8))\n",
    "x_vals = y_test_timestamps[l:u:ds]\n",
    "for key in compare:\n",
    "    y_vals = params[key]['pred_test'][l:u:ds]\n",
    "    label = params[key]['label'] + ' (test MSE: %.2e)' % params[key]['MSE_test']\n",
    "    plt.plot(x_vals, y_vals, c=params[key]['color'], label=label, lw=1)\n",
    "plt.plot(x_vals, y_test[l:u:ds], c=\"black\", label=\"Observed\", lw=1)\n",
    "start, end = x_vals.min(), x_vals.max()\n",
    "xticks =  [start.date() + timedelta(days=(1+i)) for i in range(1 + (end - start).days)]\n",
    "xticks = xticks[::max(1, len(xticks)//30)]\n",
    "for t in xticks: plt.axvline(x=t, c='gray', linewidth=0.5, zorder=0)\n",
    "plt.xticks(xticks, rotation=70)\n",
    "plt.xlim(start, end)\n",
    "plt.ylabel('$\\hat{Y}$', rotation=0, fontsize=14)\n",
    "plt.legend(loc=\"best\", fontsize=12)\n",
    "plt.title('Observed vs Model Outputs (Testing)', fontsize=16)\n",
    "#plt.savefig(f'../figures/univariate/{time_period}_{n_steps}_lag_testing_performance.png')"
   ]
  },
  {
   "cell_type": "markdown",
   "metadata": {},
   "source": [
    "### Plot Training Error"
   ]
  },
  {
   "cell_type": "code",
   "execution_count": null,
   "metadata": {},
   "outputs": [],
   "source": [
    "compare = params.keys()\n",
    "l, u = (None, None) # lower and upper indices of range to plot - e.g. (None, 10000)\n",
    "ds = max(1, len(y_train[l:u])//max_pts) # Downsampling ratio for under `max_pts`\n",
    "                                        # per series.  Set `None` to disable.\n",
    "fig = plt.figure(figsize=(15,8))\n",
    "x_vals = y_train_timestamps[l:u:ds]\n",
    "for key in compare:\n",
    "    y_vals = params[key]['pred_train'][l:u:ds] - y_train[l:u:ds]\n",
    "    label = params[key]['label'] + ' (train MSE: %.2e)' % params[key]['MSE_train']\n",
    "    plt.plot(x_vals, y_vals, c=params[key]['color'], label=label, lw=1)\n",
    "start, end = x_vals.min(), x_vals.max()\n",
    "xticks =  [start.date() + timedelta(days=(1+i)) for i in range(1 + (end - start).days)]\n",
    "xticks = xticks[::max(1, len(xticks)//30)]\n",
    "plt.axhline(0, linewidth=0.8)\n",
    "for t in xticks: plt.axvline(x=t, c='gray', linewidth=0.5, zorder=0)\n",
    "plt.xticks(xticks, rotation=80)\n",
    "plt.xlim(start, end)\n",
    "plt.ylabel('$\\hat{Y}-Y$', fontsize=14)\n",
    "plt.legend(loc=\"best\", fontsize=12)\n",
    "plt.title('Observed vs Model Error (Training)', fontsize=16)\n",
    "#plt.savefig(f'../figures/univariate/{time_period}_{n_steps}_lag_training_performance_difference.png')"
   ]
  },
  {
   "cell_type": "markdown",
   "metadata": {},
   "source": [
    "### Plot Test Error"
   ]
  },
  {
   "cell_type": "code",
   "execution_count": null,
   "metadata": {},
   "outputs": [],
   "source": [
    "compare = params.keys()\n",
    "l, u = (None, None) # e.g. (None, 100000) lower and upper indices of range to plot \n",
    "ds = max(1, len(y_train[l:u])//max_pts) # Downsampling ratio for under `max_pts`\n",
    "                                        # per series.  Set `None` to disable.\n",
    "fig = plt.figure(figsize=(15,8))\n",
    "x_vals = y_test_timestamps[l:u:ds]\n",
    "for key in compare:\n",
    "    y_vals = params[key]['pred_test'][l:u:ds] - y_test[l:u:ds]\n",
    "    label = params[key]['label'] + ' (test MSE: %.2e)' % params[key]['MSE_test']\n",
    "    plt.plot(x_vals, y_vals, c=params[key]['color'], label=label, lw=1)\n",
    "start, end = x_vals.min(), x_vals.max()\n",
    "xticks =  [start.date() + timedelta(days=(1+i)) for i in range(1 + (end - start).days)]\n",
    "xticks = xticks[::max(1, len(xticks)//30)]\n",
    "plt.axhline(0, linewidth=0.8)\n",
    "for t in xticks: plt.axvline(x=t, c='gray', linewidth=0.5, zorder=0)\n",
    "plt.xticks(xticks, rotation=80)\n",
    "plt.xlim(start, end)\n",
    "plt.ylabel('$\\hat{Y}-Y$', fontsize=14)\n",
    "plt.legend(loc=\"best\", fontsize=12)\n",
    "plt.title('Observed vs Model Error (Testing)', fontsize=16)\n",
    "#plt.savefig(f'../figures/univariate/{dataset}/{start}_{end}_{n_steps}_lag_testing_performance_difference.png')"
   ]
  },
  {
   "cell_type": "markdown",
   "metadata": {},
   "source": [
    "# Multivariate"
   ]
  },
  {
   "cell_type": "markdown",
   "metadata": {},
   "source": [
    "## Import dataset"
   ]
  },
  {
   "cell_type": "code",
   "execution_count": 58,
   "metadata": {},
   "outputs": [],
   "source": [
    "# dataset = \"BTC-USD_hr_24\"\n",
    "dataset = \"ETH-USD_hr_24\"\n",
    "df = pd.read_csv(f'../data/labeled_{dataset}.csv', index_col=0)\n",
    "df.index = pd.to_datetime(df.index, unit='s')\n",
    "target = 'target_close'\n",
    "\n",
    "df = df.dropna()\n",
    "\n",
    "use_features = ['last_low', 'last_high', \"last_open\", \"last_close\",\"last_volume\", \"current_open\", target] # continuous input\n",
    "n_features = len(use_features) - 1\n",
    "df = df[use_features]\n",
    "# already defined above\n",
    "#target = ['target_close'] # continuous output\n",
    "n_steps_ahead = 1 # forecasting horizon\n",
    "n_steps = 7\n",
    "\n",
    "# short date \n",
    "#df = df['2021-01-01':]\n",
    "\n",
    "multi_X_train_full, multi_X_test = partition(df, 0.2)\n",
    "# train and validation set\n",
    "multi_X_train, multi_X_valid = partition(multi_X_train_full, 0.2)\n",
    "\n",
    "# save time stamps\n",
    "y_train_timestamps = multi_X_train_full.index[n_steps + n_steps_ahead - 1:]\n",
    "y_valid_timestamps = multi_X_valid.index[n_steps + n_steps_ahead - 1:]\n",
    "y_test_timestamps = multi_X_test.index[n_steps + n_steps_ahead - 1:]"
   ]
  },
  {
   "cell_type": "markdown",
   "metadata": {},
   "source": [
    "## Standardized"
   ]
  },
  {
   "cell_type": "code",
   "execution_count": null,
   "metadata": {},
   "outputs": [],
   "source": [
    "std_scaler = preprocessing.StandardScaler()\n",
    "std_scaler.fit(multi_X_train_full)\n",
    "#print(f'Mean: {std_scaler.mean_}, Std Dev: {std_scaler.var_}')\n",
    "\n",
    "# use training mean and std dev to avoid future bias\n",
    "multi_X_train_full = std_scaler.transform(multi_X_train_full)\n",
    "multi_X_train = std_scaler.transform(multi_X_train)\n",
    "multi_X_valid = std_scaler.transform(multi_X_valid)\n",
    "multi_X_test = std_scaler.transform(multi_X_test)\n",
    "\n",
    "# convert to df\n",
    "multi_X_train_full = pd.DataFrame(multi_X_train_full, columns=use_features)\n",
    "multi_X_train = pd.DataFrame(multi_X_train, columns=use_features)\n",
    "multi_X_valid = pd.DataFrame(multi_X_valid, columns=use_features)\n",
    "multi_X_test = pd.DataFrame(multi_X_test, columns=use_features)\n",
    "\n",
    "# full training set\n",
    "x_train_full, y_train_full = sliding_window(multi_X_train_full, n_steps)\n",
    "y_train_full = y_train_full.reshape((y_train_full.shape[0], 1))\n",
    "\n",
    "# train\n",
    "x_train, y_train = sliding_window(multi_X_train, n_steps)\n",
    "y_train = y_train.reshape((y_train.shape[0], 1))\n",
    "\n",
    "# validation\n",
    "x_valid, y_valid = sliding_window(multi_X_valid, n_steps)\n",
    "y_valid = y_valid.reshape((y_valid.shape[0], 1))\n",
    "\n",
    "# test\n",
    "x_test, y_test = sliding_window(multi_X_test, n_steps)\n",
    "y_test = y_test.reshape((y_test.shape[0], 1))\n",
    "\n",
    "scale = 'standard'"
   ]
  },
  {
   "cell_type": "markdown",
   "metadata": {},
   "source": [
    "## Normalize Scaling (MinMax)"
   ]
  },
  {
   "cell_type": "code",
   "execution_count": 59,
   "metadata": {},
   "outputs": [],
   "source": [
    "norm_scaler = preprocessing.MinMaxScaler()\n",
    "norm_scaler.fit(multi_X_train_full)\n",
    "#print(f'Mean: {norm_scaler.mean_}, Std Dev: {norm_scaler.var_}')\n",
    "\n",
    "# use training mean and std dev to avoid future bias\n",
    "multi_X_train_full = norm_scaler.transform(multi_X_train_full)\n",
    "multi_X_train = norm_scaler.transform(multi_X_train)\n",
    "multi_X_valid = norm_scaler.transform(multi_X_valid)\n",
    "multi_X_test = norm_scaler.transform(multi_X_test)\n",
    "\n",
    "# convert to df\n",
    "multi_X_train_full = pd.DataFrame(multi_X_train_full, columns=use_features)\n",
    "multi_X_train = pd.DataFrame(multi_X_train, columns=use_features)\n",
    "multi_X_valid = pd.DataFrame(multi_X_valid, columns=use_features)\n",
    "multi_X_test = pd.DataFrame(multi_X_test, columns=use_features)\n",
    "\n",
    "# full training set\n",
    "x_train_full, y_train_full = sliding_window(multi_X_train_full, n_steps)\n",
    "y_train_full = y_train_full.reshape((y_train_full.shape[0], 1))\n",
    "\n",
    "# train\n",
    "x_train, y_train = sliding_window(multi_X_train, n_steps)\n",
    "y_train = y_train.reshape((y_train.shape[0], 1))\n",
    "\n",
    "# validation\n",
    "x_valid, y_valid = sliding_window(multi_X_valid, n_steps)\n",
    "y_valid = y_valid.reshape((y_valid.shape[0], 1))\n",
    "\n",
    "# test\n",
    "x_test, y_test = sliding_window(multi_X_test, n_steps)\n",
    "y_test = y_test.reshape((y_test.shape[0], 1))\n",
    "\n",
    "scale = 'norm'"
   ]
  },
  {
   "cell_type": "code",
   "execution_count": 34,
   "metadata": {},
   "outputs": [
    {
     "data": {
      "text/html": [
       "<div>\n",
       "<style scoped>\n",
       "    .dataframe tbody tr th:only-of-type {\n",
       "        vertical-align: middle;\n",
       "    }\n",
       "\n",
       "    .dataframe tbody tr th {\n",
       "        vertical-align: top;\n",
       "    }\n",
       "\n",
       "    .dataframe thead th {\n",
       "        text-align: right;\n",
       "    }\n",
       "</style>\n",
       "<table border=\"1\" class=\"dataframe\">\n",
       "  <thead>\n",
       "    <tr style=\"text-align: right;\">\n",
       "      <th></th>\n",
       "      <th>last_low</th>\n",
       "      <th>last_high</th>\n",
       "      <th>last_open</th>\n",
       "      <th>last_close</th>\n",
       "      <th>last_volume</th>\n",
       "      <th>current_open</th>\n",
       "      <th>target_close</th>\n",
       "    </tr>\n",
       "  </thead>\n",
       "  <tbody>\n",
       "    <tr>\n",
       "      <th>count</th>\n",
       "      <td>731.000000</td>\n",
       "      <td>731.000000</td>\n",
       "      <td>731.000000</td>\n",
       "      <td>731.000000</td>\n",
       "      <td>7.310000e+02</td>\n",
       "      <td>731.000000</td>\n",
       "      <td>731.000000</td>\n",
       "    </tr>\n",
       "    <tr>\n",
       "      <th>mean</th>\n",
       "      <td>1404.583023</td>\n",
       "      <td>1524.805814</td>\n",
       "      <td>1468.755212</td>\n",
       "      <td>1473.991081</td>\n",
       "      <td>2.306553e+05</td>\n",
       "      <td>1473.993297</td>\n",
       "      <td>1479.186170</td>\n",
       "    </tr>\n",
       "    <tr>\n",
       "      <th>std</th>\n",
       "      <td>1351.639068</td>\n",
       "      <td>1458.246855</td>\n",
       "      <td>1409.771799</td>\n",
       "      <td>1411.906438</td>\n",
       "      <td>1.861644e+05</td>\n",
       "      <td>1411.913396</td>\n",
       "      <td>1413.932933</td>\n",
       "    </tr>\n",
       "    <tr>\n",
       "      <th>min</th>\n",
       "      <td>90.000000</td>\n",
       "      <td>118.880000</td>\n",
       "      <td>110.300000</td>\n",
       "      <td>110.300000</td>\n",
       "      <td>2.594174e+04</td>\n",
       "      <td>110.300000</td>\n",
       "      <td>110.300000</td>\n",
       "    </tr>\n",
       "    <tr>\n",
       "      <th>25%</th>\n",
       "      <td>234.295000</td>\n",
       "      <td>245.420000</td>\n",
       "      <td>239.705000</td>\n",
       "      <td>240.235000</td>\n",
       "      <td>1.195357e+05</td>\n",
       "      <td>240.220000</td>\n",
       "      <td>240.815000</td>\n",
       "    </tr>\n",
       "    <tr>\n",
       "      <th>50%</th>\n",
       "      <td>587.250000</td>\n",
       "      <td>638.500000</td>\n",
       "      <td>616.460000</td>\n",
       "      <td>617.000000</td>\n",
       "      <td>1.784335e+05</td>\n",
       "      <td>617.000000</td>\n",
       "      <td>626.750000</td>\n",
       "    </tr>\n",
       "    <tr>\n",
       "      <th>75%</th>\n",
       "      <td>2308.095000</td>\n",
       "      <td>2615.465000</td>\n",
       "      <td>2467.735000</td>\n",
       "      <td>2489.950000</td>\n",
       "      <td>2.733180e+05</td>\n",
       "      <td>2489.875000</td>\n",
       "      <td>2508.710000</td>\n",
       "    </tr>\n",
       "    <tr>\n",
       "      <th>max</th>\n",
       "      <td>4697.900000</td>\n",
       "      <td>4867.810000</td>\n",
       "      <td>4811.890000</td>\n",
       "      <td>4811.900000</td>\n",
       "      <td>1.664159e+06</td>\n",
       "      <td>4811.890000</td>\n",
       "      <td>4811.900000</td>\n",
       "    </tr>\n",
       "  </tbody>\n",
       "</table>\n",
       "</div>"
      ],
      "text/plain": [
       "          last_low    last_high    last_open   last_close   last_volume  \\\n",
       "count   731.000000   731.000000   731.000000   731.000000  7.310000e+02   \n",
       "mean   1404.583023  1524.805814  1468.755212  1473.991081  2.306553e+05   \n",
       "std    1351.639068  1458.246855  1409.771799  1411.906438  1.861644e+05   \n",
       "min      90.000000   118.880000   110.300000   110.300000  2.594174e+04   \n",
       "25%     234.295000   245.420000   239.705000   240.235000  1.195357e+05   \n",
       "50%     587.250000   638.500000   616.460000   617.000000  1.784335e+05   \n",
       "75%    2308.095000  2615.465000  2467.735000  2489.950000  2.733180e+05   \n",
       "max    4697.900000  4867.810000  4811.890000  4811.900000  1.664159e+06   \n",
       "\n",
       "       current_open  target_close  \n",
       "count    731.000000    731.000000  \n",
       "mean    1473.993297   1479.186170  \n",
       "std     1411.913396   1413.932933  \n",
       "min      110.300000    110.300000  \n",
       "25%      240.220000    240.815000  \n",
       "50%      617.000000    626.750000  \n",
       "75%     2489.875000   2508.710000  \n",
       "max     4811.890000   4811.900000  "
      ]
     },
     "execution_count": 34,
     "metadata": {},
     "output_type": "execute_result"
    }
   ],
   "source": [
    "df.describe()"
   ]
  },
  {
   "cell_type": "code",
   "execution_count": 60,
   "metadata": {},
   "outputs": [],
   "source": [
    "close_min = norm_scaler.data_min_[-1]"
   ]
  },
  {
   "cell_type": "code",
   "execution_count": 61,
   "metadata": {},
   "outputs": [],
   "source": [
    "close_scale = norm_scaler.scale_[-1]"
   ]
  },
  {
   "cell_type": "code",
   "execution_count": 85,
   "metadata": {},
   "outputs": [],
   "source": [
    "def inverse_norm(data):\n",
    "    transformed = np.array(data)\n",
    "    for i in range (data.shape[0]):\n",
    "        transformed[i][0] = data[i][0] - close_min\n",
    "        transformed[i][0] =  data[i][0] / close_scale\n",
    "    return transformed"
   ]
  },
  {
   "cell_type": "code",
   "execution_count": 88,
   "metadata": {},
   "outputs": [
    {
     "data": {
      "text/plain": [
       "(140, 1)"
      ]
     },
     "execution_count": 88,
     "metadata": {},
     "output_type": "execute_result"
    }
   ],
   "source": [
    "pred = inverse_norm(y_naive)\n",
    "\n",
    "true = inverse_norm(y_test)\n"
   ]
  },
  {
   "cell_type": "markdown",
   "metadata": {},
   "source": [
    "## Raw"
   ]
  },
  {
   "cell_type": "code",
   "execution_count": null,
   "metadata": {},
   "outputs": [],
   "source": [
    "# full training set\n",
    "x_train_full, y_train_full = sliding_window(multi_X_train_full, n_steps)\n",
    "y_train_full = y_train_full.reshape((y_train_full.shape[0], 1))\n",
    "\n",
    "# train\n",
    "x_train, y_train = sliding_window(multi_X_train, n_steps)\n",
    "y_train = y_train.reshape((y_train.shape[0], 1))\n",
    "\n",
    "# validation\n",
    "x_valid, y_valid = sliding_window(multi_X_valid, n_steps)\n",
    "y_valid = y_valid.reshape((y_valid.shape[0], 1))\n",
    "\n",
    "# test\n",
    "x_test, y_test = sliding_window(multi_X_test, n_steps)\n",
    "y_test = y_test.reshape((y_test.shape[0], 1))\n",
    "\n",
    "scale = 'raw'"
   ]
  },
  {
   "cell_type": "markdown",
   "metadata": {},
   "source": [
    "### RNN Models"
   ]
  },
  {
   "cell_type": "code",
   "execution_count": 9,
   "metadata": {},
   "outputs": [],
   "source": [
    "def GRU_(n_units = 10, l1_reg=0, seed=0):\n",
    "  model = Sequential()\n",
    "  model.add(GRU(n_units, activation='tanh', kernel_initializer=keras.initializers.glorot_uniform(seed), bias_initializer=keras.initializers.glorot_uniform(seed), recurrent_initializer=keras.initializers.orthogonal(seed), kernel_regularizer=l1(l1_reg), input_shape=(x_train.shape[1], x_train.shape[-1]), unroll=True))  \n",
    "  model.add(Dense(1, kernel_initializer=keras.initializers.glorot_uniform(seed), bias_initializer=keras.initializers.glorot_uniform(seed), kernel_regularizer=l1(l1_reg)))\n",
    "  model.compile(loss='mean_squared_error', optimizer='adam')\n",
    "  return model\n",
    "\n",
    "\n",
    "def LSTM_(n_units = 10, l1_reg=0, seed=0):\n",
    "  model = Sequential()\n",
    "  model.add(LSTM(n_units, activation='tanh', kernel_initializer=keras.initializers.glorot_uniform(seed), bias_initializer=keras.initializers.glorot_uniform(seed), recurrent_initializer=keras.initializers.orthogonal(seed), kernel_regularizer=l1(l1_reg), input_shape=(x_train.shape[1], x_train.shape[-1]), unroll=True, return_sequences = False))\n",
    "  # model.add(LSTM(n_units, activation='tanh', kernel_initializer=keras.initializers.glorot_uniform(seed), bias_initializer=keras.initializers.glorot_uniform(seed), recurrent_initializer=keras.initializers.orthogonal(seed), kernel_regularizer=l1(l1_reg), unroll=True)) \n",
    "  model.add(Dense(1, kernel_initializer=keras.initializers.glorot_uniform(seed), bias_initializer=keras.initializers.glorot_uniform(seed), kernel_regularizer=l1(l1_reg)))\n",
    "  model.compile(loss='mean_squared_error', optimizer='adam')\n",
    "  return model\n",
    "\n",
    "def SimpleRNN_(n_units = 10, l1_reg=0, seed=0):\n",
    "  model = Sequential()\n",
    "  model.add(SimpleRNN(n_units, activation='tanh', kernel_initializer=keras.initializers.glorot_uniform(seed), bias_initializer=keras.initializers.glorot_uniform(seed), recurrent_initializer=keras.initializers.orthogonal(seed), kernel_regularizer=l1(l1_reg), input_shape=(x_train.shape[1], x_train.shape[-1]), unroll=True, stateful=False))  \n",
    "  model.add(Dense(1, kernel_initializer=keras.initializers.glorot_uniform(seed), bias_initializer=keras.initializers.glorot_uniform(seed), kernel_regularizer=l1(l1_reg)))\n",
    "  model.compile(loss='mean_squared_error', optimizer='adam')\n",
    "  return model"
   ]
  },
  {
   "cell_type": "code",
   "execution_count": 10,
   "metadata": {},
   "outputs": [],
   "source": [
    "max_epochs = 100\n",
    "batch_size = 32\n",
    "\n",
    "es = EarlyStopping(monitor='loss', mode='min', verbose=1, patience=100, min_delta=1e-7, restore_best_weights=True)\n",
    "\n",
    "tb = keras.callbacks.TensorBoard(run_logdir)\n",
    "\n",
    "params = {\n",
    "    'rnn': {\n",
    "        'model' : None, 'function':SimpleRNN_, 'l1_reg': 0.0, 'H': 20,\n",
    "        'color': 'blue', 'label': 'RNN'\n",
    "    },\n",
    "    'gru': {\n",
    "        'model': None, 'function':GRU_,'l1_reg': 0.0, 'H': 10, \n",
    "        'color': 'orange', 'label': 'GRU'},\n",
    "    'lstm': {\n",
    "        'model': None, 'function': LSTM_,'l1_reg': 0.0, 'H': 10, \n",
    "        'color':'red', 'label': 'LSTM'}\n",
    "}"
   ]
  },
  {
   "cell_type": "markdown",
   "metadata": {},
   "source": [
    "### Hyperparameter Tuning"
   ]
  },
  {
   "cell_type": "code",
   "execution_count": null,
   "metadata": {},
   "outputs": [],
   "source": [
    "cross_val = True # WARNING: Changing this to True will take many hours to run\n",
    "\n",
    "if cross_val:\n",
    "    n_units = [10, 20, 64]\n",
    "    l1_reg = [0, 0.001, 0.01, 0.1]\n",
    "    #l1_reg = [0]\n",
    "    \n",
    "    # A dictionary containing a list of values to be iterated through\n",
    "    # for each parameter of the model included in the search\n",
    "    param_grid = {'n_units': n_units, 'l1_reg': l1_reg}\n",
    "    \n",
    "    # In the kth split, TimeSeriesSplit returns first k folds \n",
    "    # as training set and the (k+1)th fold as test set.\n",
    "    tscv = TimeSeriesSplit(n_splits = 5)\n",
    "    \n",
    "    # A grid search is performed for each of the models, and the parameter set which\n",
    "    # performs best over all the cross-validation splits is saved in the `params` dictionary\n",
    "    for key in params.keys():\n",
    "        print('Performing cross-validation. Model:', key)\n",
    "        model = KerasRegressor(model=params[key]['function'], epochs=max_epochs, \n",
    "                               batch_size=batch_size, verbose=2, l1_reg=l1_reg, n_units=n_units)\n",
    "        grid = GridSearchCV(estimator=model, param_grid=param_grid, \n",
    "                            cv=tscv, n_jobs=1, verbose=2) # scikeras uses r^2 scoring by default\n",
    "        grid_result = grid.fit(x_train, y_train, callbacks=[es, tb])\n",
    "        print(\"Best: %f using %s\" % (grid_result.best_score_, grid_result.best_params_))\n",
    "        \n",
    "        means = grid_result.cv_results_['mean_test_score']\n",
    "        stds = grid_result.cv_results_['std_test_score']\n",
    "        params_ = grid_result.cv_results_['params']\n",
    "        for mean, stdev, param_ in zip(means, stds, params_):\n",
    "            print(\"%f (%f) with %r\" % (mean, stdev, param_))\n",
    "            \n",
    "        params[key]['H'] = grid_result.best_params_['n_units']\n",
    "        params[key]['l1_reg']= grid_result.best_params_['l1_reg']"
   ]
  },
  {
   "cell_type": "markdown",
   "metadata": {},
   "source": [
    "## Train Model"
   ]
  },
  {
   "cell_type": "code",
   "execution_count": 11,
   "metadata": {},
   "outputs": [
    {
     "name": "stdout",
     "output_type": "stream",
     "text": [
      "Training rnn model\n"
     ]
    },
    {
     "name": "stderr",
     "output_type": "stream",
     "text": [
      "2021-12-21 14:39:30.443533: I tensorflow/core/platform/cpu_feature_guard.cc:151] This TensorFlow binary is optimized with oneAPI Deep Neural Network Library (oneDNN) to use the following CPU instructions in performance-critical operations:  AVX2 FMA\n",
      "To enable them in other operations, rebuild TensorFlow with the appropriate compiler flags.\n"
     ]
    },
    {
     "name": "stdout",
     "output_type": "stream",
     "text": [
      "Epoch 1/100\n",
      "19/19 [==============================] - 1s 20ms/step - loss: 0.2378 - val_loss: 0.0110\n",
      "Epoch 2/100\n",
      "19/19 [==============================] - 0s 6ms/step - loss: 0.1244 - val_loss: 0.0359\n",
      "Epoch 3/100\n",
      "19/19 [==============================] - 0s 4ms/step - loss: 0.0467 - val_loss: 0.0622\n",
      "Epoch 4/100\n",
      "19/19 [==============================] - 0s 6ms/step - loss: 0.0123 - val_loss: 0.0043\n",
      "Epoch 5/100\n",
      "19/19 [==============================] - 0s 4ms/step - loss: 0.0031 - val_loss: 0.0045\n",
      "Epoch 6/100\n",
      "19/19 [==============================] - 0s 4ms/step - loss: 0.0019 - val_loss: 0.0045\n",
      "Epoch 7/100\n",
      "19/19 [==============================] - 0s 4ms/step - loss: 0.0013 - val_loss: 0.0040\n",
      "Epoch 8/100\n",
      "19/19 [==============================] - 0s 5ms/step - loss: 0.0012 - val_loss: 0.0040\n",
      "Epoch 9/100\n",
      "19/19 [==============================] - 0s 5ms/step - loss: 0.0011 - val_loss: 0.0039\n",
      "Epoch 10/100\n",
      "19/19 [==============================] - 0s 5ms/step - loss: 0.0011 - val_loss: 0.0038\n",
      "Epoch 11/100\n",
      "19/19 [==============================] - 0s 4ms/step - loss: 0.0010 - val_loss: 0.0037\n",
      "Epoch 12/100\n",
      "19/19 [==============================] - 0s 5ms/step - loss: 0.0010 - val_loss: 0.0037\n",
      "Epoch 13/100\n",
      "19/19 [==============================] - 0s 4ms/step - loss: 9.7433e-04 - val_loss: 0.0036\n",
      "Epoch 14/100\n",
      "19/19 [==============================] - 0s 5ms/step - loss: 9.4459e-04 - val_loss: 0.0035\n",
      "Epoch 15/100\n",
      "19/19 [==============================] - 0s 7ms/step - loss: 9.1970e-04 - val_loss: 0.0035\n",
      "Epoch 16/100\n",
      "19/19 [==============================] - 0s 4ms/step - loss: 8.9802e-04 - val_loss: 0.0034\n",
      "Epoch 17/100\n",
      "19/19 [==============================] - 0s 4ms/step - loss: 8.7833e-04 - val_loss: 0.0034\n",
      "Epoch 18/100\n",
      "19/19 [==============================] - 0s 4ms/step - loss: 8.6217e-04 - val_loss: 0.0033\n",
      "Epoch 19/100\n",
      "19/19 [==============================] - 0s 4ms/step - loss: 8.4650e-04 - val_loss: 0.0033\n",
      "Epoch 20/100\n",
      "19/19 [==============================] - 0s 4ms/step - loss: 8.3383e-04 - val_loss: 0.0033\n",
      "Epoch 21/100\n",
      "19/19 [==============================] - 0s 4ms/step - loss: 8.2157e-04 - val_loss: 0.0032\n",
      "Epoch 22/100\n",
      "19/19 [==============================] - 0s 4ms/step - loss: 8.1086e-04 - val_loss: 0.0032\n",
      "Epoch 23/100\n",
      "19/19 [==============================] - 0s 4ms/step - loss: 8.0162e-04 - val_loss: 0.0032\n",
      "Epoch 24/100\n",
      "19/19 [==============================] - 0s 4ms/step - loss: 7.9205e-04 - val_loss: 0.0031\n",
      "Epoch 25/100\n",
      "19/19 [==============================] - 0s 4ms/step - loss: 7.8513e-04 - val_loss: 0.0031\n",
      "Epoch 26/100\n",
      "19/19 [==============================] - 0s 4ms/step - loss: 7.7682e-04 - val_loss: 0.0031\n",
      "Epoch 27/100\n",
      "19/19 [==============================] - 0s 6ms/step - loss: 7.7095e-04 - val_loss: 0.0031\n",
      "Epoch 28/100\n",
      "19/19 [==============================] - 0s 4ms/step - loss: 7.6472e-04 - val_loss: 0.0030\n",
      "Epoch 29/100\n",
      "19/19 [==============================] - 0s 5ms/step - loss: 7.5856e-04 - val_loss: 0.0030\n",
      "Epoch 30/100\n",
      "19/19 [==============================] - 0s 4ms/step - loss: 7.5486e-04 - val_loss: 0.0030\n",
      "Epoch 31/100\n",
      "19/19 [==============================] - 0s 4ms/step - loss: 7.4818e-04 - val_loss: 0.0030\n",
      "Epoch 32/100\n",
      "19/19 [==============================] - 0s 4ms/step - loss: 7.4598e-04 - val_loss: 0.0030\n",
      "Epoch 33/100\n",
      "19/19 [==============================] - 0s 4ms/step - loss: 7.4021e-04 - val_loss: 0.0029\n",
      "Epoch 34/100\n",
      "19/19 [==============================] - 0s 5ms/step - loss: 7.3728e-04 - val_loss: 0.0029\n",
      "Epoch 35/100\n",
      "19/19 [==============================] - 0s 4ms/step - loss: 7.3433e-04 - val_loss: 0.0029\n",
      "Epoch 36/100\n",
      "19/19 [==============================] - 0s 5ms/step - loss: 7.2915e-04 - val_loss: 0.0029\n",
      "Epoch 37/100\n",
      "19/19 [==============================] - 0s 6ms/step - loss: 7.2916e-04 - val_loss: 0.0029\n",
      "Epoch 38/100\n",
      "19/19 [==============================] - 0s 6ms/step - loss: 7.2265e-04 - val_loss: 0.0029\n",
      "Epoch 39/100\n",
      "19/19 [==============================] - 0s 4ms/step - loss: 7.2340e-04 - val_loss: 0.0028\n",
      "Epoch 40/100\n",
      "19/19 [==============================] - 0s 4ms/step - loss: 7.1807e-04 - val_loss: 0.0028\n",
      "Epoch 41/100\n",
      "19/19 [==============================] - 0s 4ms/step - loss: 7.1716e-04 - val_loss: 0.0028\n",
      "Epoch 42/100\n",
      "19/19 [==============================] - 0s 3ms/step - loss: 7.1453e-04 - val_loss: 0.0028\n",
      "Epoch 43/100\n",
      "19/19 [==============================] - 0s 3ms/step - loss: 7.1144e-04 - val_loss: 0.0028\n",
      "Epoch 44/100\n",
      "19/19 [==============================] - 0s 4ms/step - loss: 7.1096e-04 - val_loss: 0.0028\n",
      "Epoch 45/100\n",
      "19/19 [==============================] - 0s 3ms/step - loss: 7.0674e-04 - val_loss: 0.0028\n",
      "Epoch 46/100\n",
      "19/19 [==============================] - 0s 4ms/step - loss: 7.0720e-04 - val_loss: 0.0027\n",
      "Epoch 47/100\n",
      "19/19 [==============================] - 0s 3ms/step - loss: 7.0275e-04 - val_loss: 0.0027\n",
      "Epoch 48/100\n",
      "19/19 [==============================] - 0s 3ms/step - loss: 7.0371e-04 - val_loss: 0.0027\n",
      "Epoch 49/100\n",
      "19/19 [==============================] - 0s 3ms/step - loss: 6.9901e-04 - val_loss: 0.0027\n",
      "Epoch 50/100\n",
      "19/19 [==============================] - 0s 3ms/step - loss: 7.0085e-04 - val_loss: 0.0027\n",
      "Epoch 51/100\n",
      "19/19 [==============================] - 0s 3ms/step - loss: 6.9531e-04 - val_loss: 0.0027\n",
      "Epoch 52/100\n",
      "19/19 [==============================] - 0s 3ms/step - loss: 6.9886e-04 - val_loss: 0.0027\n",
      "Epoch 53/100\n",
      "19/19 [==============================] - 0s 4ms/step - loss: 6.9149e-04 - val_loss: 0.0026\n",
      "Epoch 54/100\n",
      "19/19 [==============================] - 0s 3ms/step - loss: 6.9813e-04 - val_loss: 0.0026\n",
      "Epoch 55/100\n",
      "19/19 [==============================] - 0s 3ms/step - loss: 6.8723e-04 - val_loss: 0.0026\n",
      "Epoch 56/100\n",
      "19/19 [==============================] - 0s 3ms/step - loss: 6.9952e-04 - val_loss: 0.0026\n",
      "Epoch 57/100\n",
      "19/19 [==============================] - 0s 3ms/step - loss: 6.8188e-04 - val_loss: 0.0026\n",
      "Epoch 58/100\n",
      "19/19 [==============================] - 0s 3ms/step - loss: 7.0494e-04 - val_loss: 0.0026\n",
      "Epoch 59/100\n",
      "19/19 [==============================] - 0s 3ms/step - loss: 6.7449e-04 - val_loss: 0.0026\n",
      "Epoch 60/100\n",
      "19/19 [==============================] - 0s 3ms/step - loss: 7.1894e-04 - val_loss: 0.0025\n",
      "Epoch 61/100\n",
      "19/19 [==============================] - 0s 3ms/step - loss: 6.6452e-04 - val_loss: 0.0026\n",
      "Epoch 62/100\n",
      "19/19 [==============================] - 0s 3ms/step - loss: 7.5383e-04 - val_loss: 0.0025\n",
      "Epoch 63/100\n",
      "19/19 [==============================] - 0s 3ms/step - loss: 6.5692e-04 - val_loss: 0.0027\n",
      "Epoch 64/100\n",
      "19/19 [==============================] - 0s 3ms/step - loss: 8.4721e-04 - val_loss: 0.0025\n",
      "Epoch 65/100\n",
      "19/19 [==============================] - 0s 3ms/step - loss: 6.8645e-04 - val_loss: 0.0029\n",
      "Epoch 66/100\n",
      "19/19 [==============================] - 0s 3ms/step - loss: 0.0011 - val_loss: 0.0028\n",
      "Epoch 67/100\n",
      "19/19 [==============================] - 0s 3ms/step - loss: 9.2025e-04 - val_loss: 0.0038\n",
      "Epoch 68/100\n",
      "19/19 [==============================] - 0s 3ms/step - loss: 0.0020 - val_loss: 0.0045\n",
      "Epoch 69/100\n",
      "19/19 [==============================] - 0s 3ms/step - loss: 0.0020 - val_loss: 0.0061\n",
      "Epoch 70/100\n",
      "19/19 [==============================] - 0s 4ms/step - loss: 0.0049 - val_loss: 0.0106\n",
      "Epoch 71/100\n",
      "19/19 [==============================] - 0s 3ms/step - loss: 0.0057 - val_loss: 0.0080\n",
      "Epoch 72/100\n",
      "19/19 [==============================] - 0s 3ms/step - loss: 0.0107 - val_loss: 0.0181\n",
      "Epoch 73/100\n",
      "19/19 [==============================] - 0s 3ms/step - loss: 0.0120 - val_loss: 0.0038\n",
      "Epoch 74/100\n",
      "19/19 [==============================] - 0s 3ms/step - loss: 0.0117 - val_loss: 0.0047\n",
      "Epoch 75/100\n",
      "19/19 [==============================] - 0s 3ms/step - loss: 0.0089 - val_loss: 0.0046\n",
      "Epoch 76/100\n",
      "19/19 [==============================] - 0s 3ms/step - loss: 0.0061 - val_loss: 0.0088\n",
      "Epoch 77/100\n",
      "19/19 [==============================] - 0s 3ms/step - loss: 0.0083 - val_loss: 0.0164\n",
      "Epoch 78/100\n",
      "19/19 [==============================] - 0s 3ms/step - loss: 0.0122 - val_loss: 0.0041\n",
      "Epoch 79/100\n",
      "19/19 [==============================] - 0s 3ms/step - loss: 0.0161 - val_loss: 0.0026\n",
      "Epoch 80/100\n",
      "19/19 [==============================] - 0s 3ms/step - loss: 0.0026 - val_loss: 0.0038\n",
      "Epoch 81/100\n",
      "19/19 [==============================] - 0s 3ms/step - loss: 0.0038 - val_loss: 0.0024\n",
      "Epoch 82/100\n",
      "19/19 [==============================] - 0s 3ms/step - loss: 0.0031 - val_loss: 0.0033\n",
      "Epoch 83/100\n",
      "19/19 [==============================] - 0s 3ms/step - loss: 0.0028 - val_loss: 0.0039\n",
      "Epoch 84/100\n",
      "19/19 [==============================] - 0s 3ms/step - loss: 0.0045 - val_loss: 0.0034\n",
      "Epoch 85/100\n",
      "19/19 [==============================] - 0s 3ms/step - loss: 0.0071 - val_loss: 0.0038\n",
      "Epoch 86/100\n",
      "19/19 [==============================] - 0s 3ms/step - loss: 0.0043 - val_loss: 0.0025\n",
      "Epoch 87/100\n",
      "19/19 [==============================] - 0s 4ms/step - loss: 0.0034 - val_loss: 0.0023\n",
      "Epoch 88/100\n",
      "19/19 [==============================] - 0s 3ms/step - loss: 0.0018 - val_loss: 0.0025\n",
      "Epoch 89/100\n",
      "19/19 [==============================] - 0s 3ms/step - loss: 0.0025 - val_loss: 0.0027\n",
      "Epoch 90/100\n",
      "19/19 [==============================] - 0s 3ms/step - loss: 0.0038 - val_loss: 0.0031\n",
      "Epoch 91/100\n",
      "19/19 [==============================] - 0s 3ms/step - loss: 0.0028 - val_loss: 0.0025\n",
      "Epoch 92/100\n",
      "19/19 [==============================] - 0s 3ms/step - loss: 0.0025 - val_loss: 0.0024\n",
      "Epoch 93/100\n",
      "19/19 [==============================] - 0s 3ms/step - loss: 0.0011 - val_loss: 0.0022\n",
      "Epoch 94/100\n",
      "19/19 [==============================] - 0s 3ms/step - loss: 9.3980e-04 - val_loss: 0.0023\n",
      "Epoch 95/100\n",
      "19/19 [==============================] - 0s 3ms/step - loss: 0.0013 - val_loss: 0.0024\n",
      "Epoch 96/100\n",
      "19/19 [==============================] - 0s 4ms/step - loss: 0.0014 - val_loss: 0.0024\n",
      "Epoch 97/100\n",
      "19/19 [==============================] - 0s 3ms/step - loss: 0.0016 - val_loss: 0.0024\n",
      "Epoch 98/100\n",
      "19/19 [==============================] - 0s 3ms/step - loss: 0.0010 - val_loss: 0.0022\n",
      "Epoch 99/100\n",
      "19/19 [==============================] - 0s 3ms/step - loss: 8.5869e-04 - val_loss: 0.0022\n",
      "Epoch 100/100\n",
      "19/19 [==============================] - 0s 3ms/step - loss: 7.5800e-04 - val_loss: 0.0022\n",
      "Training gru model\n",
      "Epoch 1/100\n",
      "19/19 [==============================] - 2s 17ms/step - loss: 0.0387 - val_loss: 0.0102\n",
      "Epoch 2/100\n",
      "19/19 [==============================] - 0s 6ms/step - loss: 0.0476 - val_loss: 0.0063\n",
      "Epoch 3/100\n",
      "19/19 [==============================] - 0s 6ms/step - loss: 0.0220 - val_loss: 0.0033\n",
      "Epoch 4/100\n",
      "19/19 [==============================] - 0s 7ms/step - loss: 0.0175 - val_loss: 0.0030\n",
      "Epoch 5/100\n",
      "19/19 [==============================] - 0s 6ms/step - loss: 0.0075 - val_loss: 0.0029\n",
      "Epoch 6/100\n",
      "19/19 [==============================] - 0s 6ms/step - loss: 0.0050 - val_loss: 0.0029\n",
      "Epoch 7/100\n",
      "19/19 [==============================] - 0s 6ms/step - loss: 0.0035 - val_loss: 0.0028\n",
      "Epoch 8/100\n",
      "19/19 [==============================] - 0s 6ms/step - loss: 0.0025 - val_loss: 0.0029\n",
      "Epoch 9/100\n",
      "19/19 [==============================] - 0s 6ms/step - loss: 0.0019 - val_loss: 0.0028\n",
      "Epoch 10/100\n",
      "19/19 [==============================] - 0s 6ms/step - loss: 0.0014 - val_loss: 0.0029\n",
      "Epoch 11/100\n",
      "19/19 [==============================] - 0s 11ms/step - loss: 0.0011 - val_loss: 0.0027\n",
      "Epoch 12/100\n",
      "19/19 [==============================] - 0s 8ms/step - loss: 8.8758e-04 - val_loss: 0.0028\n",
      "Epoch 13/100\n",
      "19/19 [==============================] - 0s 7ms/step - loss: 7.6869e-04 - val_loss: 0.0026\n",
      "Epoch 14/100\n",
      "19/19 [==============================] - 0s 6ms/step - loss: 6.7588e-04 - val_loss: 0.0026\n",
      "Epoch 15/100\n",
      "19/19 [==============================] - 0s 6ms/step - loss: 6.3504e-04 - val_loss: 0.0026\n",
      "Epoch 16/100\n",
      "19/19 [==============================] - 0s 6ms/step - loss: 6.2099e-04 - val_loss: 0.0025\n",
      "Epoch 17/100\n",
      "19/19 [==============================] - 0s 7ms/step - loss: 6.0857e-04 - val_loss: 0.0025\n",
      "Epoch 18/100\n",
      "19/19 [==============================] - 0s 7ms/step - loss: 6.0452e-04 - val_loss: 0.0025\n",
      "Epoch 19/100\n",
      "19/19 [==============================] - 0s 6ms/step - loss: 5.9812e-04 - val_loss: 0.0025\n",
      "Epoch 20/100\n",
      "19/19 [==============================] - 0s 6ms/step - loss: 5.8979e-04 - val_loss: 0.0024\n",
      "Epoch 21/100\n",
      "19/19 [==============================] - 0s 5ms/step - loss: 5.8647e-04 - val_loss: 0.0024\n",
      "Epoch 22/100\n",
      "19/19 [==============================] - 0s 5ms/step - loss: 5.8112e-04 - val_loss: 0.0024\n",
      "Epoch 23/100\n",
      "19/19 [==============================] - 0s 5ms/step - loss: 5.7465e-04 - val_loss: 0.0024\n",
      "Epoch 24/100\n",
      "19/19 [==============================] - 0s 5ms/step - loss: 5.7226e-04 - val_loss: 0.0024\n",
      "Epoch 25/100\n",
      "19/19 [==============================] - 0s 5ms/step - loss: 5.6763e-04 - val_loss: 0.0023\n",
      "Epoch 26/100\n",
      "19/19 [==============================] - 0s 5ms/step - loss: 5.6212e-04 - val_loss: 0.0023\n",
      "Epoch 27/100\n",
      "19/19 [==============================] - 0s 5ms/step - loss: 5.6084e-04 - val_loss: 0.0023\n",
      "Epoch 28/100\n",
      "19/19 [==============================] - 0s 5ms/step - loss: 5.5682e-04 - val_loss: 0.0023\n",
      "Epoch 29/100\n",
      "19/19 [==============================] - 0s 5ms/step - loss: 5.5161e-04 - val_loss: 0.0023\n",
      "Epoch 30/100\n",
      "19/19 [==============================] - 0s 6ms/step - loss: 5.5165e-04 - val_loss: 0.0023\n",
      "Epoch 31/100\n",
      "19/19 [==============================] - 0s 5ms/step - loss: 5.4831e-04 - val_loss: 0.0023\n",
      "Epoch 32/100\n",
      "19/19 [==============================] - 0s 5ms/step - loss: 5.4265e-04 - val_loss: 0.0023\n",
      "Epoch 33/100\n",
      "19/19 [==============================] - 0s 5ms/step - loss: 5.4423e-04 - val_loss: 0.0023\n",
      "Epoch 34/100\n",
      "19/19 [==============================] - 0s 5ms/step - loss: 5.4212e-04 - val_loss: 0.0022\n",
      "Epoch 35/100\n",
      "19/19 [==============================] - 0s 5ms/step - loss: 5.3490e-04 - val_loss: 0.0022\n",
      "Epoch 36/100\n",
      "19/19 [==============================] - 0s 5ms/step - loss: 5.3812e-04 - val_loss: 0.0022\n",
      "Epoch 37/100\n",
      "19/19 [==============================] - 0s 5ms/step - loss: 5.3854e-04 - val_loss: 0.0022\n",
      "Epoch 38/100\n",
      "19/19 [==============================] - 0s 5ms/step - loss: 5.2821e-04 - val_loss: 0.0022\n",
      "Epoch 39/100\n",
      "19/19 [==============================] - 0s 5ms/step - loss: 5.3268e-04 - val_loss: 0.0022\n",
      "Epoch 40/100\n",
      "19/19 [==============================] - 0s 5ms/step - loss: 5.3750e-04 - val_loss: 0.0022\n",
      "Epoch 41/100\n",
      "19/19 [==============================] - 0s 6ms/step - loss: 5.2292e-04 - val_loss: 0.0022\n",
      "Epoch 42/100\n",
      "19/19 [==============================] - 0s 5ms/step - loss: 5.2727e-04 - val_loss: 0.0022\n",
      "Epoch 43/100\n",
      "19/19 [==============================] - 0s 5ms/step - loss: 5.3705e-04 - val_loss: 0.0022\n",
      "Epoch 44/100\n",
      "19/19 [==============================] - 0s 5ms/step - loss: 5.2039e-04 - val_loss: 0.0022\n",
      "Epoch 45/100\n",
      "19/19 [==============================] - 0s 5ms/step - loss: 5.2132e-04 - val_loss: 0.0022\n",
      "Epoch 46/100\n",
      "19/19 [==============================] - 0s 5ms/step - loss: 5.3338e-04 - val_loss: 0.0022\n",
      "Epoch 47/100\n",
      "19/19 [==============================] - 0s 5ms/step - loss: 5.2209e-04 - val_loss: 0.0022\n",
      "Epoch 48/100\n",
      "19/19 [==============================] - 0s 5ms/step - loss: 5.1490e-04 - val_loss: 0.0022\n",
      "Epoch 49/100\n",
      "19/19 [==============================] - 0s 5ms/step - loss: 5.2556e-04 - val_loss: 0.0022\n",
      "Epoch 50/100\n",
      "19/19 [==============================] - 0s 5ms/step - loss: 5.2517e-04 - val_loss: 0.0022\n",
      "Epoch 51/100\n",
      "19/19 [==============================] - 0s 5ms/step - loss: 5.1123e-04 - val_loss: 0.0021\n",
      "Epoch 52/100\n",
      "19/19 [==============================] - 0s 5ms/step - loss: 5.1793e-04 - val_loss: 0.0022\n",
      "Epoch 53/100\n",
      "19/19 [==============================] - 0s 5ms/step - loss: 5.2396e-04 - val_loss: 0.0022\n",
      "Epoch 54/100\n",
      "19/19 [==============================] - 0s 5ms/step - loss: 5.1369e-04 - val_loss: 0.0021\n",
      "Epoch 55/100\n",
      "19/19 [==============================] - 0s 5ms/step - loss: 5.1487e-04 - val_loss: 0.0021\n",
      "Epoch 56/100\n",
      "19/19 [==============================] - 0s 5ms/step - loss: 5.2033e-04 - val_loss: 0.0021\n",
      "Epoch 57/100\n",
      "19/19 [==============================] - 0s 5ms/step - loss: 5.1805e-04 - val_loss: 0.0021\n",
      "Epoch 58/100\n",
      "19/19 [==============================] - 0s 5ms/step - loss: 5.1744e-04 - val_loss: 0.0021\n",
      "Epoch 59/100\n",
      "19/19 [==============================] - 0s 5ms/step - loss: 5.2019e-04 - val_loss: 0.0021\n",
      "Epoch 60/100\n",
      "19/19 [==============================] - 0s 5ms/step - loss: 5.2159e-04 - val_loss: 0.0021\n",
      "Epoch 61/100\n",
      "19/19 [==============================] - 0s 6ms/step - loss: 5.2287e-04 - val_loss: 0.0021\n",
      "Epoch 62/100\n",
      "19/19 [==============================] - 0s 5ms/step - loss: 5.2511e-04 - val_loss: 0.0021\n",
      "Epoch 63/100\n",
      "19/19 [==============================] - 0s 5ms/step - loss: 5.2770e-04 - val_loss: 0.0021\n",
      "Epoch 64/100\n",
      "19/19 [==============================] - 0s 5ms/step - loss: 5.3075e-04 - val_loss: 0.0022\n",
      "Epoch 65/100\n",
      "19/19 [==============================] - 0s 5ms/step - loss: 5.3436e-04 - val_loss: 0.0022\n",
      "Epoch 66/100\n",
      "19/19 [==============================] - 0s 5ms/step - loss: 5.3858e-04 - val_loss: 0.0022\n",
      "Epoch 67/100\n",
      "19/19 [==============================] - 0s 5ms/step - loss: 5.4352e-04 - val_loss: 0.0022\n",
      "Epoch 68/100\n",
      "19/19 [==============================] - 0s 5ms/step - loss: 5.4926e-04 - val_loss: 0.0022\n",
      "Epoch 69/100\n",
      "19/19 [==============================] - 0s 5ms/step - loss: 5.5588e-04 - val_loss: 0.0022\n",
      "Epoch 70/100\n",
      "19/19 [==============================] - 0s 9ms/step - loss: 5.6348e-04 - val_loss: 0.0022\n",
      "Epoch 71/100\n",
      "19/19 [==============================] - 0s 8ms/step - loss: 5.7214e-04 - val_loss: 0.0022\n",
      "Epoch 72/100\n",
      "19/19 [==============================] - 0s 6ms/step - loss: 5.8192e-04 - val_loss: 0.0022\n",
      "Epoch 73/100\n",
      "19/19 [==============================] - 0s 5ms/step - loss: 5.9286e-04 - val_loss: 0.0022\n",
      "Epoch 74/100\n",
      "19/19 [==============================] - 0s 5ms/step - loss: 6.0492e-04 - val_loss: 0.0023\n",
      "Epoch 75/100\n",
      "19/19 [==============================] - 0s 7ms/step - loss: 6.1802e-04 - val_loss: 0.0023\n",
      "Epoch 76/100\n",
      "19/19 [==============================] - 0s 5ms/step - loss: 6.3197e-04 - val_loss: 0.0023\n",
      "Epoch 77/100\n",
      "19/19 [==============================] - 0s 5ms/step - loss: 6.4645e-04 - val_loss: 0.0023\n",
      "Epoch 78/100\n",
      "19/19 [==============================] - 0s 5ms/step - loss: 6.6103e-04 - val_loss: 0.0024\n",
      "Epoch 79/100\n",
      "19/19 [==============================] - 0s 5ms/step - loss: 6.7516e-04 - val_loss: 0.0024\n",
      "Epoch 80/100\n",
      "19/19 [==============================] - 0s 6ms/step - loss: 6.8818e-04 - val_loss: 0.0024\n",
      "Epoch 81/100\n",
      "19/19 [==============================] - 0s 5ms/step - loss: 6.9946e-04 - val_loss: 0.0024\n",
      "Epoch 82/100\n",
      "19/19 [==============================] - 0s 5ms/step - loss: 7.0842e-04 - val_loss: 0.0024\n",
      "Epoch 83/100\n",
      "19/19 [==============================] - 0s 5ms/step - loss: 7.1472e-04 - val_loss: 0.0024\n",
      "Epoch 84/100\n",
      "19/19 [==============================] - 0s 5ms/step - loss: 7.1826e-04 - val_loss: 0.0024\n",
      "Epoch 85/100\n",
      "19/19 [==============================] - 0s 5ms/step - loss: 7.1927e-04 - val_loss: 0.0024\n",
      "Epoch 86/100\n",
      "19/19 [==============================] - 0s 5ms/step - loss: 7.1824e-04 - val_loss: 0.0024\n",
      "Epoch 87/100\n",
      "19/19 [==============================] - 0s 5ms/step - loss: 7.1585e-04 - val_loss: 0.0024\n",
      "Epoch 88/100\n",
      "19/19 [==============================] - 0s 5ms/step - loss: 7.1281e-04 - val_loss: 0.0024\n",
      "Epoch 89/100\n",
      "19/19 [==============================] - 0s 5ms/step - loss: 7.0976e-04 - val_loss: 0.0024\n",
      "Epoch 90/100\n",
      "19/19 [==============================] - 0s 5ms/step - loss: 7.0717e-04 - val_loss: 0.0024\n",
      "Epoch 91/100\n",
      "19/19 [==============================] - 0s 5ms/step - loss: 7.0530e-04 - val_loss: 0.0024\n",
      "Epoch 92/100\n",
      "19/19 [==============================] - 0s 5ms/step - loss: 7.0418e-04 - val_loss: 0.0024\n",
      "Epoch 93/100\n",
      "19/19 [==============================] - 0s 5ms/step - loss: 7.0371e-04 - val_loss: 0.0024\n",
      "Epoch 94/100\n",
      "19/19 [==============================] - 0s 5ms/step - loss: 7.0364e-04 - val_loss: 0.0024\n",
      "Epoch 95/100\n",
      "19/19 [==============================] - 0s 5ms/step - loss: 7.0369e-04 - val_loss: 0.0024\n",
      "Epoch 96/100\n",
      "19/19 [==============================] - 0s 5ms/step - loss: 7.0355e-04 - val_loss: 0.0024\n",
      "Epoch 97/100\n",
      "19/19 [==============================] - 0s 5ms/step - loss: 7.0301e-04 - val_loss: 0.0024\n",
      "Epoch 98/100\n",
      "19/19 [==============================] - 0s 5ms/step - loss: 7.0194e-04 - val_loss: 0.0024\n",
      "Epoch 99/100\n",
      "19/19 [==============================] - 0s 6ms/step - loss: 7.0033e-04 - val_loss: 0.0024\n",
      "Epoch 100/100\n",
      "19/19 [==============================] - 0s 7ms/step - loss: 6.9824e-04 - val_loss: 0.0024\n",
      "Training lstm model\n",
      "Epoch 1/100\n",
      "19/19 [==============================] - 1s 19ms/step - loss: 0.1551 - val_loss: 0.1913\n",
      "Epoch 2/100\n",
      "19/19 [==============================] - 0s 6ms/step - loss: 0.0329 - val_loss: 0.0097\n",
      "Epoch 3/100\n",
      "19/19 [==============================] - 0s 6ms/step - loss: 0.0145 - val_loss: 0.0088\n",
      "Epoch 4/100\n",
      "19/19 [==============================] - 0s 6ms/step - loss: 0.0028 - val_loss: 0.0076\n",
      "Epoch 5/100\n",
      "19/19 [==============================] - 0s 6ms/step - loss: 0.0020 - val_loss: 0.0065\n",
      "Epoch 6/100\n",
      "19/19 [==============================] - 0s 6ms/step - loss: 0.0020 - val_loss: 0.0064\n",
      "Epoch 7/100\n",
      "19/19 [==============================] - 0s 6ms/step - loss: 0.0016 - val_loss: 0.0062\n",
      "Epoch 8/100\n",
      "19/19 [==============================] - 0s 7ms/step - loss: 0.0017 - val_loss: 0.0060\n",
      "Epoch 9/100\n",
      "19/19 [==============================] - 0s 6ms/step - loss: 0.0015 - val_loss: 0.0058\n",
      "Epoch 10/100\n",
      "19/19 [==============================] - 0s 6ms/step - loss: 0.0015 - val_loss: 0.0057\n",
      "Epoch 11/100\n",
      "19/19 [==============================] - 0s 6ms/step - loss: 0.0014 - val_loss: 0.0056\n",
      "Epoch 12/100\n",
      "19/19 [==============================] - 0s 6ms/step - loss: 0.0014 - val_loss: 0.0055\n",
      "Epoch 13/100\n",
      "19/19 [==============================] - 0s 6ms/step - loss: 0.0013 - val_loss: 0.0054\n",
      "Epoch 14/100\n",
      "19/19 [==============================] - 0s 6ms/step - loss: 0.0013 - val_loss: 0.0053\n",
      "Epoch 15/100\n",
      "19/19 [==============================] - 0s 6ms/step - loss: 0.0013 - val_loss: 0.0052\n",
      "Epoch 16/100\n",
      "19/19 [==============================] - 0s 5ms/step - loss: 0.0013 - val_loss: 0.0052\n",
      "Epoch 17/100\n",
      "19/19 [==============================] - 0s 6ms/step - loss: 0.0013 - val_loss: 0.0051\n",
      "Epoch 18/100\n",
      "19/19 [==============================] - 0s 5ms/step - loss: 0.0012 - val_loss: 0.0050\n",
      "Epoch 19/100\n",
      "19/19 [==============================] - 0s 5ms/step - loss: 0.0012 - val_loss: 0.0050\n",
      "Epoch 20/100\n",
      "19/19 [==============================] - 0s 5ms/step - loss: 0.0012 - val_loss: 0.0049\n",
      "Epoch 21/100\n",
      "19/19 [==============================] - 0s 5ms/step - loss: 0.0013 - val_loss: 0.0050\n",
      "Epoch 22/100\n",
      "19/19 [==============================] - 0s 5ms/step - loss: 0.0013 - val_loss: 0.0048\n",
      "Epoch 23/100\n",
      "19/19 [==============================] - 0s 5ms/step - loss: 0.0013 - val_loss: 0.0048\n",
      "Epoch 24/100\n",
      "19/19 [==============================] - 0s 5ms/step - loss: 0.0012 - val_loss: 0.0049\n",
      "Epoch 25/100\n",
      "19/19 [==============================] - 0s 6ms/step - loss: 0.0013 - val_loss: 0.0048\n",
      "Epoch 26/100\n",
      "19/19 [==============================] - 0s 5ms/step - loss: 0.0014 - val_loss: 0.0048\n",
      "Epoch 27/100\n",
      "19/19 [==============================] - 0s 5ms/step - loss: 0.0016 - val_loss: 0.0046\n",
      "Epoch 28/100\n",
      "19/19 [==============================] - 0s 5ms/step - loss: 0.0015 - val_loss: 0.0046\n",
      "Epoch 29/100\n",
      "19/19 [==============================] - 0s 5ms/step - loss: 0.0013 - val_loss: 0.0049\n",
      "Epoch 30/100\n",
      "19/19 [==============================] - 0s 5ms/step - loss: 0.0013 - val_loss: 0.0049\n",
      "Epoch 31/100\n",
      "19/19 [==============================] - 0s 5ms/step - loss: 0.0017 - val_loss: 0.0047\n",
      "Epoch 32/100\n",
      "19/19 [==============================] - 0s 5ms/step - loss: 0.0019 - val_loss: 0.0043\n",
      "Epoch 33/100\n",
      "19/19 [==============================] - 0s 5ms/step - loss: 0.0017 - val_loss: 0.0045\n",
      "Epoch 34/100\n",
      "19/19 [==============================] - 0s 5ms/step - loss: 0.0014 - val_loss: 0.0050\n",
      "Epoch 35/100\n",
      "19/19 [==============================] - 0s 5ms/step - loss: 0.0016 - val_loss: 0.0051\n",
      "Epoch 36/100\n",
      "19/19 [==============================] - 0s 5ms/step - loss: 0.0022 - val_loss: 0.0044\n",
      "Epoch 37/100\n",
      "19/19 [==============================] - 0s 5ms/step - loss: 0.0024 - val_loss: 0.0042\n",
      "Epoch 38/100\n",
      "19/19 [==============================] - 0s 6ms/step - loss: 0.0019 - val_loss: 0.0051\n",
      "Epoch 39/100\n",
      "19/19 [==============================] - 0s 5ms/step - loss: 0.0019 - val_loss: 0.0054\n",
      "Epoch 40/100\n",
      "19/19 [==============================] - 0s 5ms/step - loss: 0.0029 - val_loss: 0.0053\n",
      "Epoch 41/100\n",
      "19/19 [==============================] - 0s 5ms/step - loss: 0.0036 - val_loss: 0.0041\n",
      "Epoch 42/100\n",
      "19/19 [==============================] - 0s 6ms/step - loss: 0.0034 - val_loss: 0.0048\n",
      "Epoch 43/100\n",
      "19/19 [==============================] - 0s 6ms/step - loss: 0.0032 - val_loss: 0.0090\n",
      "Epoch 44/100\n",
      "19/19 [==============================] - 0s 5ms/step - loss: 0.0055 - val_loss: 0.0047\n",
      "Epoch 45/100\n",
      "19/19 [==============================] - 0s 6ms/step - loss: 0.0083 - val_loss: 0.0047\n",
      "Epoch 46/100\n",
      "19/19 [==============================] - 0s 6ms/step - loss: 0.0053 - val_loss: 0.0038\n",
      "Epoch 47/100\n",
      "19/19 [==============================] - 0s 9ms/step - loss: 0.0043 - val_loss: 0.0037\n",
      "Epoch 48/100\n",
      "19/19 [==============================] - 0s 6ms/step - loss: 0.0048 - val_loss: 0.0061\n",
      "Epoch 49/100\n",
      "19/19 [==============================] - 0s 6ms/step - loss: 0.0073 - val_loss: 0.0042\n",
      "Epoch 50/100\n",
      "19/19 [==============================] - 0s 5ms/step - loss: 0.0082 - val_loss: 0.0038\n",
      "Epoch 51/100\n",
      "19/19 [==============================] - 0s 5ms/step - loss: 0.0023 - val_loss: 0.0036\n",
      "Epoch 52/100\n",
      "19/19 [==============================] - 0s 6ms/step - loss: 0.0014 - val_loss: 0.0034\n",
      "Epoch 53/100\n",
      "19/19 [==============================] - 0s 6ms/step - loss: 9.0010e-04 - val_loss: 0.0034\n",
      "Epoch 54/100\n",
      "19/19 [==============================] - 0s 6ms/step - loss: 8.0761e-04 - val_loss: 0.0033\n",
      "Epoch 55/100\n",
      "19/19 [==============================] - 0s 5ms/step - loss: 8.2298e-04 - val_loss: 0.0033\n",
      "Epoch 56/100\n",
      "19/19 [==============================] - 0s 5ms/step - loss: 7.9846e-04 - val_loss: 0.0033\n",
      "Epoch 57/100\n",
      "19/19 [==============================] - 0s 5ms/step - loss: 8.1173e-04 - val_loss: 0.0033\n",
      "Epoch 58/100\n",
      "19/19 [==============================] - 0s 5ms/step - loss: 7.8947e-04 - val_loss: 0.0033\n",
      "Epoch 59/100\n",
      "19/19 [==============================] - 0s 5ms/step - loss: 7.8787e-04 - val_loss: 0.0032\n",
      "Epoch 60/100\n",
      "19/19 [==============================] - 0s 5ms/step - loss: 7.7895e-04 - val_loss: 0.0032\n",
      "Epoch 61/100\n",
      "19/19 [==============================] - 0s 5ms/step - loss: 7.7172e-04 - val_loss: 0.0032\n",
      "Epoch 62/100\n",
      "19/19 [==============================] - 0s 5ms/step - loss: 7.7135e-04 - val_loss: 0.0032\n",
      "Epoch 63/100\n",
      "19/19 [==============================] - 0s 5ms/step - loss: 7.6269e-04 - val_loss: 0.0032\n",
      "Epoch 64/100\n",
      "19/19 [==============================] - 0s 6ms/step - loss: 7.6210e-04 - val_loss: 0.0031\n",
      "Epoch 65/100\n",
      "19/19 [==============================] - 0s 5ms/step - loss: 7.5504e-04 - val_loss: 0.0031\n",
      "Epoch 66/100\n",
      "19/19 [==============================] - 0s 5ms/step - loss: 7.5075e-04 - val_loss: 0.0031\n",
      "Epoch 67/100\n",
      "19/19 [==============================] - 0s 5ms/step - loss: 7.4718e-04 - val_loss: 0.0031\n",
      "Epoch 68/100\n",
      "19/19 [==============================] - 0s 5ms/step - loss: 7.4050e-04 - val_loss: 0.0031\n",
      "Epoch 69/100\n",
      "19/19 [==============================] - 0s 5ms/step - loss: 7.3853e-04 - val_loss: 0.0030\n",
      "Epoch 70/100\n",
      "19/19 [==============================] - 0s 5ms/step - loss: 7.3197e-04 - val_loss: 0.0030\n",
      "Epoch 71/100\n",
      "19/19 [==============================] - 0s 5ms/step - loss: 7.2815e-04 - val_loss: 0.0030\n",
      "Epoch 72/100\n",
      "19/19 [==============================] - 0s 5ms/step - loss: 7.2382e-04 - val_loss: 0.0030\n",
      "Epoch 73/100\n",
      "19/19 [==============================] - 0s 5ms/step - loss: 7.1754e-04 - val_loss: 0.0030\n",
      "Epoch 74/100\n",
      "19/19 [==============================] - 0s 6ms/step - loss: 7.1522e-04 - val_loss: 0.0029\n",
      "Epoch 75/100\n",
      "19/19 [==============================] - 0s 5ms/step - loss: 7.0859e-04 - val_loss: 0.0029\n",
      "Epoch 76/100\n",
      "19/19 [==============================] - 0s 5ms/step - loss: 7.0491e-04 - val_loss: 0.0029\n",
      "Epoch 77/100\n",
      "19/19 [==============================] - 0s 5ms/step - loss: 7.0044e-04 - val_loss: 0.0029\n",
      "Epoch 78/100\n",
      "19/19 [==============================] - 0s 5ms/step - loss: 6.9381e-04 - val_loss: 0.0029\n",
      "Epoch 79/100\n",
      "19/19 [==============================] - 0s 5ms/step - loss: 6.9203e-04 - val_loss: 0.00284e-0\n",
      "Epoch 80/100\n",
      "19/19 [==============================] - 0s 5ms/step - loss: 6.8501e-04 - val_loss: 0.0028\n",
      "Epoch 81/100\n",
      "19/19 [==============================] - 0s 5ms/step - loss: 6.8138e-04 - val_loss: 0.0028\n",
      "Epoch 82/100\n",
      "19/19 [==============================] - 0s 5ms/step - loss: 6.7738e-04 - val_loss: 0.0028\n",
      "Epoch 83/100\n",
      "19/19 [==============================] - 0s 6ms/step - loss: 6.6953e-04 - val_loss: 0.0028\n",
      "Epoch 84/100\n",
      "19/19 [==============================] - 0s 7ms/step - loss: 6.6969e-04 - val_loss: 0.0027\n",
      "Epoch 85/100\n",
      "19/19 [==============================] - 0s 5ms/step - loss: 6.6238e-04 - val_loss: 0.0027\n",
      "Epoch 86/100\n",
      "19/19 [==============================] - 0s 5ms/step - loss: 6.5813e-04 - val_loss: 0.0027\n",
      "Epoch 87/100\n",
      "19/19 [==============================] - 0s 5ms/step - loss: 6.5626e-04 - val_loss: 0.0027\n",
      "Epoch 88/100\n",
      "19/19 [==============================] - 0s 5ms/step - loss: 6.4604e-04 - val_loss: 0.0027\n",
      "Epoch 89/100\n",
      "19/19 [==============================] - 0s 5ms/step - loss: 6.5166e-04 - val_loss: 0.0026\n",
      "Epoch 90/100\n",
      "19/19 [==============================] - 0s 6ms/step - loss: 6.4637e-04 - val_loss: 0.0026\n",
      "Epoch 91/100\n",
      "19/19 [==============================] - 0s 5ms/step - loss: 6.3757e-04 - val_loss: 0.0026\n",
      "Epoch 92/100\n",
      "19/19 [==============================] - 0s 5ms/step - loss: 6.4373e-04 - val_loss: 0.0026\n",
      "Epoch 93/100\n",
      "19/19 [==============================] - 0s 8ms/step - loss: 6.3486e-04 - val_loss: 0.0026\n",
      "Epoch 94/100\n",
      "19/19 [==============================] - 0s 6ms/step - loss: 6.5527e-04 - val_loss: 0.0025\n",
      "Epoch 95/100\n",
      "19/19 [==============================] - 0s 6ms/step - loss: 6.6128e-04 - val_loss: 0.0025\n",
      "Epoch 96/100\n",
      "19/19 [==============================] - 0s 6ms/step - loss: 6.3194e-04 - val_loss: 0.0026\n",
      "Epoch 97/100\n",
      "19/19 [==============================] - 0s 6ms/step - loss: 6.7245e-04 - val_loss: 0.0027\n",
      "Epoch 98/100\n",
      "19/19 [==============================] - 0s 7ms/step - loss: 7.0779e-04 - val_loss: 0.0026\n",
      "Epoch 99/100\n",
      "19/19 [==============================] - 0s 7ms/step - loss: 7.5040e-04 - val_loss: 0.0024\n",
      "Epoch 100/100\n",
      "19/19 [==============================] - 0s 7ms/step - loss: 7.7520e-04 - val_loss: 0.0027\n",
      "Model: \"sequential\"\n",
      "_________________________________________________________________\n",
      " Layer (type)                Output Shape              Param #   \n",
      "=================================================================\n",
      " simple_rnn (SimpleRNN)      (None, 64)                4544      \n",
      "                                                                 \n",
      " dense (Dense)               (None, 1)                 65        \n",
      "                                                                 \n",
      "=================================================================\n",
      "Total params: 4,609\n",
      "Trainable params: 4,609\n",
      "Non-trainable params: 0\n",
      "_________________________________________________________________\n",
      "19/19 [==============================] - 0s 2ms/step\n",
      "5/5 [==============================] - 0s 2ms/step\n",
      "Model: \"sequential_1\"\n",
      "_________________________________________________________________\n",
      " Layer (type)                Output Shape              Param #   \n",
      "=================================================================\n",
      " gru (GRU)                   (None, 64)                13824     \n",
      "                                                                 \n",
      " dense_1 (Dense)             (None, 1)                 65        \n",
      "                                                                 \n",
      "=================================================================\n",
      "Total params: 13,889\n",
      "Trainable params: 13,889\n",
      "Non-trainable params: 0\n",
      "_________________________________________________________________\n",
      "19/19 [==============================] - 0s 3ms/step\n",
      "5/5 [==============================] - 0s 5ms/step\n",
      "Model: \"sequential_2\"\n",
      "_________________________________________________________________\n",
      " Layer (type)                Output Shape              Param #   \n",
      "=================================================================\n",
      " lstm (LSTM)                 (None, 64)                18176     \n",
      "                                                                 \n",
      " dense_2 (Dense)             (None, 1)                 65        \n",
      "                                                                 \n",
      "=================================================================\n",
      "Total params: 18,241\n",
      "Trainable params: 18,241\n",
      "Non-trainable params: 0\n",
      "_________________________________________________________________\n",
      "19/19 [==============================] - 0s 3ms/step\n",
      "5/5 [==============================] - 0s 3ms/step\n"
     ]
    }
   ],
   "source": [
    "# train models\n",
    "for key in params.keys():\n",
    "    tf.random.set_seed(0)\n",
    "    print('Training', key, 'model')\n",
    "    # params[key]['H'] = best\n",
    "   # model = params[key]['function'](params[key]['H'], params[key]['l1_reg'])\n",
    "    model = params[key]['function'](64, 0)\n",
    "    model.fit(x_train_full, y_train_full, epochs=max_epochs, \n",
    "                batch_size=batch_size, callbacks=[es, tb], shuffle=False, validation_data=(x_valid, y_valid))\n",
    "    params[key]['model'] = model\n",
    "\n",
    "\n",
    "# make predictions\n",
    "for key in params.keys():\n",
    "    model = params[key]['model']\n",
    "    model.summary()\n",
    "    \n",
    "    params[key]['pred_train'] = model.predict(x_train_full, verbose=1)\n",
    "    params[key]['MSE_train'] = mean_squared_error(y_train_full, params[key]['pred_train'])\n",
    "    \n",
    "    params[key]['pred_test'] = model.predict(x_test, verbose=1) \n",
    "    params[key]['MSE_test'] = mean_squared_error(y_test, params[key]['pred_test'])"
   ]
  },
  {
   "cell_type": "markdown",
   "metadata": {},
   "source": [
    "## Naive Forecasting Baseline"
   ]
  },
  {
   "cell_type": "code",
   "execution_count": 13,
   "metadata": {},
   "outputs": [
    {
     "name": "stdout",
     "output_type": "stream",
     "text": [
      "0.0024396166539145353\n"
     ]
    }
   ],
   "source": [
    "y_naive = naive_baseline(y_test)"
   ]
  },
  {
   "cell_type": "code",
   "execution_count": 25,
   "metadata": {},
   "outputs": [
    {
     "data": {
      "text/plain": [
       "numpy.ndarray"
      ]
     },
     "execution_count": 25,
     "metadata": {},
     "output_type": "execute_result"
    }
   ],
   "source": [
    "type(y_naive)"
   ]
  },
  {
   "cell_type": "code",
   "execution_count": 24,
   "metadata": {},
   "outputs": [
    {
     "data": {
      "text/plain": [
       "(140, 1)"
      ]
     },
     "execution_count": 24,
     "metadata": {},
     "output_type": "execute_result"
    }
   ],
   "source": [
    "y_naive.shape"
   ]
  },
  {
   "cell_type": "code",
   "execution_count": 23,
   "metadata": {},
   "outputs": [
    {
     "data": {
      "text/plain": [
       "(140, 1)"
      ]
     },
     "execution_count": 23,
     "metadata": {},
     "output_type": "execute_result"
    }
   ],
   "source": [
    "params[key]['pred_test'].shape"
   ]
  },
  {
   "cell_type": "markdown",
   "metadata": {},
   "source": [
    "## Plot Training Predictions (Multivariate)"
   ]
  },
  {
   "cell_type": "code",
   "execution_count": 21,
   "metadata": {},
   "outputs": [
    {
     "data": {
      "image/png": "[encoded data removed]",
      "text/plain": [
       "<Figure size 1080x576 with 1 Axes>"
      ]
     },
     "metadata": {
      "needs_background": "light"
     },
     "output_type": "display_data"
    }
   ],
   "source": [
    "max_pts = 10**4\n",
    "compare = params.keys()\n",
    "l, u = (None, None) # lower and upper indices of range to plot \n",
    "ds = max(1, len(y_train_full[l:u])//max_pts) # Downsampling ratio for under `max_pts`\n",
    "#                                         # per series.  Set `None` to disable. \n",
    "\n",
    "fig = plt.figure(figsize=(15,8))\n",
    "x_vals = y_train_timestamps[l:u:ds]\n",
    "for key in compare:\n",
    "    y_vals = params[key]['pred_train'][l:u:ds]\n",
    "    label = params[key]['label'] + ' (train MSE: %.2e)' % params[key]['MSE_train']\n",
    "    plt.plot(x_vals, y_vals, c=params[key]['color'], label=label, lw=1)\n",
    "plt.plot(x_vals, y_train_full[l:u:ds], c=\"black\", label=\"Observed\", lw=1)\n",
    "start, end = x_vals.min(), x_vals.max()\n",
    "xticks =  [start.date() + timedelta(days=(1+i)) for i in range(1 + (end - start).days)]\n",
    "xticks = xticks[::max(1, len(xticks)//30)]\n",
    "for t in xticks: plt.axvline(x=t, c='gray', linewidth=0.5, zorder=0)\n",
    "plt.xticks(xticks, rotation=70)\n",
    "plt.xlim(start, end)\n",
    "plt.ylabel('$\\hat{Y}$', rotation=0, fontsize=14)\n",
    "plt.legend(loc=\"best\", fontsize=12)\n",
    "plt.title(f'{dataset} {scale} Training Predictions', fontsize=16)\n",
    "plt.savefig(f'../data/figures/{scale}/{dataset}_{n_steps}_lag_multi_training_performance.png')"
   ]
  },
  {
   "cell_type": "markdown",
   "metadata": {},
   "source": [
    "## Plot Testing Predictions (Multivariate)"
   ]
  },
  {
   "cell_type": "code",
   "execution_count": 22,
   "metadata": {},
   "outputs": [
    {
     "data": {
      "image/png": "[encoded data removed]",
      "text/plain": [
       "<Figure size 1080x576 with 1 Axes>"
      ]
     },
     "metadata": {
      "needs_background": "light"
     },
     "output_type": "display_data"
    }
   ],
   "source": [
    "compare = params.keys() # e.g. ['rnn', 'alpharnn'] or ['lstm']\n",
    "# l, u = (None, None) # lower and upper indices of range to plot \n",
    "# ds = max(1, len(y_train_full[l:u])//max_pts) # Downsampling ratio for under `max_pts`\n",
    "#                                         # per series.  Set `None` to disable.\n",
    "fig = plt.figure(figsize=(15,8))\n",
    "x_vals = y_test_timestamps[l:u:ds]\n",
    "for key in compare:\n",
    "    y_vals = params[key]['pred_test'][l:u:ds]\n",
    "    label = params[key]['label'] + ' (test MSE: %.2e)' % params[key]['MSE_test']\n",
    "    plt.plot(x_vals, y_vals, c=params[key]['color'], label=label, lw=1)\n",
    "plt.plot(x_vals, y_test[l:u:ds], c=\"black\", label=\"Observed\", lw=1)\n",
    "start, end = x_vals.min(), x_vals.max()\n",
    "xticks =  [start.date() + timedelta(days=(1+i)) for i in range(1 + (end - start).days)]\n",
    "xticks = xticks[::max(1, len(xticks)//30)]\n",
    "for t in xticks: plt.axvline(x=t, c='gray', linewidth=0.5, zorder=0)\n",
    "plt.xticks(xticks, rotation=70)\n",
    "plt.xlim(start, end)\n",
    "plt.ylabel('$\\hat{Y}$', rotation=0, fontsize=14)\n",
    "plt.legend(loc=\"best\", fontsize=12)\n",
    "plt.title(f'{dataset} {scale} Testing Predictions', fontsize=16)\n",
    "plt.savefig(f'../data/figures/{scale}/{dataset}_{n_steps}_lag_multi_testing_performance.png')"
   ]
  },
  {
   "cell_type": "markdown",
   "metadata": {},
   "source": [
    "## Plot Training Error (Multivariate)"
   ]
  },
  {
   "cell_type": "code",
   "execution_count": null,
   "metadata": {},
   "outputs": [],
   "source": [
    "compare = params.keys()\n",
    "# l, u = (None, None) # lower and upper indices of range to plot - e.g. (None, 10000)\n",
    "# ds = max(1, len(y_train_full[l:u])//max_pts) # Downsampling ratio for under `max_pts`\n",
    "#                                         # per series.  Set `None` to disable.\n",
    "fig = plt.figure(figsize=(15,8))\n",
    "x_vals = y_train_timestamps[l:u:ds]\n",
    "for key in compare:\n",
    "    y_vals = params[key]['pred_train'][l:u:ds] - y_train_full[l:u:ds]\n",
    "    label = params[key]['label'] + ' (train MSE: %.2e)' % params[key]['MSE_train']\n",
    "    plt.plot(x_vals, y_vals, c=params[key]['color'], label=label, lw=1)\n",
    "start, end = x_vals.min(), x_vals.max()\n",
    "xticks =  [start.date() + timedelta(days=(1+i)) for i in range(1 + (end - start).days)]\n",
    "xticks = xticks[::max(1, len(xticks)//30)]\n",
    "plt.axhline(0, linewidth=0.8)\n",
    "for t in xticks: plt.axvline(x=t, c='gray', linewidth=0.5, zorder=0)\n",
    "plt.xticks(xticks, rotation=80)\n",
    "plt.xlim(start, end)\n",
    "plt.ylabel('$\\hat{Y}-Y$', fontsize=14)\n",
    "plt.legend(loc=\"best\", fontsize=12)\n",
    "plt.title(f'{dataset} {scale} Training Error', fontsize=16)\n",
    "plt.savefig(f'../data/figures/{scale}/{dataset}_{n_steps}_lag_multi_training_performance_difference.png')"
   ]
  },
  {
   "cell_type": "markdown",
   "metadata": {},
   "source": [
    "## Plot Testing Error (Multivariate)"
   ]
  },
  {
   "cell_type": "code",
   "execution_count": null,
   "metadata": {},
   "outputs": [],
   "source": [
    "compare = params.keys()\n",
    "\n",
    "fig = plt.figure(figsize=(15,8))\n",
    "x_vals = y_test_timestamps[l:u:ds]\n",
    "for key in compare:\n",
    "    y_vals = params[key]['pred_test'][l:u:ds] - y_test[l:u:ds]\n",
    "    label = params[key]['label'] + ' (test MSE: %.2e)' % params[key]['MSE_test']\n",
    "    plt.plot(x_vals, y_vals, c=params[key]['color'], label=label, lw=1)\n",
    "start, end = x_vals.min(), x_vals.max()\n",
    "xticks =  [start.date() + timedelta(days=(1+i)) for i in range(1 + (end - start).days)]\n",
    "xticks = xticks[::max(1, len(xticks)//30)]\n",
    "plt.axhline(0, linewidth=0.8)\n",
    "for t in xticks: plt.axvline(x=t, c='gray', linewidth=0.5, zorder=0)\n",
    "plt.xticks(xticks, rotation=80)\n",
    "plt.xlim(start, end)\n",
    "plt.ylabel('$\\hat{Y}-Y$', fontsize=14)\n",
    "plt.legend(loc=\"best\", fontsize=12)\n",
    "plt.title(f'{dataset} {scale} Testing Error', fontsize=16)\n",
    "plt.savefig(f'../data/figures/{scale}/{dataset}_{n_steps}_lag_multi_testing_performance_difference.png')"
   ]
  },
  {
   "cell_type": "markdown",
   "metadata": {},
   "source": [
    "# View Tensorboard"
   ]
  },
  {
   "cell_type": "code",
   "execution_count": null,
   "metadata": {},
   "outputs": [],
   "source": [
    "%load_ext tensorboard\n",
    "%tensorboard --logdir=./my_logs --port=6006"
   ]
  }
 ],
 "metadata": {
  "interpreter": {
   "hash": "fe24fa82ef0276aa3bebf6833b77a4deb33ded5956560b7688b0e7890d905389"
  },
  "kernelspec": {
   "display_name": "Python 3.8.10 64-bit ('neural_network': venv)",
   "language": "python",
   "name": "python3"
  },
  "language_info": {
   "codemirror_mode": {
    "name": "ipython",
    "version": 3
   },
   "file_extension": ".py",
   "mimetype": "text/x-python",
   "name": "python",
   "nbconvert_exporter": "python",
   "pygments_lexer": "ipython3",
   "version": "3.8.10"
  },
  "orig_nbformat": 4
 },
 "nbformat": 4,
 "nbformat_minor": 2
}
